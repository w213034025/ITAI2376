{
  "cells": [
    {
      "cell_type": "markdown",
      "metadata": {},
      "source": [
        "<center><img src=\"images/logo.png\" alt=\"drawing\" width=\"400\" style=\"background-color:white; padding:1em;\" /></center> <br/>\n",
        "\n",
        "# Application of Deep Learning to Text and Images\n",
        "## Module 2, Lab 3: GloVe Word Vectors\n",
        "\n",
        "This notebook supports the topics presented on on the __Word Embeddings__ lecture.\n",
        "\n",
        "In this lab you will learn how to use word embeddings. Word embeddings, or word vectors, are a way of representing words as numeric vectors in a high-dimensional space. These embeddings capture the meaning of the words, the relationships between them, and can be used as inputs to machine learning models for a variety of natural language processing tasks.\n",
        "\n",
        "The term __Word vectors__ refers to a family of related techniques, first gaining popularity via `Word2Vec` which associates an $n$-dimensional vector to every word in the target language.\n",
        "\n",
        "- __Note__: Normally $n$ is in the range of $50$ to $500$. In this lab, you will set it to $50$\n",
        "\n",
        "\n",
        "You will learn:\n",
        "- What GloVe word vectors are\n",
        "- How to load GloVe word vectors\n",
        "- How to use GloVe to produce word vectors\n",
        "- What cosine Similarity is\n",
        "- How to use cosine similarity to compare words\n",
        "\n",
        "---\n",
        "\n",
        "You will be presented with two kinds of exercises throughout the notebook: activities and challenges. <br/>\n",
        "\n",
        "| <img style=\"float: center;\" src=\"images/activity.png\" alt=\"Activity\" width=\"125\"/>| <img style=\"float: center;\" src=\"images/challenge.png\" alt=\"Challenge\" width=\"125\"/>|\n",
        "| --- | --- |\n",
        "|<p style=\"text-align:center;\">No coding is needed for an activity. You try to understand a concept, <br/>answer questions, or run a code cell.</p> |<p style=\"text-align:center;\">Challenges are where you can practice your coding skills.</p> |\n"
      ]
    },
    {
      "cell_type": "markdown",
      "metadata": {},
      "source": [
        "## Index\n",
        "\n",
        "1. [GloVe Word Vectors](#GloVe-Word-Vectors)\n",
        "1. [Cosine Similarity](#Cosine-Similarity)"
      ]
    },
    {
      "cell_type": "markdown",
      "metadata": {},
      "source": [
        "First, install the latest versions of the libraries."
      ]
    },
    {
      "cell_type": "code",
      "execution_count": null,
      "metadata": {
        "tags": []
      },
      "outputs": [],
      "source": [
        "# installing libraries\n",
        "!pip install -U -q -r requirements.txt"
      ]
    },
    {
      "cell_type": "code",
      "execution_count": null,
      "metadata": {
        "tags": []
      },
      "outputs": [],
      "source": [
        "from torchtext.vocab import GloVe\n",
        "\n",
        "#from torchtext.vocab import GloVe\n",
        "GloVe.url['6B'] = 'https://huggingface.co/stanfordnlp/glove/resolve/main/glove.6B.zip'\n",
        "\n",
        "from sklearn.decomposition import PCA\n",
        "from sklearn.metrics.pairwise import cosine_similarity\n",
        "\n",
        "%matplotlib inline\n",
        "import matplotlib.pyplot as plt"
      ]
    },
    {
      "cell_type": "markdown",
      "metadata": {},
      "source": [
        "## GloVe Word Vectors\n",
        "\n",
        "You learned about __Word2Vec__ and __FastText__ as word embedding techniques. Now you will use a set of pre-trained word embeddings. Pre-trained embeddings are created by someone else who took the time and computational power to train. This reduces your cost by not having to train the model yourself. One popular word embedding is __GloVe__ embeddings. GloVe is a variation of a Word2Vec model. To learn more about GloVe, read the [Project GloVe](https://nlp.stanford.edu/projects/glove/) website.\n",
        "\n",
        "In this exercise, you will discover relationships between word vectors using the GloVe embeddings. "
      ]
    },
    {
      "cell_type": "markdown",
      "metadata": {},
      "source": [
        "You can easily import GloVe embeddings from the Torchtext library. Here, you will get vectors with $50$ dimensions. \n",
        "\n",
        "The `name` parameter refers to the particular pre-trained model that should be loaded: \n",
        "\n",
        "- Wikipedia 2014 + Gigaword 5 \n",
        "    - 6B tokens, 400K vocab, uncased, 50d, 100d, 200d, & 300d vectors, 822 MB download: `\"6B\"` \n",
        "    - This is the model that you will load.\n",
        "- Common Crawl \n",
        "    - 42B tokens, 1.9M vocab, uncased, 300d vectors, 1.75 GB download: `\"42B\"`\n",
        "- Common Crawl \n",
        "    - 840B tokens, 2.2M vocab, cased, 300d vectors, 2.03 GB download: `\"840B\"`\n",
        "- Etc \n",
        "    - See documentation in Stanford link above"
      ]
    },
    {
      "cell_type": "markdown",
      "metadata": {},
      "source": [
        "<div style=\"border: 4px solid coral; text-align: center; margin: auto;\">\n",
        "    <h2><i>Try it Yourself!</i></h2>\n",
        "    <br>\n",
        "    <p style=\"text-align:center;margin:auto;\"><img src=\"images/activity.png\" alt=\"Activity\" width=\"100\" /> </p>\n",
        "    <p style=\" text-align: center; margin: auto;\">Run the cell below to load the GloVe embedding model and select the dimension.</p>\n",
        "    <br>\n",
        "</div>"
      ]
    },
    {
      "cell_type": "code",
      "execution_count": null,
      "metadata": {
        "tags": []
      },
      "outputs": [],
      "source": [
        "# Load the model. You can change dim to 50, 100, 300\n",
        "glove = GloVe(name=\"6B\", dim=50)"
      ]
    },
    {
      "cell_type": "markdown",
      "metadata": {},
      "source": [
        "Now that the data is loaded, you can access it and print example word embeddings."
      ]
    },
    {
      "cell_type": "code",
      "execution_count": null,
      "metadata": {
        "tags": []
      },
      "outputs": [],
      "source": [
        "print(f\"cat -> {glove['cat']}\\n\")"
      ]
    },
    {
      "cell_type": "markdown",
      "metadata": {},
      "source": [
        "What do these numbers mean? \n",
        "\n",
        "You might notice that the tensor has 50 values in it. This is related to the dimension flag (`dim=50`) you set when you loaded the GloVe model. You can generate word embeddings for several words and use them to determine how closely related words are. This is a task that machine learning is really good at."
      ]
    },
    {
      "cell_type": "markdown",
      "metadata": {},
      "source": [
        "<div style=\"border: 4px solid coral; text-align: center; margin: auto;\"> \n",
        "    <h2><i>Try it Yourself!</i></h2>\n",
        "    <p style=\"text-align:center; margin:auto;\"><img src=\"images/challenge.png\" alt=\"Challenge\" width=\"100\" /> </p>\n",
        "    <p style=\" text-align: center; margin: auto;\">In the code block below, generate word embeddings for the words \"computer\" and \"human\" using pre-trained GloVe embedding.</p>\n",
        "    <br>\n",
        "</div>\n"
      ]
    },
    {
      "cell_type": "code",
      "execution_count": null,
      "metadata": {
        "tags": []
      },
      "outputs": [],
      "source": [
        "############## CODE HERE ###############\n",
        "\n",
        "\n",
        "\n",
        "############## END OF CODE ##################"
      ]
    },
    {
      "cell_type": "markdown",
      "metadata": {},
      "source": [
        "## Cosine Similarity\n",
        "\n",
        "You learned about cosine similarity in class, now let's look at an example. Use the [cosine_similarity()](https://scikit-learn.org/stable/modules/generated/sklearn.metrics.pairwise.cosine_similarity.html) function from scikit-learn to easily calculate cosine similarity between word vectors."
      ]
    },
    {
      "cell_type": "markdown",
      "metadata": {},
      "source": [
        "<div style=\"border: 4px solid coral; text-align: center; margin: auto;\">\n",
        "    <h2><i>Try it Yourself!</i></h2>\n",
        "    <br>\n",
        "    <p style=\"text-align:center;margin:auto;\"><img src=\"images/activity.png\" alt=\"Activity\" width=\"100\" /> </p>\n",
        "    <p style=\" text-align: center; margin: auto;\">Run the cell below to calculate cosine similarity between word vectors.</p>\n",
        "    <br>\n",
        "</div>"
      ]
    },
    {
      "cell_type": "code",
      "execution_count": null,
      "metadata": {
        "tags": []
      },
      "outputs": [],
      "source": [
        "# define the similarity between two words\n",
        "def similarity(w1, w2):\n",
        "    return cosine_similarity([glove[w1].tolist()], [glove[w2].tolist()])\n",
        "\n",
        "\n",
        "# Say if w1 is closer to w2 than w3\n",
        "def simCompare(w1, w2, w3):\n",
        "    s1 = similarity(w1, w2)\n",
        "    s2 = similarity(w1, w3)\n",
        "    if s1 > s2:\n",
        "        print(f\"'{w1}'\\tis closer to\\t'{w2}'\\tthan\\t'{w3}'\\n\")\n",
        "    else:\n",
        "        print(f\"'{w1}'\\tis closer to\\t'{w3}'\\tthan\\t'{w2}'\\n\")"
      ]
    },
    {
      "cell_type": "code",
      "execution_count": null,
      "metadata": {
        "tags": []
      },
      "outputs": [],
      "source": [
        "simCompare(\"actor\", \"pen\", \"film\")\n",
        "simCompare(\"cat\", \"dog\", \"sea\")"
      ]
    },
    {
      "cell_type": "markdown",
      "metadata": {},
      "source": [
        "<div style=\"border: 4px solid coral; text-align: center; margin: auto;\"> \n",
        "    <h2><i>Try it Yourself!</i></h2>\n",
        "    <p style=\"text-align:center; margin:auto;\"><img src=\"images/challenge.png\" alt=\"Challenge\" width=\"100\" /> </p>\n",
        "    <p style=\" text-align: center; margin: auto;\">Write code to determine if \"car\" is closer to \"truck\" than \"bike\".</p>\n",
        "    <br>\n",
        "</div>\n"
      ]
    },
    {
      "cell_type": "code",
      "execution_count": null,
      "metadata": {
        "tags": []
      },
      "outputs": [],
      "source": [
        "############## CODE HERE ###############\n",
        "\n",
        "\n",
        "\n",
        "############## END OF CODE ##################"
      ]
    },
    {
      "cell_type": "markdown",
      "metadata": {},
      "source": [
        "----\n",
        "## Conclusion\n",
        "\n",
        "You have now seen how to use word embeddings and determine relationships between word vectors using the GloVe embeddings. \n",
        "\n",
        "--- \n",
        "## Next Lab: Word Embeddings\n",
        "In the next lab of this module you will learn how to build a recurrent neural network (RNN) with PyTorch. It will also show you how to implement a simple RNN-based model for natural language processing.\n"
      ]
    }
  ],
  "metadata": {
    "kernelspec": {
      "display_name": "conda_pytorch_p310",
      "language": "python",
      "name": "conda_pytorch_p310"
    },
    "language_info": {
      "codemirror_mode": {
        "name": "ipython",
        "version": 3
      },
      "file_extension": ".py",
      "mimetype": "text/x-python",
      "name": "python",
      "nbconvert_exporter": "python",
      "pygments_lexer": "ipython3",
      "version": "3.10.13"
    }
  },
  "nbformat": 4,
  "nbformat_minor": 4
}

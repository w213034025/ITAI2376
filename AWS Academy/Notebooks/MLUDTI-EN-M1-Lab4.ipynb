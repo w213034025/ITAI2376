{
 "cells": [
  {
   "attachments": {},
   "cell_type": "markdown",
   "metadata": {
    "tags": []
   },
   "source": [
    "<center><img src=\"logo.png\" alt=\"AWS Logo\" width=\"400\" style=\"background-color:white; padding:1em;\" /></center> <br/>\n",
    "\n",
    "# Application of Deep Learning to Text and Image Data\n",
    "## Module 1, Lab 4: Introducing CNNs\n",
    "\n",
    "In the previous labs, you used neural networks to predict the target field of a given dataset. You used a feed-forward neural network for a multiclass classification task using images as inputs.\n",
    "\n",
    "Now you will use a convolutional neural network (CNN) that is specialized to extract useful information from images. You will train and evaluate this network on a dataset of handwritten digits, and you will try to predict a number that is represented in an image.\n",
    "\n",
    "You will learn how to do the following:\n",
    "\n",
    "- Build a CNN.\n",
    "- Train a CNN.\n",
    "- Test the performance of a CNN.\n",
    "\n",
    "---\n",
    "\n",
    "You will be presented with two kinds of exercises throughout the notebook: activities and challenges. <br/>\n",
    "\n",
    "| <img style=\"float: center;\" src=\"images/activity.png\" alt=\"Activity\" width=\"125\"/>| <img style=\"float: center;\" src=\"images/challenge.png\" alt=\"Challenge\" width=\"125\"/>|\n",
    "| --- | --- |\n",
    "|<p style=\"text-align:center;\">No coding is needed for an activity. You try to understand a concept, <br/>answer questions, or run a code cell.</p> |<p style=\"text-align:center;\">Challenges are where you can practice your coding skills.</p> |\n"
   ]
  },
  {
   "cell_type": "markdown",
   "metadata": {},
   "source": [
    "---\n",
    "## Index\n",
    "\n",
    "* [MNIST dataset](#MNIST-dataset)\n",
    "* [Creating a CNN](#Creating-a-CNN)\n",
    "* [Training the network](#Training-the-network)\n",
    "* [Testing the network](#Testing-the-network)"
   ]
  },
  {
   "cell_type": "markdown",
   "metadata": {},
   "source": [
    "---\n",
    "## MNIST dataset\n",
    "\n",
    "The [MNIST dataset](http://yann.lecun.com/exdb/mnist) is a large collection of handwritten digits. Each example contains a pixel map showing how a person wrote a digit. The images have been size-normalized and centered with fixed dimensions. The labels correspond to the digit in the image, ranging from 0 to 9. This is a multiclass classification task with 10 output classes.\n",
    "\n",
    "<img src=\"images/MnistExamples.png\" alt=\"MNIST Examples\" />\n",
    "\n",
    "First, download the MNIST dataset."
   ]
  },
  {
   "cell_type": "code",
   "execution_count": 1,
   "metadata": {},
   "outputs": [],
   "source": [
    "%%capture\n",
    "# Install libraries\n",
    "!pip install -U -q -r requirements.txt"
   ]
  },
  {
   "cell_type": "code",
   "execution_count": 2,
   "metadata": {},
   "outputs": [
    {
     "name": "stderr",
     "output_type": "stream",
     "text": [
      "Matplotlib is building the font cache; this may take a moment.\n"
     ]
    }
   ],
   "source": [
    "# Import the library dependencies\n",
    "import boto3\n",
    "import os\n",
    "import pandas as pd\n",
    "\n",
    "%matplotlib inline\n",
    "import matplotlib.pyplot as plt\n",
    "import numpy as np\n",
    "import torch\n",
    "from torch import nn\n",
    "import torchvision\n",
    "from torchvision import transforms\n",
    "from torchvision.datasets import ImageFolder\n",
    "from torch.optim import SGD"
   ]
  },
  {
   "cell_type": "code",
   "execution_count": 3,
   "metadata": {
    "tags": []
   },
   "outputs": [
    {
     "name": "stdout",
     "output_type": "stream",
     "text": [
      "Downloading http://yann.lecun.com/exdb/mnist/train-images-idx3-ubyte.gz\n",
      "Downloading http://yann.lecun.com/exdb/mnist/train-images-idx3-ubyte.gz to data/MNIST/raw/train-images-idx3-ubyte.gz\n"
     ]
    },
    {
     "name": "stderr",
     "output_type": "stream",
     "text": [
      "100%|██████████| 9912422/9912422 [00:00<00:00, 145588001.74it/s]\n"
     ]
    },
    {
     "name": "stdout",
     "output_type": "stream",
     "text": [
      "Extracting data/MNIST/raw/train-images-idx3-ubyte.gz to data/MNIST/raw\n",
      "\n",
      "Downloading http://yann.lecun.com/exdb/mnist/train-labels-idx1-ubyte.gz\n",
      "Downloading http://yann.lecun.com/exdb/mnist/train-labels-idx1-ubyte.gz to data/MNIST/raw/train-labels-idx1-ubyte.gz\n"
     ]
    },
    {
     "name": "stderr",
     "output_type": "stream",
     "text": [
      "100%|██████████| 28881/28881 [00:00<00:00, 75192857.74it/s]\n"
     ]
    },
    {
     "name": "stdout",
     "output_type": "stream",
     "text": [
      "Extracting data/MNIST/raw/train-labels-idx1-ubyte.gz to data/MNIST/raw\n",
      "\n",
      "Downloading http://yann.lecun.com/exdb/mnist/t10k-images-idx3-ubyte.gz\n",
      "Downloading http://yann.lecun.com/exdb/mnist/t10k-images-idx3-ubyte.gz to data/MNIST/raw/t10k-images-idx3-ubyte.gz\n"
     ]
    },
    {
     "name": "stderr",
     "output_type": "stream",
     "text": [
      "100%|██████████| 1648877/1648877 [00:00<00:00, 48880393.80it/s]\n"
     ]
    },
    {
     "name": "stdout",
     "output_type": "stream",
     "text": [
      "Extracting data/MNIST/raw/t10k-images-idx3-ubyte.gz to data/MNIST/raw\n",
      "\n",
      "Downloading http://yann.lecun.com/exdb/mnist/t10k-labels-idx1-ubyte.gz\n",
      "Downloading http://yann.lecun.com/exdb/mnist/t10k-labels-idx1-ubyte.gz to data/MNIST/raw/t10k-labels-idx1-ubyte.gz\n"
     ]
    },
    {
     "name": "stderr",
     "output_type": "stream",
     "text": [
      "100%|██████████| 4542/4542 [00:00<00:00, 11496999.86it/s]\n"
     ]
    },
    {
     "name": "stdout",
     "output_type": "stream",
     "text": [
      "Extracting data/MNIST/raw/t10k-labels-idx1-ubyte.gz to data/MNIST/raw\n",
      "\n",
      "Training data shape: [60000, 28, 28]. \n",
      "Test data shape: [10000, 28, 28]\n"
     ]
    }
   ],
   "source": [
    "# Load the train data (it's included in the torchvision library)\n",
    "train_data = torchvision.datasets.MNIST(\n",
    "    root=\"data\", train=True, transform=transforms.ToTensor(), download=True\n",
    ")\n",
    "\n",
    "# Load the test data (it's included in the torchvision library)\n",
    "test_data = torchvision.datasets.MNIST(\n",
    "    root=\"data\", train=False, transform=transforms.ToTensor(), download=True\n",
    ")\n",
    "\n",
    "# Print the dimensions of the datasets\n",
    "print(\n",
    "    \"Training data shape: {}. \\nTest data shape: {}\".format(\n",
    "        list(train_data.data.shape), list(test_data.data.shape)\n",
    "    )\n",
    ")"
   ]
  },
  {
   "cell_type": "markdown",
   "metadata": {},
   "source": [
    "<div style=\"border: 4px solid coral; text-align: center; margin: auto;\">\n",
    "    <h3><i>Try it yourself!</i></h3>\n",
    "    <br>\n",
    "    <p style=\"text-align:center;margin:auto;\"><img src=\"images/activity.png\" alt=\"Activity\" width=\"100\" /> </p>\n",
    "    <p style=\" text-align: center; margin: auto;\">To observe a sample image from the MNIST dataset, run the following cell. The image is labeled with the digit that is present in the sample image.</p>\n",
    "    <br>\n",
    "</div>"
   ]
  },
  {
   "cell_type": "code",
   "execution_count": 4,
   "metadata": {
    "tags": []
   },
   "outputs": [
    {
     "data": {
      "text/plain": [
       "Text(0.5, 1.0, 'Image with target: 2')"
      ]
     },
     "execution_count": 4,
     "metadata": {},
     "output_type": "execute_result"
    },
    {
     "data": {
      "image/png": "[encoded data removed]",
      "text/plain": [
       "<Figure size 640x480 with 1 Axes>"
      ]
     },
     "metadata": {},
     "output_type": "display_data"
    }
   ],
   "source": [
    "# Show an example image\n",
    "plt.imshow(train_data.data[5], cmap=\"gray\")\n",
    "plt.title(\"Image with target: %i\" % train_data.targets[5])"
   ]
  },
  {
   "cell_type": "markdown",
   "metadata": {},
   "source": [
    "---\n",
    "## Creating a CNN\n",
    "\n",
    "Convolutional neural networks (CNNs) are popular with image data. The network automatically extracts useful features from images, such as edges, contours, and objects.\n",
    "\n",
    "This lab introduces CNNs, but the details of CNNs will be discussed in a later module.\n",
    "\n",
    "CNNs require minimal preprocessing compared to older algorithms, such as feed-forward neural networks, that are used for computer vision. Although feed-forward neural networks can still be used with image data, CNNs can capture the spatial and temporal properties in an image with a significant reduction in the number of parameters. In this notebook, you will use a simple CNN to extract information from image data.\n",
    "\n",
    "You will use PyTorch's [Conv2D layer](https://pytorch.org/docs/stable/generated/torch.nn.Conv2d.html) with the following interface to process the images:\n",
    "\n",
    "`nn.Conv2d(in_channels, out_channels, kernel_size, stride=1, ...) `\n",
    "\n",
    "Parameter definitions:\n",
    "* __in\\_channels (int):__ Number of channels in the input image\n",
    "* __out\\_channels (int):__ Number of channels that are produced by the convolution\n",
    "* __kernel\\_size (int or tuple):__ Size of the convolving kernel\n",
    "* __stride (int or tuple, optional):__ Stride of the convolution (default is 1)\n",
    "\n",
    "The output dimension of the Conv2D layer can be calculated using the following formula:\n",
    "\n",
    "`((W - K + 2P)/S + 1)`\n",
    "\n",
    "Where:\n",
    "- W = Input size\n",
    "- K = Kernel size\n",
    "- S = Stride\n",
    "- P = Padding (not used in the notebook)\n",
    "\n",
    "Example: \n",
    "\n",
    "For an `image of size = (28x28)`, `kernel size = 3` , `stride = 1`, and `padding = 0`, the output dimension is `(28 - 3 + 0)/1 + 1 = 26`. \n",
    "\n",
    "With `out_channels = 1`, the output dimension is `(26, 26)`.\n",
    "\n",
    "With `out_channels = 3`, the output dimension is `(26, 26, 3)`."
   ]
  },
  {
   "cell_type": "code",
   "execution_count": 6,
   "metadata": {
    "tags": []
   },
   "outputs": [],
   "source": [
    "# Define hyperparameters\n",
    "batch_size = 100  # Size of input data for one iteration\n",
    "num_classes = 10  # Number of output classes, discrete range [0,9]\n",
    "num_epochs = (\n",
    "    10  # Number of times that the entire dataset is passed through the model\n",
    ")\n",
    "\n",
    "# Learning Rate\n",
    "lr = 1e-3\n",
    "\n",
    "# Use GPU if available; otherwise, use CPU\n",
    "device = torch.device(\"cuda:0\" if torch.cuda.is_available() else \"cpu\")\n",
    "\n",
    "# Use PyTorch DataLoaders to load the data in batches\n",
    "train_loader = torch.utils.data.DataLoader(\n",
    "    dataset=train_data, batch_size=batch_size, shuffle=True, drop_last=True\n",
    ")\n",
    "\n",
    "# Repeat for test dataset\n",
    "test_loader = torch.utils.data.DataLoader(\n",
    "    dataset=test_data, batch_size=batch_size, shuffle=False\n",
    ")"
   ]
  },
  {
   "cell_type": "markdown",
   "metadata": {},
   "source": [
    "<div style=\"border: 4px solid coral; text-align: center; margin: auto;\"> \n",
    "  <h3><i>Try it yourself!</i></h3>\n",
    "  <p style=\"text-align:center; margin:auto;\"><img src=\"images/challenge.png\" alt=\"Challenge\" width=\"100\" /> </p>\n",
    "  <p style=\" text-align: center; \">Create a neural network with a 2D convolutional layer and the following attributes:</p>\n",
    "  <div style=\"width:600px; margin: 0 auto;\">\n",
    "    <ul style=\"text-align:left\">\n",
    "    <li>Conv2D layer with <code>in_channel=1</code>, <code>out_channel=32</code>, and <code>kernel_size=3</code></li>\n",
    "    <li>Flatten the layer to squash the data into a one-dimensional tensor</li>\n",
    "    <li>Linear layer with 128 units</li>\n",
    "    <li>One output layer</li>\n",
    "    <li>Softmax activation function for the output layer</li>\n",
    "    </ul>\n",
    "  </div>\n",
    "</div>"
   ]
  },
  {
   "cell_type": "code",
   "execution_count": 8,
   "metadata": {
    "tags": []
   },
   "outputs": [
    {
     "data": {
      "text/plain": [
       "Sequential(\n",
       "  (0): Conv2d(1, 32, kernel_size=(3, 3), stride=(1, 1))\n",
       "  (1): ReLU()\n",
       "  (2): Flatten(start_dim=1, end_dim=-1)\n",
       "  (3): Linear(in_features=21632, out_features=128, bias=True)\n",
       "  (4): ReLU()\n",
       "  (5): Linear(in_features=128, out_features=10, bias=True)\n",
       "  (6): Softmax(dim=1)\n",
       ")"
      ]
     },
     "execution_count": 8,
     "metadata": {},
     "output_type": "execute_result"
    }
   ],
   "source": [
    "input_size = 26 * 26 * 32  # Flattened dimension for the linear layer\n",
    "\n",
    "############### CODE HERE ###############\n",
    "\n",
    "import torch.nn.functional as F\n",
    "\n",
    "net = nn.Sequential(\n",
    "    nn.Conv2d(in_channels = 1, out_channels = 32, kernel_size = 3),     # Layer 1\n",
    "    nn.ReLU(),\n",
    "    nn.Flatten(start_dim = 1),    # squash to 1d tensor\n",
    "    nn.Linear(input_size, 128),  # Linear layer with 128 units\n",
    "    nn.ReLU(),\n",
    "    nn.Linear(128, num_classes),  # Output layer 10 units\n",
    "    nn.Softmax(dim=1)  # Softmax activation function for the output layer\n",
    ").to(device)\n",
    "\n",
    "############## END OF CODE ##############\n",
    "\n",
    "def xavier_init_weights(m):\n",
    "    if type(m) == nn.Linear:\n",
    "        torch.nn.init.xavier_uniform_(m.weight)\n",
    "\n",
    "# Initialize weights/parameters for the network\n",
    "net.apply(xavier_init_weights)"
   ]
  },
  {
   "cell_type": "code",
   "execution_count": 9,
   "metadata": {
    "tags": []
   },
   "outputs": [],
   "source": [
    "# Define the loss function and the optimizer\n",
    "\n",
    "# Choose cross-entropy loss for this classification problem\n",
    "loss = nn.CrossEntropyLoss()\n",
    "\n",
    "# Choose the Adam optimizer. You can also experiment with other optimizers.\n",
    "optimizer = torch.optim.Adam(net.parameters(), lr=lr)"
   ]
  },
  {
   "cell_type": "markdown",
   "metadata": {
    "tags": []
   },
   "source": [
    "---\n",
    "## Training the network\n",
    "\n",
    "Now you are ready to train the CNN."
   ]
  },
  {
   "cell_type": "code",
   "execution_count": 10,
   "metadata": {
    "tags": []
   },
   "outputs": [
    {
     "name": "stdout",
     "output_type": "stream",
     "text": [
      "Epoch 0. Train_loss 1.675306 Seconds 29.086082\n",
      "Epoch 1. Train_loss 1.580601 Seconds 6.397759\n",
      "Epoch 2. Train_loss 1.543787 Seconds 6.449526\n",
      "Epoch 3. Train_loss 1.480026 Seconds 6.543799\n",
      "Epoch 4. Train_loss 1.474473 Seconds 6.390218\n",
      "Epoch 5. Train_loss 1.471681 Seconds 6.397176\n",
      "Epoch 6. Train_loss 1.470210 Seconds 6.383377\n",
      "Epoch 7. Train_loss 1.468701 Seconds 6.370008\n",
      "Epoch 8. Train_loss 1.467971 Seconds 6.379450\n",
      "Epoch 9. Train_loss 1.466843 Seconds 6.379603\n"
     ]
    }
   ],
   "source": [
    "import time\n",
    "\n",
    "# Network training and validation\n",
    "\n",
    "# Start the outer epoch loop (epoch = full pass through the dataset)\n",
    "for epoch in range(num_epochs):\n",
    "    start = time.time()\n",
    "\n",
    "    training_loss = 0.0\n",
    "\n",
    "    # Training loop (with autograd and trainer steps)\n",
    "    # This loop trains the neural network\n",
    "    # Weights are updated here\n",
    "    net.train()  # Activate training mode (dropouts and so on)\n",
    "    for images, target in train_loader:\n",
    "        # Zero the parameter gradients\n",
    "        optimizer.zero_grad()\n",
    "        images = images.to(device)\n",
    "        target = target.to(device)\n",
    "        # Forward + backward + optimize\n",
    "        output = net(images)\n",
    "        L = loss(output, target)\n",
    "        L.backward()\n",
    "        optimizer.step()\n",
    "        # Add batch loss\n",
    "        training_loss += L.item()\n",
    "\n",
    "    # Take the average losses\n",
    "    training_loss = training_loss / len(train_loader)\n",
    "\n",
    "    end = time.time()\n",
    "    print(\"Epoch %s. Train_loss %f Seconds %f\" % (epoch, training_loss, end - start))"
   ]
  },
  {
   "cell_type": "markdown",
   "metadata": {
    "tags": []
   },
   "source": [
    "---\n",
    "## Testing the network\n",
    "\n",
    "Finally, evaluate the performance of the trained network on the test set."
   ]
  },
  {
   "cell_type": "code",
   "execution_count": 11,
   "metadata": {
    "tags": []
   },
   "outputs": [
    {
     "name": "stdout",
     "output_type": "stream",
     "text": [
      "              precision    recall  f1-score   support\n",
      "\n",
      "           0       0.98      1.00      0.99       980\n",
      "           1       1.00      0.99      0.99      1135\n",
      "           2       0.98      0.99      0.98      1032\n",
      "           3       0.97      0.99      0.98      1010\n",
      "           4       0.98      0.99      0.99       982\n",
      "           5       0.99      0.96      0.98       892\n",
      "           6       0.99      0.98      0.98       958\n",
      "           7       0.98      0.98      0.98      1028\n",
      "           8       0.96      0.98      0.97       974\n",
      "           9       0.99      0.96      0.98      1009\n",
      "\n",
      "    accuracy                           0.98     10000\n",
      "   macro avg       0.98      0.98      0.98     10000\n",
      "weighted avg       0.98      0.98      0.98     10000\n",
      "\n"
     ]
    }
   ],
   "source": [
    "from sklearn.metrics import classification_report\n",
    "\n",
    "net.eval()  # Activate eval mode (don't use dropouts and such)\n",
    "\n",
    "# Get test predictions\n",
    "predictions, labels = [], []\n",
    "for images, target in test_loader:\n",
    "    images = images.to(device)\n",
    "    target = target.to(device)\n",
    "\n",
    "    predictions.extend(net(images).argmax(axis=1).tolist())\n",
    "    labels.extend(target.tolist())\n",
    "\n",
    "# Print performance on the test data\n",
    "print(classification_report(labels, predictions, zero_division=1))"
   ]
  },
  {
   "cell_type": "markdown",
   "metadata": {},
   "source": [
    "----\n",
    "## Conclusion\n",
    "\n",
    "In this notebook, you practiced using a CNN. \n",
    "\n",
    "--- \n",
    "## Next Lab: Processing text\n",
    "In the next lab you will learn how to do more advanced text processing."
   ]
  }
 ],
 "metadata": {
  "instance_type": "ml.t3.medium",
  "kernelspec": {
   "display_name": "Python 3 (ipykernel)",
   "language": "python",
   "name": "python3"
  },
  "language_info": {
   "codemirror_mode": {
    "name": "ipython",
    "version": 3
   },
   "file_extension": ".py",
   "mimetype": "text/x-python",
   "name": "python",
   "nbconvert_exporter": "python",
   "pygments_lexer": "ipython3",
   "version": "3.8.18"
  },
  "toc": {
   "base_numbering": 1,
   "nav_menu": {},
   "number_sections": true,
   "sideBar": true,
   "skip_h1_title": false,
   "title_cell": "Table of Contents",
   "title_sidebar": "Contents",
   "toc_cell": false,
   "toc_position": {},
   "toc_section_display": true,
   "toc_window_display": false
  }
 },
 "nbformat": 4,
 "nbformat_minor": 4
}

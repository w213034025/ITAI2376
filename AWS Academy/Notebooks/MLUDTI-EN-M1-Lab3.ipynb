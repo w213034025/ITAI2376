{
 "cells": [
  {
   "cell_type": "markdown",
   "metadata": {},
   "source": [
    "<center><img src=\"images/logo.png\" alt=\"drawing\" width=\"400\" style=\"background-color:white; padding:1em;\" /></center> <br/>\n",
    "\n",
    "# Application of Deep Learning to Text and Image Data\n",
    "## Module 1, Lab 3: Building an End-to-End Neural Network Solution\n",
    "\n",
    "In the previous lab, you used a neural network with image data to predict the category that an item belonged to. In this lab, you will process text data by building an end-to-end neural network solution. The solution will incorporate all the data processing techniques that you have learned so far. \n",
    "\n",
    "You will learn how to do the following:\n",
    "\n",
    "- Import and preprocess data.\n",
    "- Create a neural network with multiple layers.\n",
    "- Train text data with your neural network.\n",
    "- Validate your model as you train.\n",
    "- Change different parameters to improve your neural network.\n",
    "\n",
    "---\n",
    "\n",
    "__Austin Animal Center Dataset__\n",
    "\n",
    "In this lab, you will work with historical pet adoption data in the [Austin Animal Center Shelter Intakes and Outcomes dataset](https://www.kaggle.com/datasets/aaronschlegel/austin-animal-center-shelter-intakes-and-outcomes?resource=download). The target field of the dataset (**Outcome Type**) is the outcome of adoption: 1 for adopted and 0 for not adopted. Multiple features are used in the dataset.\n",
    "\n",
    "Dataset schema:\n",
    "- __Pet ID:__ Unique ID of the pet\n",
    "- __Outcome Type:__ State of pet at the time of recording the outcome (0 = not placed, 1 = placed). This is the field to predict.\n",
    "- __Sex upon Outcome:__ Sex of pet at outcome\n",
    "- __Name:__ Name of pet \n",
    "- __Found Location:__ Found location of pet before it entered the shelter\n",
    "- __Intake Type:__ Circumstances that brought the pet to the shelter\n",
    "- __Intake Condition:__ Health condition of the pet when it entered the shelter\n",
    "- __Pet Type:__ Type of pet\n",
    "- __Sex upon Intake:__ Sex of pet when it entered the shelter\n",
    "- __Breed:__ Breed of pet \n",
    "- __Color:__ Color of pet \n",
    "- __Age upon Intake Days:__ Age (days) of pet when it entered the shelter\n",
    "- __Age upon Outcome Days:__ Age (days) of pet at outcome\n",
    "\n",
    "---\n",
    "\n",
    "You will be presented with two kinds of exercises throughout the notebook: activities and challenges. <br/>\n",
    "\n",
    "| <img style=\"float: center;\" src=\"images/activity.png\" alt=\"Activity\" width=\"125\"/>| <img style=\"float: center;\" src=\"images/challenge.png\" alt=\"Challenge\" width=\"125\"/>|\n",
    "| --- | --- |\n",
    "|<p style=\"text-align:center;\">No coding is needed for an activity. You try to understand a concept, <br/>answer questions, or run a code cell.</p> |<p style=\"text-align:center;\">Challenges are where you can practice your coding skills.</p> |\n"
   ]
  },
  {
   "cell_type": "markdown",
   "metadata": {},
   "source": [
    "---\n",
    "## Index\n",
    "\n",
    "* [Data processing](#Data-processing)\n",
    "* [Training and validation of a neural network](#Training-and-validation-of-a-neural-network)\n",
    "* [Testing the neural network](#Testing-the-neural-network)\n",
    "* [Improvement ideas](#Improvement-ideas)"
   ]
  },
  {
   "cell_type": "markdown",
   "metadata": {
    "tags": []
   },
   "source": [
    "---\n",
    "## Data processing\n",
    "\n",
    "The first step is to process the dataset."
   ]
  },
  {
   "cell_type": "code",
   "execution_count": 1,
   "metadata": {
    "tags": []
   },
   "outputs": [
    {
     "name": "stdout",
     "output_type": "stream",
     "text": [
      "scikit-learn==1.3.2\n",
      "torch==2.0.1\n",
      "torchvision==0.15.2\n",
      "matplotlib==3.7.2\n",
      "seaborn==0.13.1\n",
      "numpy==1.23.5\n",
      "pandas==2.0.3\n",
      "nltk==3.8.1"
     ]
    }
   ],
   "source": [
    "!cat requirements.txt"
   ]
  },
  {
   "cell_type": "code",
   "execution_count": 2,
   "metadata": {
    "tags": []
   },
   "outputs": [
    {
     "name": "stdout",
     "output_type": "stream",
     "text": [
      "Requirement already satisfied: nltk in /home/ec2-user/anaconda3/envs/pytorch_p310/lib/python3.10/site-packages (3.8.1)\n",
      "Requirement already satisfied: click in /home/ec2-user/anaconda3/envs/pytorch_p310/lib/python3.10/site-packages (from nltk) (8.1.7)\n",
      "Requirement already satisfied: joblib in /home/ec2-user/anaconda3/envs/pytorch_p310/lib/python3.10/site-packages (from nltk) (1.3.2)\n",
      "Requirement already satisfied: regex>=2021.8.3 in /home/ec2-user/anaconda3/envs/pytorch_p310/lib/python3.10/site-packages (from nltk) (2023.12.25)\n",
      "Requirement already satisfied: tqdm in /home/ec2-user/anaconda3/envs/pytorch_p310/lib/python3.10/site-packages (from nltk) (4.66.1)\n"
     ]
    }
   ],
   "source": [
    "!pip install nltk"
   ]
  },
  {
   "cell_type": "code",
   "execution_count": 3,
   "metadata": {
    "tags": []
   },
   "outputs": [
    {
     "name": "stdout",
     "output_type": "stream",
     "text": [
      "Requirement already satisfied: boto3 in /home/ec2-user/anaconda3/envs/pytorch_p310/lib/python3.10/site-packages (1.34.3)\n",
      "Requirement already satisfied: botocore<1.35.0,>=1.34.3 in /home/ec2-user/anaconda3/envs/pytorch_p310/lib/python3.10/site-packages (from boto3) (1.34.3)\n",
      "Requirement already satisfied: jmespath<2.0.0,>=0.7.1 in /home/ec2-user/anaconda3/envs/pytorch_p310/lib/python3.10/site-packages (from boto3) (1.0.1)\n",
      "Requirement already satisfied: s3transfer<0.10.0,>=0.9.0 in /home/ec2-user/anaconda3/envs/pytorch_p310/lib/python3.10/site-packages (from boto3) (0.9.0)\n",
      "Requirement already satisfied: python-dateutil<3.0.0,>=2.1 in /home/ec2-user/anaconda3/envs/pytorch_p310/lib/python3.10/site-packages (from botocore<1.35.0,>=1.34.3->boto3) (2.8.2)\n",
      "Requirement already satisfied: urllib3<2.1,>=1.25.4 in /home/ec2-user/anaconda3/envs/pytorch_p310/lib/python3.10/site-packages (from botocore<1.35.0,>=1.34.3->boto3) (1.26.18)\n",
      "Requirement already satisfied: six>=1.5 in /home/ec2-user/anaconda3/envs/pytorch_p310/lib/python3.10/site-packages (from python-dateutil<3.0.0,>=2.1->botocore<1.35.0,>=1.34.3->boto3) (1.16.0)\n"
     ]
    }
   ],
   "source": [
    "!pip install boto3"
   ]
  },
  {
   "cell_type": "code",
   "execution_count": 4,
   "metadata": {
    "tags": []
   },
   "outputs": [],
   "source": [
    "# Install libraries\n",
    "#!pip install -U -q -r requirements.txt"
   ]
  },
  {
   "cell_type": "code",
   "execution_count": 5,
   "metadata": {
    "tags": []
   },
   "outputs": [],
   "source": [
    "# Import the dependencies\n",
    "import boto3\n",
    "import os\n",
    "from os import path\n",
    "import pandas as pd\n",
    "\n",
    "%matplotlib inline\n",
    "import matplotlib.pyplot as plt\n",
    "import numpy as np\n",
    "import re, string\n",
    "import nltk\n",
    "from nltk.stem import SnowballStemmer\n",
    "from sklearn.model_selection import train_test_split\n",
    "from sklearn.impute import SimpleImputer\n",
    "from sklearn.preprocessing import OneHotEncoder, MinMaxScaler\n",
    "from sklearn.feature_extraction.text import CountVectorizer\n",
    "from sklearn.pipeline import Pipeline\n",
    "from sklearn.compose import ColumnTransformer\n",
    "from sklearn.utils import shuffle\n",
    "import torch\n",
    "from torch import nn\n",
    "\n",
    "from MLUDTI_M1_Lab3_neural_network import NeuralNetwork"
   ]
  },
  {
   "cell_type": "markdown",
   "metadata": {},
   "source": [
    "First, read the dataset into a DataFrame and look at it. The data might look familiar because it was used in the labs of the Machine Learning through Application course."
   ]
  },
  {
   "cell_type": "code",
   "execution_count": 6,
   "metadata": {
    "tags": []
   },
   "outputs": [
    {
     "name": "stdout",
     "output_type": "stream",
     "text": [
      "The shape of the dataset is: (95485, 13)\n"
     ]
    }
   ],
   "source": [
    "df = pd.read_csv(\"data/austin-animal-center-dataset.csv\")\n",
    "\n",
    "print(\"The shape of the dataset is:\", df.shape)"
   ]
  },
  {
   "cell_type": "code",
   "execution_count": 7,
   "metadata": {
    "tags": []
   },
   "outputs": [
    {
     "data": {
      "text/html": [
       "<div>\n",
       "<style scoped>\n",
       "    .dataframe tbody tr th:only-of-type {\n",
       "        vertical-align: middle;\n",
       "    }\n",
       "\n",
       "    .dataframe tbody tr th {\n",
       "        vertical-align: top;\n",
       "    }\n",
       "\n",
       "    .dataframe thead th {\n",
       "        text-align: right;\n",
       "    }\n",
       "</style>\n",
       "<table border=\"1\" class=\"dataframe\">\n",
       "  <thead>\n",
       "    <tr style=\"text-align: right;\">\n",
       "      <th></th>\n",
       "      <th>Pet ID</th>\n",
       "      <th>Outcome Type</th>\n",
       "      <th>Sex upon Outcome</th>\n",
       "      <th>Name</th>\n",
       "      <th>Found Location</th>\n",
       "      <th>Intake Type</th>\n",
       "      <th>Intake Condition</th>\n",
       "      <th>Pet Type</th>\n",
       "      <th>Sex upon Intake</th>\n",
       "      <th>Breed</th>\n",
       "      <th>Color</th>\n",
       "      <th>Age upon Intake Days</th>\n",
       "      <th>Age upon Outcome Days</th>\n",
       "    </tr>\n",
       "  </thead>\n",
       "  <tbody>\n",
       "    <tr>\n",
       "      <th>0</th>\n",
       "      <td>A794011</td>\n",
       "      <td>1.0</td>\n",
       "      <td>Neutered Male</td>\n",
       "      <td>Chunk</td>\n",
       "      <td>Austin (TX)</td>\n",
       "      <td>Owner Surrender</td>\n",
       "      <td>Normal</td>\n",
       "      <td>Cat</td>\n",
       "      <td>Neutered Male</td>\n",
       "      <td>Domestic Shorthair Mix</td>\n",
       "      <td>Brown Tabby/White</td>\n",
       "      <td>730</td>\n",
       "      <td>730</td>\n",
       "    </tr>\n",
       "    <tr>\n",
       "      <th>1</th>\n",
       "      <td>A776359</td>\n",
       "      <td>1.0</td>\n",
       "      <td>Neutered Male</td>\n",
       "      <td>Gizmo</td>\n",
       "      <td>7201 Levander Loop in Austin (TX)</td>\n",
       "      <td>Stray</td>\n",
       "      <td>Normal</td>\n",
       "      <td>Dog</td>\n",
       "      <td>Intact Male</td>\n",
       "      <td>Chihuahua Shorthair Mix</td>\n",
       "      <td>White/Brown</td>\n",
       "      <td>365</td>\n",
       "      <td>365</td>\n",
       "    </tr>\n",
       "    <tr>\n",
       "      <th>2</th>\n",
       "      <td>A674754</td>\n",
       "      <td>0.0</td>\n",
       "      <td>Intact Male</td>\n",
       "      <td>NaN</td>\n",
       "      <td>12034 Research in Austin (TX)</td>\n",
       "      <td>Stray</td>\n",
       "      <td>Nursing</td>\n",
       "      <td>Cat</td>\n",
       "      <td>Intact Male</td>\n",
       "      <td>Domestic Shorthair Mix</td>\n",
       "      <td>Orange Tabby</td>\n",
       "      <td>6</td>\n",
       "      <td>6</td>\n",
       "    </tr>\n",
       "    <tr>\n",
       "      <th>3</th>\n",
       "      <td>A689724</td>\n",
       "      <td>1.0</td>\n",
       "      <td>Neutered Male</td>\n",
       "      <td>*Donatello</td>\n",
       "      <td>2300 Waterway Bnd in Austin (TX)</td>\n",
       "      <td>Stray</td>\n",
       "      <td>Normal</td>\n",
       "      <td>Cat</td>\n",
       "      <td>Intact Male</td>\n",
       "      <td>Domestic Shorthair Mix</td>\n",
       "      <td>Black</td>\n",
       "      <td>60</td>\n",
       "      <td>60</td>\n",
       "    </tr>\n",
       "    <tr>\n",
       "      <th>4</th>\n",
       "      <td>A680969</td>\n",
       "      <td>1.0</td>\n",
       "      <td>Neutered Male</td>\n",
       "      <td>*Zeus</td>\n",
       "      <td>4701 Staggerbrush Rd in Austin (TX)</td>\n",
       "      <td>Stray</td>\n",
       "      <td>Nursing</td>\n",
       "      <td>Cat</td>\n",
       "      <td>Intact Male</td>\n",
       "      <td>Domestic Shorthair Mix</td>\n",
       "      <td>White/Orange Tabby</td>\n",
       "      <td>7</td>\n",
       "      <td>60</td>\n",
       "    </tr>\n",
       "    <tr>\n",
       "      <th>...</th>\n",
       "      <td>...</td>\n",
       "      <td>...</td>\n",
       "      <td>...</td>\n",
       "      <td>...</td>\n",
       "      <td>...</td>\n",
       "      <td>...</td>\n",
       "      <td>...</td>\n",
       "      <td>...</td>\n",
       "      <td>...</td>\n",
       "      <td>...</td>\n",
       "      <td>...</td>\n",
       "      <td>...</td>\n",
       "      <td>...</td>\n",
       "    </tr>\n",
       "    <tr>\n",
       "      <th>95480</th>\n",
       "      <td>A811886</td>\n",
       "      <td>1.0</td>\n",
       "      <td>Neutered Male</td>\n",
       "      <td>Kane</td>\n",
       "      <td>Pflugerville (TX)</td>\n",
       "      <td>Owner Surrender</td>\n",
       "      <td>Normal</td>\n",
       "      <td>Dog</td>\n",
       "      <td>Neutered Male</td>\n",
       "      <td>American Staffordshire Terrier Mix</td>\n",
       "      <td>Blue/White</td>\n",
       "      <td>1095</td>\n",
       "      <td>1095</td>\n",
       "    </tr>\n",
       "    <tr>\n",
       "      <th>95481</th>\n",
       "      <td>A817331</td>\n",
       "      <td>1.0</td>\n",
       "      <td>Spayed Female</td>\n",
       "      <td>*Squanchy</td>\n",
       "      <td>1601 E Slaughter Lane in Austin (TX)</td>\n",
       "      <td>Public Assist</td>\n",
       "      <td>Normal</td>\n",
       "      <td>Cat</td>\n",
       "      <td>Intact Female</td>\n",
       "      <td>Domestic Shorthair</td>\n",
       "      <td>Calico/White</td>\n",
       "      <td>7</td>\n",
       "      <td>60</td>\n",
       "    </tr>\n",
       "    <tr>\n",
       "      <th>95482</th>\n",
       "      <td>A818067</td>\n",
       "      <td>1.0</td>\n",
       "      <td>Intact Male</td>\n",
       "      <td>Bluto</td>\n",
       "      <td>Austin (TX)</td>\n",
       "      <td>Owner Surrender</td>\n",
       "      <td>Normal</td>\n",
       "      <td>Dog</td>\n",
       "      <td>Intact Male</td>\n",
       "      <td>Pit Bull Mix</td>\n",
       "      <td>Blue/White</td>\n",
       "      <td>4745</td>\n",
       "      <td>4745</td>\n",
       "    </tr>\n",
       "    <tr>\n",
       "      <th>95483</th>\n",
       "      <td>A815418</td>\n",
       "      <td>0.0</td>\n",
       "      <td>Intact Female</td>\n",
       "      <td>Laverne</td>\n",
       "      <td>2211 Santa Rita Street in Austin (TX)</td>\n",
       "      <td>Stray</td>\n",
       "      <td>Normal</td>\n",
       "      <td>Dog</td>\n",
       "      <td>Intact Female</td>\n",
       "      <td>Chihuahua Shorthair</td>\n",
       "      <td>Tan/White</td>\n",
       "      <td>365</td>\n",
       "      <td>365</td>\n",
       "    </tr>\n",
       "    <tr>\n",
       "      <th>95484</th>\n",
       "      <td>A815419</td>\n",
       "      <td>0.0</td>\n",
       "      <td>Intact Female</td>\n",
       "      <td>Shirley</td>\n",
       "      <td>2211 Santa Rita Street in Austin (TX)</td>\n",
       "      <td>Stray</td>\n",
       "      <td>Normal</td>\n",
       "      <td>Dog</td>\n",
       "      <td>Intact Female</td>\n",
       "      <td>Chihuahua Longhair</td>\n",
       "      <td>Tan</td>\n",
       "      <td>365</td>\n",
       "      <td>365</td>\n",
       "    </tr>\n",
       "  </tbody>\n",
       "</table>\n",
       "<p>95485 rows × 13 columns</p>\n",
       "</div>"
      ],
      "text/plain": [
       "        Pet ID  Outcome Type Sex upon Outcome        Name  \\\n",
       "0      A794011           1.0    Neutered Male       Chunk   \n",
       "1      A776359           1.0    Neutered Male       Gizmo   \n",
       "2      A674754           0.0      Intact Male         NaN   \n",
       "3      A689724           1.0    Neutered Male  *Donatello   \n",
       "4      A680969           1.0    Neutered Male       *Zeus   \n",
       "...        ...           ...              ...         ...   \n",
       "95480  A811886           1.0    Neutered Male        Kane   \n",
       "95481  A817331           1.0    Spayed Female   *Squanchy   \n",
       "95482  A818067           1.0      Intact Male       Bluto   \n",
       "95483  A815418           0.0    Intact Female     Laverne   \n",
       "95484  A815419           0.0    Intact Female     Shirley   \n",
       "\n",
       "                              Found Location      Intake Type  \\\n",
       "0                                Austin (TX)  Owner Surrender   \n",
       "1          7201 Levander Loop in Austin (TX)            Stray   \n",
       "2              12034 Research in Austin (TX)            Stray   \n",
       "3           2300 Waterway Bnd in Austin (TX)            Stray   \n",
       "4        4701 Staggerbrush Rd in Austin (TX)            Stray   \n",
       "...                                      ...              ...   \n",
       "95480                      Pflugerville (TX)  Owner Surrender   \n",
       "95481   1601 E Slaughter Lane in Austin (TX)    Public Assist   \n",
       "95482                            Austin (TX)  Owner Surrender   \n",
       "95483  2211 Santa Rita Street in Austin (TX)            Stray   \n",
       "95484  2211 Santa Rita Street in Austin (TX)            Stray   \n",
       "\n",
       "      Intake Condition Pet Type Sex upon Intake  \\\n",
       "0               Normal      Cat   Neutered Male   \n",
       "1               Normal      Dog     Intact Male   \n",
       "2              Nursing      Cat     Intact Male   \n",
       "3               Normal      Cat     Intact Male   \n",
       "4              Nursing      Cat     Intact Male   \n",
       "...                ...      ...             ...   \n",
       "95480           Normal      Dog   Neutered Male   \n",
       "95481           Normal      Cat   Intact Female   \n",
       "95482           Normal      Dog     Intact Male   \n",
       "95483           Normal      Dog   Intact Female   \n",
       "95484           Normal      Dog   Intact Female   \n",
       "\n",
       "                                    Breed               Color  \\\n",
       "0                  Domestic Shorthair Mix   Brown Tabby/White   \n",
       "1                 Chihuahua Shorthair Mix         White/Brown   \n",
       "2                  Domestic Shorthair Mix        Orange Tabby   \n",
       "3                  Domestic Shorthair Mix               Black   \n",
       "4                  Domestic Shorthair Mix  White/Orange Tabby   \n",
       "...                                   ...                 ...   \n",
       "95480  American Staffordshire Terrier Mix          Blue/White   \n",
       "95481                  Domestic Shorthair        Calico/White   \n",
       "95482                        Pit Bull Mix          Blue/White   \n",
       "95483                 Chihuahua Shorthair           Tan/White   \n",
       "95484                  Chihuahua Longhair                 Tan   \n",
       "\n",
       "       Age upon Intake Days  Age upon Outcome Days  \n",
       "0                       730                    730  \n",
       "1                       365                    365  \n",
       "2                         6                      6  \n",
       "3                        60                     60  \n",
       "4                         7                     60  \n",
       "...                     ...                    ...  \n",
       "95480                  1095                   1095  \n",
       "95481                     7                     60  \n",
       "95482                  4745                   4745  \n",
       "95483                   365                    365  \n",
       "95484                   365                    365  \n",
       "\n",
       "[95485 rows x 13 columns]"
      ]
     },
     "execution_count": 7,
     "metadata": {},
     "output_type": "execute_result"
    }
   ],
   "source": [
    "# Print the first and last five rows of the dataset\n",
    "df"
   ]
  },
  {
   "cell_type": "markdown",
   "metadata": {},
   "source": [
    "### EDA\n",
    "\n",
    "Now, perform the basic steps of exploratory data analysis (EDA) and look for insights to inform later ML modeling choices."
   ]
  },
  {
   "cell_type": "code",
   "execution_count": 8,
   "metadata": {
    "tags": []
   },
   "outputs": [
    {
     "name": "stdout",
     "output_type": "stream",
     "text": [
      "<class 'pandas.core.frame.DataFrame'>\n",
      "RangeIndex: 95485 entries, 0 to 95484\n",
      "Data columns (total 13 columns):\n",
      " #   Column                 Non-Null Count  Dtype  \n",
      "---  ------                 --------------  -----  \n",
      " 0   Pet ID                 95485 non-null  object \n",
      " 1   Outcome Type           95485 non-null  float64\n",
      " 2   Sex upon Outcome       95484 non-null  object \n",
      " 3   Name                   59138 non-null  object \n",
      " 4   Found Location         95485 non-null  object \n",
      " 5   Intake Type            95485 non-null  object \n",
      " 6   Intake Condition       95485 non-null  object \n",
      " 7   Pet Type               95485 non-null  object \n",
      " 8   Sex upon Intake        95484 non-null  object \n",
      " 9   Breed                  95485 non-null  object \n",
      " 10  Color                  95485 non-null  object \n",
      " 11  Age upon Intake Days   95485 non-null  int64  \n",
      " 12  Age upon Outcome Days  95485 non-null  int64  \n",
      "dtypes: float64(1), int64(2), object(10)\n",
      "memory usage: 9.5+ MB\n"
     ]
    }
   ],
   "source": [
    "# Print the data types and nonnull values for each column\n",
    "df.info()"
   ]
  },
  {
   "cell_type": "code",
   "execution_count": 9,
   "metadata": {
    "tags": []
   },
   "outputs": [
    {
     "data": {
      "text/plain": [
       "Index(['Pet ID', 'Outcome Type', 'Sex upon Outcome', 'Name', 'Found Location',\n",
       "       'Intake Type', 'Intake Condition', 'Pet Type', 'Sex upon Intake',\n",
       "       'Breed', 'Color', 'Age upon Intake Days', 'Age upon Outcome Days'],\n",
       "      dtype='object')"
      ]
     },
     "execution_count": 9,
     "metadata": {},
     "output_type": "execute_result"
    }
   ],
   "source": [
    "# Print the column names\n",
    "df.columns"
   ]
  },
  {
   "cell_type": "code",
   "execution_count": 10,
   "metadata": {
    "tags": []
   },
   "outputs": [],
   "source": [
    "# Create lists that identify the numerical, categorical, and text features, and the target/label\n",
    "numerical_features = [\"Age upon Intake Days\", \"Age upon Outcome Days\"]\n",
    "\n",
    "categorical_features = [\n",
    "    \"Sex upon Outcome\",\n",
    "    \"Intake Type\",\n",
    "    \"Intake Condition\",\n",
    "    \"Pet Type\",\n",
    "    \"Sex upon Intake\",\n",
    "]\n",
    "\n",
    "text_features = [\"Found Location\", \"Breed\", \"Color\"]\n",
    "\n",
    "model_features = numerical_features + categorical_features + text_features\n",
    "model_target = \"Outcome Type\""
   ]
  },
  {
   "cell_type": "markdown",
   "metadata": {},
   "source": [
    "__Note__: The **Pet ID** and **Name** features were omitted because they are irrelevant to the outcome."
   ]
  },
  {
   "cell_type": "markdown",
   "metadata": {},
   "source": [
    "### Cleaning the data\n",
    "\n",
    "#### Cleaning numerical features\n",
    "\n",
    "Take a moment to examine the numerical features. Remember that the `value_counts()` function can give a view of the numerical features by placing feature values in respective bins. The function can also be used for plotting."
   ]
  },
  {
   "cell_type": "code",
   "execution_count": 11,
   "metadata": {
    "tags": []
   },
   "outputs": [
    {
     "name": "stdout",
     "output_type": "stream",
     "text": [
      "Age upon Intake Days\n",
      "(-9.126, 912.5]     74835\n",
      "(912.5, 1825.0]     10647\n",
      "(1825.0, 2737.5]     3471\n",
      "(2737.5, 3650.0]     3998\n",
      "(3650.0, 4562.5]     1234\n",
      "(4562.5, 5475.0]     1031\n",
      "(5475.0, 6387.5]      183\n",
      "(6387.5, 7300.0]       79\n",
      "(7300.0, 8212.5]        5\n",
      "(8212.5, 9125.0]        2\n",
      "Name: Age upon Intake Days, dtype: int64\n"
     ]
    },
    {
     "data": {
      "image/png": "[encoded data removed]",
      "text/plain": [
       "<Figure size 640x480 with 1 Axes>"
      ]
     },
     "metadata": {},
     "output_type": "display_data"
    },
    {
     "name": "stdout",
     "output_type": "stream",
     "text": [
      "Age upon Outcome Days\n",
      "(-9.126, 912.5]     74642\n",
      "(912.5, 1825.0]     10699\n",
      "(1825.0, 2737.5]     3465\n",
      "(2737.5, 3650.0]     4080\n",
      "(3650.0, 4562.5]     1263\n",
      "(4562.5, 5475.0]     1061\n",
      "(5475.0, 6387.5]      187\n",
      "(6387.5, 7300.0]       81\n",
      "(7300.0, 8212.5]        5\n",
      "(8212.5, 9125.0]        2\n",
      "Name: Age upon Outcome Days, dtype: int64\n"
     ]
    },
    {
     "data": {
      "image/png": "[encoded data removed]",
      "text/plain": [
       "<Figure size 640x480 with 1 Axes>"
      ]
     },
     "metadata": {},
     "output_type": "display_data"
    }
   ],
   "source": [
    "for c in numerical_features:\n",
    "    print(c)\n",
    "    print(df[c].value_counts(bins=10, sort=False))\n",
    "    df[c].value_counts(bins=10, sort=False).plot(kind=\"bar\", alpha=0.75, rot=90)\n",
    "    plt.show()"
   ]
  },
  {
   "cell_type": "markdown",
   "metadata": {},
   "source": [
    "If any outliers are identified as likely wrong values, dropping them could improve the histograms for the numerical values and could later improve overall model performance.\n",
    "\n",
    "Remove any values in the upper 10 percent for the feature, and then plot the features."
   ]
  },
  {
   "cell_type": "code",
   "execution_count": 12,
   "metadata": {
    "tags": []
   },
   "outputs": [],
   "source": [
    "for c in numerical_features:\n",
    "    # Drop values beyond 90% of max()\n",
    "    dropIndexes = df[df[c] > df[c].max() * 9 / 10].index\n",
    "    df.drop(dropIndexes, inplace=True)"
   ]
  },
  {
   "cell_type": "code",
   "execution_count": 13,
   "metadata": {
    "tags": []
   },
   "outputs": [
    {
     "name": "stdout",
     "output_type": "stream",
     "text": [
      "Age upon Intake Days\n",
      "(-6.936, 693.5]     61425\n",
      "(693.5, 1387.0]     18400\n",
      "(1387.0, 2080.5]     5657\n",
      "(2080.5, 2774.0]     3471\n",
      "(2774.0, 3467.5]     2557\n",
      "(3467.5, 4161.0]     1962\n",
      "(4161.0, 4854.5]     1148\n",
      "(4854.5, 5548.0]      596\n",
      "(5548.0, 6241.5]      183\n",
      "(6241.5, 6935.0]       63\n",
      "Name: Age upon Intake Days, dtype: int64\n"
     ]
    },
    {
     "data": {
      "image/png": "[encoded data removed]",
      "text/plain": [
       "<Figure size 640x480 with 1 Axes>"
      ]
     },
     "metadata": {},
     "output_type": "display_data"
    },
    {
     "name": "stdout",
     "output_type": "stream",
     "text": [
      "Age upon Outcome Days\n",
      "(-6.936, 693.5]     61208\n",
      "(693.5, 1387.0]     18490\n",
      "(1387.0, 2080.5]     5643\n",
      "(2080.5, 2774.0]     3465\n",
      "(2774.0, 3467.5]     2600\n",
      "(3467.5, 4161.0]     2004\n",
      "(4161.0, 4854.5]     1196\n",
      "(4854.5, 5548.0]      604\n",
      "(5548.0, 6241.5]      187\n",
      "(6241.5, 6935.0]       65\n",
      "Name: Age upon Outcome Days, dtype: int64\n"
     ]
    },
    {
     "data": {
      "image/png": "[encoded data removed]",
      "text/plain": [
       "<Figure size 640x480 with 1 Axes>"
      ]
     },
     "metadata": {},
     "output_type": "display_data"
    }
   ],
   "source": [
    "for c in numerical_features:\n",
    "    print(c)\n",
    "    print(df[c].value_counts(bins=10, sort=False))\n",
    "    df[c].value_counts(bins=10, sort=False).plot(kind=\"bar\", alpha=0.75, rot=90)\n",
    "    plt.show()"
   ]
  },
  {
   "cell_type": "markdown",
   "metadata": {
    "tags": []
   },
   "source": [
    "#### Cleaning text features\n",
    "\n",
    "Take a moment to examine the text features."
   ]
  },
  {
   "cell_type": "code",
   "execution_count": 14,
   "metadata": {
    "tags": []
   },
   "outputs": [],
   "source": [
    "# Prepare cleaning functions\n",
    "import re, string\n",
    "import nltk\n",
    "from nltk.stem import SnowballStemmer\n",
    "\n",
    "stop_words = [\"a\", \"an\", \"the\", \"this\", \"that\", \"is\", \"it\", \"to\", \"and\", \"in\"]\n",
    "\n",
    "stemmer = SnowballStemmer(\"english\")\n",
    "\n",
    "\n",
    "def preProcessText(text):\n",
    "    # Lowercase text, and strip leading and trailing white space\n",
    "    text = text.lower().strip()\n",
    "\n",
    "    # Remove HTML tags\n",
    "    text = re.compile(\"<.*?>\").sub(\"\", text)\n",
    "\n",
    "    # Remove punctuation\n",
    "    text = re.compile(\"[%s]\" % re.escape(string.punctuation)).sub(\" \", text)\n",
    "\n",
    "    # Remove extra white space\n",
    "    text = re.sub(\"\\s+\", \" \", text)\n",
    "\n",
    "    return text\n",
    "\n",
    "\n",
    "def lexiconProcess(text, stop_words, stemmer):\n",
    "    filtered_sentence = []\n",
    "    words = text.split(\" \")\n",
    "    for w in words:\n",
    "        if w not in stop_words:\n",
    "            filtered_sentence.append(stemmer.stem(w))\n",
    "    text = \" \".join(filtered_sentence)\n",
    "\n",
    "    return text\n",
    "\n",
    "\n",
    "def cleanSentence(text, stop_words, stemmer):\n",
    "    return lexiconProcess(preProcessText(text), stop_words, stemmer)"
   ]
  },
  {
   "cell_type": "markdown",
   "metadata": {},
   "source": [
    "__Note:__ The text cleaning process can take a while to complete, depending on the size of the text data."
   ]
  },
  {
   "cell_type": "code",
   "execution_count": 15,
   "metadata": {
    "tags": []
   },
   "outputs": [
    {
     "name": "stdout",
     "output_type": "stream",
     "text": [
      "Text cleaning:  Found Location\n",
      "Text cleaning:  Breed\n",
      "Text cleaning:  Color\n"
     ]
    }
   ],
   "source": [
    "# Clean the text features\n",
    "for c in text_features:\n",
    "    print(\"Text cleaning: \", c)\n",
    "    df[c] = [cleanSentence(item, stop_words, stemmer) for item in df[c].values]"
   ]
  },
  {
   "cell_type": "markdown",
   "metadata": {
    "tags": []
   },
   "source": [
    "### Train, validation, and test datasets\n",
    "\n",
    "Now that the data has been cleaned, you need to split the full dataset into training and test subsets by using sklearn's [train_test_split()](https://scikit-learn.org/stable/modules/generated/sklearn.model_selection.train_test_split.html) function. With this function, you can specify the following:\n",
    "\n",
    "- The proportion of the dataset to include in the test split as a number between 0.0-1.0 with a default of 0.25.\n",
    "- An integer that controls the shuffling that is applied to the data before the split. Passing an integer allows for reproducible output across multiple function calls.\n",
    "\n",
    "To help reduce sampling bias, the original dataset is shuffled before the split. After the initial split, the training data is further split into training and validation subsets."
   ]
  },
  {
   "cell_type": "code",
   "execution_count": 16,
   "metadata": {
    "tags": []
   },
   "outputs": [
    {
     "name": "stdout",
     "output_type": "stream",
     "text": [
      "Train - Validation - Test dataset shapes:  (68970, 13) (12172, 13) (14320, 13)\n"
     ]
    }
   ],
   "source": [
    "from sklearn.model_selection import train_test_split\n",
    "\n",
    "train_data, test_data = train_test_split(\n",
    "    df, test_size=0.15, shuffle=True, random_state=23\n",
    ")\n",
    "\n",
    "train_data, val_data = train_test_split(\n",
    "    train_data, test_size=0.15, shuffle=True, random_state=23\n",
    ")\n",
    "\n",
    "# Print the shapes of the training, validation, and test datasets\n",
    "print(\n",
    "    \"Train - Validation - Test dataset shapes: \",\n",
    "    train_data.shape,\n",
    "    val_data.shape,\n",
    "    test_data.shape,\n",
    ")"
   ]
  },
  {
   "cell_type": "markdown",
   "metadata": {},
   "source": [
    "### Data processing with a pipeline and ColumnTransformer\n",
    "\n",
    "In a typical ML workflow, you need to apply data transformations, such as imputation and scaling, at least twice: first on the training dataset by using `.fit()` and `.transform()` when preparing the data to train the model, and then by using `.transform()` on any new data that you want to predict on (validation or test). Sklearn's [Pipeline](https://scikit-learn.org/stable/modules/generated/sklearn.pipeline.Pipeline.html) is a tool that simplifies this process by enforcing the implementation and order of data processing steps.\n",
    "\n",
    "In this section, you will build separate pipelines to handle the numerical, categorical, and text features. Then, you will combine them into a composite pipeline along with an estimator. To do this, you will use a [LogisticRegression classifier](https://scikit-learn.org/stable/modules/generated/sklearn.linear_model.LogisticRegression.html).\n",
    "\n",
    "You will need multiple pipelines to ensure that all the data is handled correctly:\n",
    "\n",
    "   * __Numerical features pipeline:__  Impute missing values with the mean by using sklearn's `SimpleImputer`, followed by `MinMaxScaler`. If different processing is desired for different numerical features, different pipelines should be built as described for the text features pipeline.\n",
    "\n",
    "   * __Categoricals pipeline:__ Impute with a placeholder value (this won't have an effect because you already encoded the `nan` values), and encode with sklearn's `OneHotEncoder`. If computing memory is an issue, it is a good idea to check the number of unique values for the categoricals to get an estimate of how many dummy features one-hot encoding will create. Note the `handle_unknown` parameter, which tells the encoder to ignore (rather than throw an error for) any unique value that might show in the validation or test set that was not present in the initial training set.\n",
    "\n",
    "   * __Text features pipeline:__ With memory usage in mind, build three more pipelines, one for each of the text features. The current sklearn implementation requires a separate transformer for each text feature (unlike the numericals and categoricals).\n",
    "\n",
    "\n",
    "Finally, the selective preparations of the dataset features are then put together into a collective ColumnTransformer, which is used in a pipeline along with an estimator. This ensures that the transforms are performed automatically in all situations. This includes on the raw data when fitting the model, when making predictions, when evaluating the model on a validation dataset through cross-validation, or when making predictions on a test dataset in the future."
   ]
  },
  {
   "cell_type": "code",
   "execution_count": 17,
   "metadata": {
    "tags": []
   },
   "outputs": [
    {
     "data": {
      "text/html": [
       "<style>#sk-container-id-1 {color: black;}#sk-container-id-1 pre{padding: 0;}#sk-container-id-1 div.sk-toggleable {background-color: white;}#sk-container-id-1 label.sk-toggleable__label {cursor: pointer;display: block;width: 100%;margin-bottom: 0;padding: 0.3em;box-sizing: border-box;text-align: center;}#sk-container-id-1 label.sk-toggleable__label-arrow:before {content: \"▸\";float: left;margin-right: 0.25em;color: #696969;}#sk-container-id-1 label.sk-toggleable__label-arrow:hover:before {color: black;}#sk-container-id-1 div.sk-estimator:hover label.sk-toggleable__label-arrow:before {color: black;}#sk-container-id-1 div.sk-toggleable__content {max-height: 0;max-width: 0;overflow: hidden;text-align: left;background-color: #f0f8ff;}#sk-container-id-1 div.sk-toggleable__content pre {margin: 0.2em;color: black;border-radius: 0.25em;background-color: #f0f8ff;}#sk-container-id-1 input.sk-toggleable__control:checked~div.sk-toggleable__content {max-height: 200px;max-width: 100%;overflow: auto;}#sk-container-id-1 input.sk-toggleable__control:checked~label.sk-toggleable__label-arrow:before {content: \"▾\";}#sk-container-id-1 div.sk-estimator input.sk-toggleable__control:checked~label.sk-toggleable__label {background-color: #d4ebff;}#sk-container-id-1 div.sk-label input.sk-toggleable__control:checked~label.sk-toggleable__label {background-color: #d4ebff;}#sk-container-id-1 input.sk-hidden--visually {border: 0;clip: rect(1px 1px 1px 1px);clip: rect(1px, 1px, 1px, 1px);height: 1px;margin: -1px;overflow: hidden;padding: 0;position: absolute;width: 1px;}#sk-container-id-1 div.sk-estimator {font-family: monospace;background-color: #f0f8ff;border: 1px dotted black;border-radius: 0.25em;box-sizing: border-box;margin-bottom: 0.5em;}#sk-container-id-1 div.sk-estimator:hover {background-color: #d4ebff;}#sk-container-id-1 div.sk-parallel-item::after {content: \"\";width: 100%;border-bottom: 1px solid gray;flex-grow: 1;}#sk-container-id-1 div.sk-label:hover label.sk-toggleable__label {background-color: #d4ebff;}#sk-container-id-1 div.sk-serial::before {content: \"\";position: absolute;border-left: 1px solid gray;box-sizing: border-box;top: 0;bottom: 0;left: 50%;z-index: 0;}#sk-container-id-1 div.sk-serial {display: flex;flex-direction: column;align-items: center;background-color: white;padding-right: 0.2em;padding-left: 0.2em;position: relative;}#sk-container-id-1 div.sk-item {position: relative;z-index: 1;}#sk-container-id-1 div.sk-parallel {display: flex;align-items: stretch;justify-content: center;background-color: white;position: relative;}#sk-container-id-1 div.sk-item::before, #sk-container-id-1 div.sk-parallel-item::before {content: \"\";position: absolute;border-left: 1px solid gray;box-sizing: border-box;top: 0;bottom: 0;left: 50%;z-index: -1;}#sk-container-id-1 div.sk-parallel-item {display: flex;flex-direction: column;z-index: 1;position: relative;background-color: white;}#sk-container-id-1 div.sk-parallel-item:first-child::after {align-self: flex-end;width: 50%;}#sk-container-id-1 div.sk-parallel-item:last-child::after {align-self: flex-start;width: 50%;}#sk-container-id-1 div.sk-parallel-item:only-child::after {width: 0;}#sk-container-id-1 div.sk-dashed-wrapped {border: 1px dashed gray;margin: 0 0.4em 0.5em 0.4em;box-sizing: border-box;padding-bottom: 0.4em;background-color: white;}#sk-container-id-1 div.sk-label label {font-family: monospace;font-weight: bold;display: inline-block;line-height: 1.2em;}#sk-container-id-1 div.sk-label-container {text-align: center;}#sk-container-id-1 div.sk-container {/* jupyter's `normalize.less` sets `[hidden] { display: none; }` but bootstrap.min.css set `[hidden] { display: none !important; }` so we also need the `!important` here to be able to override the default hidden behavior on the sphinx rendered scikit-learn.org. See: https://github.com/scikit-learn/scikit-learn/issues/21755 */display: inline-block !important;position: relative;}#sk-container-id-1 div.sk-text-repr-fallback {display: none;}</style><div id=\"sk-container-id-1\" class=\"sk-top-container\"><div class=\"sk-text-repr-fallback\"><pre>ColumnTransformer(transformers=[(&#x27;numerical_processing&#x27;,\n",
       "                                 Pipeline(steps=[(&#x27;num_imputer&#x27;,\n",
       "                                                  SimpleImputer()),\n",
       "                                                 (&#x27;num_scaler&#x27;,\n",
       "                                                  MinMaxScaler())]),\n",
       "                                 [&#x27;Age upon Intake Days&#x27;,\n",
       "                                  &#x27;Age upon Outcome Days&#x27;]),\n",
       "                                (&#x27;categorical_processing&#x27;,\n",
       "                                 Pipeline(steps=[(&#x27;cat_imputer&#x27;,\n",
       "                                                  SimpleImputer(fill_value=&#x27;missing&#x27;,\n",
       "                                                                strategy=&#x27;constant&#x27;)),\n",
       "                                                 (&#x27;cat_encoder&#x27;,\n",
       "                                                  OneHotEncoder(handle_unknown=&#x27;ignore&#x27;))])...\n",
       "                                (&#x27;text_processing_0&#x27;,\n",
       "                                 Pipeline(steps=[(&#x27;text_vectorizer_0&#x27;,\n",
       "                                                  CountVectorizer(binary=True,\n",
       "                                                                  max_features=50))]),\n",
       "                                 &#x27;Found Location&#x27;),\n",
       "                                (&#x27;text_processing_1&#x27;,\n",
       "                                 Pipeline(steps=[(&#x27;text_vectorizer_1&#x27;,\n",
       "                                                  CountVectorizer(binary=True,\n",
       "                                                                  max_features=50))]),\n",
       "                                 &#x27;Breed&#x27;),\n",
       "                                (&#x27;text_processing_2&#x27;,\n",
       "                                 Pipeline(steps=[(&#x27;text_vectorizer_2&#x27;,\n",
       "                                                  CountVectorizer(binary=True,\n",
       "                                                                  max_features=50))]),\n",
       "                                 &#x27;Color&#x27;)])</pre><b>In a Jupyter environment, please rerun this cell to show the HTML representation or trust the notebook. <br />On GitHub, the HTML representation is unable to render, please try loading this page with nbviewer.org.</b></div><div class=\"sk-container\" hidden><div class=\"sk-item sk-dashed-wrapped\"><div class=\"sk-label-container\"><div class=\"sk-label sk-toggleable\"><input class=\"sk-toggleable__control sk-hidden--visually\" id=\"sk-estimator-id-1\" type=\"checkbox\" ><label for=\"sk-estimator-id-1\" class=\"sk-toggleable__label sk-toggleable__label-arrow\">ColumnTransformer</label><div class=\"sk-toggleable__content\"><pre>ColumnTransformer(transformers=[(&#x27;numerical_processing&#x27;,\n",
       "                                 Pipeline(steps=[(&#x27;num_imputer&#x27;,\n",
       "                                                  SimpleImputer()),\n",
       "                                                 (&#x27;num_scaler&#x27;,\n",
       "                                                  MinMaxScaler())]),\n",
       "                                 [&#x27;Age upon Intake Days&#x27;,\n",
       "                                  &#x27;Age upon Outcome Days&#x27;]),\n",
       "                                (&#x27;categorical_processing&#x27;,\n",
       "                                 Pipeline(steps=[(&#x27;cat_imputer&#x27;,\n",
       "                                                  SimpleImputer(fill_value=&#x27;missing&#x27;,\n",
       "                                                                strategy=&#x27;constant&#x27;)),\n",
       "                                                 (&#x27;cat_encoder&#x27;,\n",
       "                                                  OneHotEncoder(handle_unknown=&#x27;ignore&#x27;))])...\n",
       "                                (&#x27;text_processing_0&#x27;,\n",
       "                                 Pipeline(steps=[(&#x27;text_vectorizer_0&#x27;,\n",
       "                                                  CountVectorizer(binary=True,\n",
       "                                                                  max_features=50))]),\n",
       "                                 &#x27;Found Location&#x27;),\n",
       "                                (&#x27;text_processing_1&#x27;,\n",
       "                                 Pipeline(steps=[(&#x27;text_vectorizer_1&#x27;,\n",
       "                                                  CountVectorizer(binary=True,\n",
       "                                                                  max_features=50))]),\n",
       "                                 &#x27;Breed&#x27;),\n",
       "                                (&#x27;text_processing_2&#x27;,\n",
       "                                 Pipeline(steps=[(&#x27;text_vectorizer_2&#x27;,\n",
       "                                                  CountVectorizer(binary=True,\n",
       "                                                                  max_features=50))]),\n",
       "                                 &#x27;Color&#x27;)])</pre></div></div></div><div class=\"sk-parallel\"><div class=\"sk-parallel-item\"><div class=\"sk-item\"><div class=\"sk-label-container\"><div class=\"sk-label sk-toggleable\"><input class=\"sk-toggleable__control sk-hidden--visually\" id=\"sk-estimator-id-2\" type=\"checkbox\" ><label for=\"sk-estimator-id-2\" class=\"sk-toggleable__label sk-toggleable__label-arrow\">numerical_processing</label><div class=\"sk-toggleable__content\"><pre>[&#x27;Age upon Intake Days&#x27;, &#x27;Age upon Outcome Days&#x27;]</pre></div></div></div><div class=\"sk-serial\"><div class=\"sk-item\"><div class=\"sk-serial\"><div class=\"sk-item\"><div class=\"sk-estimator sk-toggleable\"><input class=\"sk-toggleable__control sk-hidden--visually\" id=\"sk-estimator-id-3\" type=\"checkbox\" ><label for=\"sk-estimator-id-3\" class=\"sk-toggleable__label sk-toggleable__label-arrow\">SimpleImputer</label><div class=\"sk-toggleable__content\"><pre>SimpleImputer()</pre></div></div></div><div class=\"sk-item\"><div class=\"sk-estimator sk-toggleable\"><input class=\"sk-toggleable__control sk-hidden--visually\" id=\"sk-estimator-id-4\" type=\"checkbox\" ><label for=\"sk-estimator-id-4\" class=\"sk-toggleable__label sk-toggleable__label-arrow\">MinMaxScaler</label><div class=\"sk-toggleable__content\"><pre>MinMaxScaler()</pre></div></div></div></div></div></div></div></div><div class=\"sk-parallel-item\"><div class=\"sk-item\"><div class=\"sk-label-container\"><div class=\"sk-label sk-toggleable\"><input class=\"sk-toggleable__control sk-hidden--visually\" id=\"sk-estimator-id-5\" type=\"checkbox\" ><label for=\"sk-estimator-id-5\" class=\"sk-toggleable__label sk-toggleable__label-arrow\">categorical_processing</label><div class=\"sk-toggleable__content\"><pre>[&#x27;Sex upon Outcome&#x27;, &#x27;Intake Type&#x27;, &#x27;Intake Condition&#x27;, &#x27;Pet Type&#x27;, &#x27;Sex upon Intake&#x27;]</pre></div></div></div><div class=\"sk-serial\"><div class=\"sk-item\"><div class=\"sk-serial\"><div class=\"sk-item\"><div class=\"sk-estimator sk-toggleable\"><input class=\"sk-toggleable__control sk-hidden--visually\" id=\"sk-estimator-id-6\" type=\"checkbox\" ><label for=\"sk-estimator-id-6\" class=\"sk-toggleable__label sk-toggleable__label-arrow\">SimpleImputer</label><div class=\"sk-toggleable__content\"><pre>SimpleImputer(fill_value=&#x27;missing&#x27;, strategy=&#x27;constant&#x27;)</pre></div></div></div><div class=\"sk-item\"><div class=\"sk-estimator sk-toggleable\"><input class=\"sk-toggleable__control sk-hidden--visually\" id=\"sk-estimator-id-7\" type=\"checkbox\" ><label for=\"sk-estimator-id-7\" class=\"sk-toggleable__label sk-toggleable__label-arrow\">OneHotEncoder</label><div class=\"sk-toggleable__content\"><pre>OneHotEncoder(handle_unknown=&#x27;ignore&#x27;)</pre></div></div></div></div></div></div></div></div><div class=\"sk-parallel-item\"><div class=\"sk-item\"><div class=\"sk-label-container\"><div class=\"sk-label sk-toggleable\"><input class=\"sk-toggleable__control sk-hidden--visually\" id=\"sk-estimator-id-8\" type=\"checkbox\" ><label for=\"sk-estimator-id-8\" class=\"sk-toggleable__label sk-toggleable__label-arrow\">text_processing_0</label><div class=\"sk-toggleable__content\"><pre>Found Location</pre></div></div></div><div class=\"sk-serial\"><div class=\"sk-item\"><div class=\"sk-serial\"><div class=\"sk-item\"><div class=\"sk-estimator sk-toggleable\"><input class=\"sk-toggleable__control sk-hidden--visually\" id=\"sk-estimator-id-9\" type=\"checkbox\" ><label for=\"sk-estimator-id-9\" class=\"sk-toggleable__label sk-toggleable__label-arrow\">CountVectorizer</label><div class=\"sk-toggleable__content\"><pre>CountVectorizer(binary=True, max_features=50)</pre></div></div></div></div></div></div></div></div><div class=\"sk-parallel-item\"><div class=\"sk-item\"><div class=\"sk-label-container\"><div class=\"sk-label sk-toggleable\"><input class=\"sk-toggleable__control sk-hidden--visually\" id=\"sk-estimator-id-10\" type=\"checkbox\" ><label for=\"sk-estimator-id-10\" class=\"sk-toggleable__label sk-toggleable__label-arrow\">text_processing_1</label><div class=\"sk-toggleable__content\"><pre>Breed</pre></div></div></div><div class=\"sk-serial\"><div class=\"sk-item\"><div class=\"sk-serial\"><div class=\"sk-item\"><div class=\"sk-estimator sk-toggleable\"><input class=\"sk-toggleable__control sk-hidden--visually\" id=\"sk-estimator-id-11\" type=\"checkbox\" ><label for=\"sk-estimator-id-11\" class=\"sk-toggleable__label sk-toggleable__label-arrow\">CountVectorizer</label><div class=\"sk-toggleable__content\"><pre>CountVectorizer(binary=True, max_features=50)</pre></div></div></div></div></div></div></div></div><div class=\"sk-parallel-item\"><div class=\"sk-item\"><div class=\"sk-label-container\"><div class=\"sk-label sk-toggleable\"><input class=\"sk-toggleable__control sk-hidden--visually\" id=\"sk-estimator-id-12\" type=\"checkbox\" ><label for=\"sk-estimator-id-12\" class=\"sk-toggleable__label sk-toggleable__label-arrow\">text_processing_2</label><div class=\"sk-toggleable__content\"><pre>Color</pre></div></div></div><div class=\"sk-serial\"><div class=\"sk-item\"><div class=\"sk-serial\"><div class=\"sk-item\"><div class=\"sk-estimator sk-toggleable\"><input class=\"sk-toggleable__control sk-hidden--visually\" id=\"sk-estimator-id-13\" type=\"checkbox\" ><label for=\"sk-estimator-id-13\" class=\"sk-toggleable__label sk-toggleable__label-arrow\">CountVectorizer</label><div class=\"sk-toggleable__content\"><pre>CountVectorizer(binary=True, max_features=50)</pre></div></div></div></div></div></div></div></div></div></div></div></div>"
      ],
      "text/plain": [
       "ColumnTransformer(transformers=[('numerical_processing',\n",
       "                                 Pipeline(steps=[('num_imputer',\n",
       "                                                  SimpleImputer()),\n",
       "                                                 ('num_scaler',\n",
       "                                                  MinMaxScaler())]),\n",
       "                                 ['Age upon Intake Days',\n",
       "                                  'Age upon Outcome Days']),\n",
       "                                ('categorical_processing',\n",
       "                                 Pipeline(steps=[('cat_imputer',\n",
       "                                                  SimpleImputer(fill_value='missing',\n",
       "                                                                strategy='constant')),\n",
       "                                                 ('cat_encoder',\n",
       "                                                  OneHotEncoder(handle_unknown='ignore'))])...\n",
       "                                ('text_processing_0',\n",
       "                                 Pipeline(steps=[('text_vectorizer_0',\n",
       "                                                  CountVectorizer(binary=True,\n",
       "                                                                  max_features=50))]),\n",
       "                                 'Found Location'),\n",
       "                                ('text_processing_1',\n",
       "                                 Pipeline(steps=[('text_vectorizer_1',\n",
       "                                                  CountVectorizer(binary=True,\n",
       "                                                                  max_features=50))]),\n",
       "                                 'Breed'),\n",
       "                                ('text_processing_2',\n",
       "                                 Pipeline(steps=[('text_vectorizer_2',\n",
       "                                                  CountVectorizer(binary=True,\n",
       "                                                                  max_features=50))]),\n",
       "                                 'Color')])"
      ]
     },
     "execution_count": 17,
     "metadata": {},
     "output_type": "execute_result"
    }
   ],
   "source": [
    "from sklearn.impute import SimpleImputer\n",
    "from sklearn.preprocessing import OneHotEncoder, MinMaxScaler\n",
    "from sklearn.feature_extraction.text import CountVectorizer\n",
    "from sklearn.pipeline import Pipeline\n",
    "from sklearn.compose import ColumnTransformer\n",
    "\n",
    "### COLUMN_TRANSFORMER ###\n",
    "##########################\n",
    "\n",
    "# Preprocess the numerical features\n",
    "numerical_processor = Pipeline(\n",
    "    [\n",
    "        (\"num_imputer\", SimpleImputer(strategy=\"mean\")),\n",
    "        (\n",
    "            \"num_scaler\",\n",
    "            MinMaxScaler(),\n",
    "        ),  \n",
    "    ]\n",
    ")\n",
    "\n",
    "# Preprocess the categorical features\n",
    "categorical_processor = Pipeline(\n",
    "    [\n",
    "        (\n",
    "            \"cat_imputer\",\n",
    "            SimpleImputer(strategy=\"constant\", fill_value=\"missing\"),\n",
    "        ),  # Shown in case it is needed. No effect here because you already imputed with 'nan' strings.\n",
    "        (\n",
    "            \"cat_encoder\",\n",
    "            OneHotEncoder(handle_unknown=\"ignore\"),\n",
    "        ),  # handle_unknown tells it to ignore (rather than throw an error for) any value that was not present in the initial training set.\n",
    "    ]\n",
    ")\n",
    "\n",
    "# Preprocess first text feature\n",
    "text_processor_0 = Pipeline(\n",
    "    [(\"text_vectorizer_0\", CountVectorizer(binary=True, max_features=50))]\n",
    ")\n",
    "\n",
    "# Preprocess second text feature\n",
    "text_processor_1 = Pipeline(\n",
    "    [(\"text_vectorizer_1\", CountVectorizer(binary=True, max_features=50))]\n",
    ")\n",
    "\n",
    "# Preprocess third text feature\n",
    "text_processor_2 = Pipeline(\n",
    "    [(\"text_vectorizer_2\", CountVectorizer(binary=True, max_features=50))]\n",
    ")\n",
    "\n",
    "# Combine all data preprocessors (add more if you choose to define more)\n",
    "# For each processor/step, specify: a name, the actual process, and the features to be processed.\n",
    "data_processor = ColumnTransformer(\n",
    "    [\n",
    "        (\"numerical_processing\", numerical_processor, numerical_features),\n",
    "        (\"categorical_processing\", categorical_processor, categorical_features),\n",
    "        (\"text_processing_0\", text_processor_0, text_features[0]),\n",
    "        (\"text_processing_1\", text_processor_1, text_features[1]),\n",
    "        (\"text_processing_2\", text_processor_2, text_features[2]),\n",
    "    ]\n",
    ")\n",
    "\n",
    "# Visualize the data processing pipeline\n",
    "from sklearn import set_config\n",
    "\n",
    "set_config(display=\"diagram\")\n",
    "data_processor"
   ]
  },
  {
   "cell_type": "code",
   "execution_count": 18,
   "metadata": {
    "tags": []
   },
   "outputs": [
    {
     "name": "stdout",
     "output_type": "stream",
     "text": [
      "Dataset shapes before processing:  (68970, 10) (12172, 10) (14320, 10)\n",
      "Dataset shapes after processing:  (68970, 171) (12172, 171) (14320, 171)\n"
     ]
    }
   ],
   "source": [
    "# Prepare data for training\n",
    "X_train = train_data[model_features]\n",
    "y_train = train_data[model_target].values\n",
    "\n",
    "# Get validation data to validate the network\n",
    "X_val = val_data[model_features]\n",
    "y_val = val_data[model_target].values\n",
    "\n",
    "# Get test data to test the network for submission to the leaderboard\n",
    "X_test = test_data[model_features]\n",
    "y_test = test_data[model_target].values\n",
    "\n",
    "print(\"Dataset shapes before processing: \", X_train.shape, X_val.shape, X_test.shape)\n",
    "\n",
    "X_train = data_processor.fit_transform(X_train).toarray()\n",
    "X_val = data_processor.transform(X_val).toarray()\n",
    "X_test = data_processor.transform(X_test).toarray()\n",
    "\n",
    "print(\"Dataset shapes after processing: \", X_train.shape, X_val.shape, X_test.shape)"
   ]
  },
  {
   "cell_type": "markdown",
   "metadata": {},
   "source": [
    "---\n",
    "## Training and validation of a neural network\n",
    "\n",
    "Now, run the following code cell to interact with the neural network to gain insight into how neural networks train.\n",
    "\n",
    "Architect the neural network by updating the number of layers (maximum of 4) and the number of neurons per layer (maximum of 3) to solve the classification problem that displays when you run the following cell. The background colors show the neural network's predicted classification regions for the true data (circles).\n",
    "\n",
    "Note that upon retraining the network, the weights are randomly initialized, and the gradients are reset to 0. In the visual representation, each green circle corresponds to an epoch. Each red circle corresponds to that layer's weight update gradient (from backpropagation).\n",
    "\n",
    "To develop a better understanding, train the model for different architectures. Note that the model gets stuck sometimes—initialization is important!"
   ]
  },
  {
   "cell_type": "code",
   "execution_count": 19,
   "metadata": {
    "tags": []
   },
   "outputs": [
    {
     "data": {
      "text/html": [
       "\n",
       "        <script>var NeuralNetwork=function(){\"use strict\";var en=document.createElement(\"style\");en.textContent=`.button-container.svelte-1icwblj{display:flex;justify-content:space-between}button.svelte-1icwblj:hover{background-color:#000;border:1px solid black;color:#fff}.button-plus.svelte-1icwblj,.button-minus.svelte-1icwblj{background-color:#fff;border:1px solid black;color:#000;padding:5px 10px;font-size:14px;cursor:pointer}.weight-text-int.svelte-1icwblj{font-size:15px;stroke-linejoin:round;paint-order:stroke fill;stroke-width:4.4px;stroke:#000;fill:#fff}.moving-text.svelte-1icwblj{font-size:21px;color:#000;paint-order:stroke fill;stroke:#fff;stroke-width:4;text-anchor:middle;font-family:Arial}.moving-circle.svelte-1icwblj{stroke:#000;stroke-width:4;fill:#8aff5080;transition:r 1s;r:25}.moving-circle-back.svelte-1icwblj{stroke:#000;stroke-width:4;fill:#ff505380}svg.svelte-1icwblj{border-radius:5;transition:all .45s;height:100%;background-color:#0000}.nn-text.svelte-1icwblj{font-size:12px;transition:all .45s;font-weight:700}.nn-g.svelte-1icwblj{transition:all .45s}.nn-edge-int.svelte-1icwblj{stroke:#000;opacity:.95;transition:all .45s}@keyframes svelte-1icwblj-dash{0%{stroke-dashoffset:1000}}.input.svelte-1icwblj{fill:#87ceeb;stroke:#87ceeb}.hidden-node.svelte-1icwblj{fill:coral;stroke:coral}.output.svelte-1icwblj{fill:#29a5a5;stroke:#29a5a5}.nn-node.svelte-1icwblj{stroke:#000;stroke-width:.5;fill-opacity:.95;transition:all .45s}#network-chart-interactive.svelte-1icwblj{width:100%;max-height:100%;height:100%}path.svelte-1jtnw0o{fill:none;stroke:#000;stroke-width:3}circle.svelte-1jtnw0o{stroke:#000;stroke-width:2px;fill:#fff;r:3}.axis-label.svelte-1jtnw0o,.chart-title.svelte-1jtnw0o{font-size:10px}#stackedrect-holder.svelte-1jtnw0o{height:100%;width:100%}.axis-line.svelte-1jtnw0o{stroke-width:3;stroke:#000;fill:none}.axis-tick.svelte-1jtnw0o{stroke-width:1;stroke:#000;fill:none;opacity:.1;font-size:8px}.axis-text.svelte-1jtnw0o{font-family:Arial;font-size:9px}circle.svelte-p6xasy{stroke:var(--bg);stroke-width:2px}.chart-title.svelte-p6xasy{font-size:10px}#nn-prediction-container.svelte-p6xasy{height:100%;width:100%}.hex-cell.svelte-p6xasy{opacity:.5;stroke-width:0}#dataset-icon-container.svelte-1l0422m{outline:1px solid black}circle.svelte-1l0422m{stroke:var(--bg);stroke-width:2px}.chart-title.svelte-1l0422m{font-size:10px}#dataset-icon-container.svelte-1l0422m{height:100%;width:100%}.dataset-icons.svelte-2nl0ai{display:flex;justify-content:space-between;align-items:flex-end;width:80%;height:50px;margin:auto}.dataset-icon.svelte-2nl0ai{width:45px;height:45px;opacity:.5}.dataset-icon.svelte-2nl0ai:hover,.selected.svelte-2nl0ai{outline:3px solid var(--squidink);opacity:1}.button-container.svelte-vyu3r0{display:flex;justify-content:space-between;width:50%;margin:auto;padding-top:5px}p#interactive-p.svelte-vyu3r0{margin-bottom:0}#layer-controls.svelte-vyu3r0{display:flex;justify-content:center;margin:auto;height:100%}button#interactive-button.svelte-vyu3r0{background-color:var(--bb);border:1px solid black;color:#000;padding:5px 10px;font-size:14px;cursor:pointer}button#interactive-button.svelte-vyu3r0:hover{background-color:#000;border:1px solid black;color:#fff}#left.svelte-wdmqkz.svelte-wdmqkz{width:100%;height:100%;display:grid;grid-template-columns:100%;grid-template-rows:8% 80% 8%;row-gap:5px}#animation-duration-input.svelte-wdmqkz.svelte-wdmqkz{display:flex;flex-direction:column}#lol-container.svelte-wdmqkz.svelte-wdmqkz{display:grid;height:500px;grid-template-columns:70% 30%}.network-plot.svelte-wdmqkz.svelte-wdmqkz{width:100%;height:500px;margin:auto}#eval-container.svelte-wdmqkz.svelte-wdmqkz{display:grid;grid-template-rows:10% 50% 40%;grid-template-columns:100%;grid-gap:0%;max-height:500px;width:100%}#scatter-plot.svelte-wdmqkz.svelte-wdmqkz,#error-plot.svelte-wdmqkz.svelte-wdmqkz{height:100%}button.svelte-wdmqkz.svelte-wdmqkz{opacity:1;pointer-events:auto;border:1px solid black}button[disabled].svelte-wdmqkz.svelte-wdmqkz{opacity:.6;pointer-events:none}#animation-controls.svelte-wdmqkz.svelte-wdmqkz{display:flex;flex-direction:row;align-items:center;max-width:80%;margin:0 auto;padding-top:5px;font-size:16px;font-weight:700}#play-button.svelte-wdmqkz.svelte-wdmqkz{margin-right:auto;display:flex}#play-button.svelte-wdmqkz button.svelte-wdmqkz{border-radius:0;padding:8px 24px;font-size:16px;margin-right:10px;opacity:1}#play-button.svelte-wdmqkz button.svelte-wdmqkz:hover{background-color:#000;color:#fff}section.svelte-wdmqkz.svelte-wdmqkz{max-width:1200px;margin:auto;height:500px}input.svelte-wdmqkz.svelte-wdmqkz{margin:auto}.active.svelte-wdmqkz.svelte-wdmqkz{opacity:.8}\n",
       "`,document.head.appendChild(en);function K(){}const Ke=e=>e;function tn(e){return e()}function nn(){return Object.create(null)}function re(e){e.forEach(tn)}function Pe(e){return typeof e==\"function\"}function ge(e,t){return e!=e?t==t:e!==t||e&&typeof e==\"object\"||typeof e==\"function\"}function Er(e){return Object.keys(e).length===0}function rn(e,...t){if(e==null)return K;const n=e.subscribe(...t);return n.unsubscribe?()=>n.unsubscribe():n}function W(e,t,n){e.$$.on_destroy.push(rn(t,n))}function F(e,t,n){return e.set(n),t}function ln(e){const t=typeof e==\"string\"&&e.match(/^\\s*(-?[\\d.]+)([^\\s]*)\\s*$/);return t?[parseFloat(t[1]),t[2]||\"px\"]:[e,\"px\"]}const on=typeof window<\"u\";let xt=on?()=>window.performance.now():()=>Date.now(),$t=on?e=>requestAnimationFrame(e):K;const Se=new Set;function an(e){Se.forEach(t=>{t.c(e)||(Se.delete(t),t.f())}),Se.size!==0&&$t(an)}function Mt(e){let t;return Se.size===0&&$t(an),{promise:new Promise(n=>{Se.add(t={c:e,f:n})}),abort(){Se.delete(t)}}}function x(e,t){e.appendChild(t)}function sn(e){if(!e)return document;const t=e.getRootNode?e.getRootNode():e.ownerDocument;return t&&t.host?t:e.ownerDocument}function Ir(e){const t=O(\"style\");return Lr(sn(e),t),t.sheet}function Lr(e,t){return x(e.head||e,t),t.sheet}function L(e,t,n){e.insertBefore(t,n||null)}function I(e){e.parentNode&&e.parentNode.removeChild(e)}function Z(e,t){for(let n=0;n<e.length;n+=1)e[n]&&e[n].d(t)}function O(e){return document.createElement(e)}function j(e){return document.createElementNS(\"http://www.w3.org/2000/svg\",e)}function G(e){return document.createTextNode(e)}function ue(){return G(\" \")}function Q(){return G(\"\")}function ie(e,t,n,r){return e.addEventListener(t,n,r),()=>e.removeEventListener(t,n,r)}function u(e,t,n){n==null?e.removeAttribute(t):e.getAttribute(t)!==n&&e.setAttribute(t,n)}function Rr(e){return e===\"\"?null:+e}function Br(e){return Array.from(e.childNodes)}function ye(e,t){t=\"\"+t,e.data!==t&&(e.data=t)}function fn(e,t){e.value=t==null?\"\":t}let Qe;function Cr(){if(Qe===void 0){Qe=!1;try{typeof window<\"u\"&&window.parent&&window.parent.document}catch{Qe=!0}}return Qe}function et(e,t){getComputedStyle(e).position===\"static\"&&(e.style.position=\"relative\");const r=O(\"iframe\");r.setAttribute(\"style\",\"display: block; position: absolute; top: 0; left: 0; width: 100%; height: 100%; overflow: hidden; border: 0; opacity: 0; pointer-events: none; z-index: -1;\"),r.setAttribute(\"aria-hidden\",\"true\"),r.tabIndex=-1;const i=Cr();let o;return i?(r.src=\"data:text/html,<script>onresize=function(){parent.postMessage(0,'*')}<\\/script>\",o=ie(window,\"message\",l=>{l.source===r.contentWindow&&t()})):(r.src=\"about:blank\",r.onload=()=>{o=ie(r.contentWindow,\"resize\",t),t()}),x(e,r),()=>{(i||o&&r.contentWindow)&&o(),I(r)}}function be(e,t,n){e.classList[n?\"add\":\"remove\"](t)}function Hr(e,t,{bubbles:n=!1,cancelable:r=!1}={}){const i=document.createEvent(\"CustomEvent\");return i.initCustomEvent(e,n,r,t),i}const tt=new Map;let nt=0;function Dr(e){let t=5381,n=e.length;for(;n--;)t=(t<<5)-t^e.charCodeAt(n);return t>>>0}function Wr(e,t){const n={stylesheet:Ir(t),rules:{}};return tt.set(e,n),n}function rt(e,t,n,r,i,o,l,a=0){const s=16.666/r;let f=`{\n",
       "`;for(let _=0;_<=1;_+=s){const g=t+(n-t)*o(_);f+=_*100+`%{${l(g,1-g)}}\n",
       "`}const d=f+`100% {${l(n,1-n)}}\n",
       "}`,c=`__svelte_${Dr(d)}_${a}`,m=sn(e),{stylesheet:b,rules:p}=tt.get(m)||Wr(m,e);p[c]||(p[c]=!0,b.insertRule(`@keyframes ${c} ${d}`,b.cssRules.length));const v=e.style.animation||\"\";return e.style.animation=`${v?`${v}, `:\"\"}${c} ${r}ms linear ${i}ms 1 both`,nt+=1,c}function it(e,t){const n=(e.style.animation||\"\").split(\", \"),r=n.filter(t?o=>o.indexOf(t)<0:o=>o.indexOf(\"__svelte\")===-1),i=n.length-r.length;i&&(e.style.animation=r.join(\", \"),nt-=i,nt||Or())}function Or(){$t(()=>{nt||(tt.forEach(e=>{const{ownerNode:t}=e.stylesheet;t&&I(t)}),tt.clear())})}let Ve;function Te(e){Ve=e}function Vr(){if(!Ve)throw new Error(\"Function called outside component initialization\");return Ve}function un(e){Vr().$$.on_mount.push(e)}const Ee=[],Nt=[];let Ie=[];const cn=[],Tr=Promise.resolve();let zt=!1;function Fr(){zt||(zt=!0,Tr.then(hn))}function Y(e){Ie.push(e)}const jt=new Set;let Le=0;function hn(){if(Le!==0)return;const e=Ve;do{try{for(;Le<Ee.length;){const t=Ee[Le];Le++,Te(t),Ur(t.$$)}}catch(t){throw Ee.length=0,Le=0,t}for(Te(null),Ee.length=0,Le=0;Nt.length;)Nt.pop()();for(let t=0;t<Ie.length;t+=1){const n=Ie[t];jt.has(n)||(jt.add(n),n())}Ie.length=0}while(Ee.length);for(;cn.length;)cn.pop()();zt=!1,jt.clear(),Te(e)}function Ur(e){if(e.fragment!==null){e.update(),re(e.before_update);const t=e.dirty;e.dirty=[-1],e.fragment&&e.fragment.p(e.ctx,t),e.after_update.forEach(Y)}}function Xr(e){const t=[],n=[];Ie.forEach(r=>e.indexOf(r)===-1?t.push(r):n.push(r)),n.forEach(r=>r()),Ie=t}let Fe;function qt(){return Fe||(Fe=Promise.resolve(),Fe.then(()=>{Fe=null})),Fe}function we(e,t,n){e.dispatchEvent(Hr(`${t?\"intro\":\"outro\"}${n}`))}const lt=new Set;let ce;function oe(){ce={r:0,c:[],p:ce}}function ae(){ce.r||re(ce.c),ce=ce.p}function R(e,t){e&&e.i&&(lt.delete(e),e.i(t))}function V(e,t,n,r){if(e&&e.o){if(lt.has(e))return;lt.add(e),ce.c.push(()=>{lt.delete(e),r&&(n&&e.d(1),r())}),e.o(t)}else r&&r()}const At={duration:0};function ve(e,t,n){const r={direction:\"in\"};let i=t(e,n,r),o=!1,l,a,s=0;function f(){l&&it(e,l)}function d(){const{delay:m=0,duration:b=300,easing:p=Ke,tick:v=K,css:_}=i||At;_&&(l=rt(e,0,1,b,m,p,_,s++)),v(0,1);const g=xt()+m,h=g+b;a&&a.abort(),o=!0,Y(()=>we(e,!0,\"start\")),a=Mt(y=>{if(o){if(y>=h)return v(1,0),we(e,!0,\"end\"),f(),o=!1;if(y>=g){const w=p((y-g)/b);v(w,1-w)}}return o})}let c=!1;return{start(){c||(c=!0,it(e),Pe(i)?(i=i(r),qt().then(d)):d())},invalidate(){c=!1},end(){o&&(f(),o=!1)}}}function ke(e,t,n){const r={direction:\"out\"};let i=t(e,n,r),o=!0,l;const a=ce;a.r+=1;function s(){const{delay:f=0,duration:d=300,easing:c=Ke,tick:m=K,css:b}=i||At;b&&(l=rt(e,1,0,d,f,c,b));const p=xt()+f,v=p+d;Y(()=>we(e,!1,\"start\")),Mt(_=>{if(o){if(_>=v)return m(0,1),we(e,!1,\"end\"),--a.r||re(a.c),!1;if(_>=p){const g=c((_-p)/d);m(1-g,g)}}return o})}return Pe(i)?qt().then(()=>{i=i(r),s()}):s(),{end(f){f&&i.tick&&i.tick(1,0),o&&(l&&it(e,l),o=!1)}}}function Re(e,t,n,r){const i={direction:\"both\"};let o=t(e,n,i),l=r?0:1,a=null,s=null,f=null;function d(){f&&it(e,f)}function c(b,p){const v=b.b-l;return p*=Math.abs(v),{a:l,b:b.b,d:v,duration:p,start:b.start,end:b.start+p,group:b.group}}function m(b){const{delay:p=0,duration:v=300,easing:_=Ke,tick:g=K,css:h}=o||At,y={start:xt()+p,b};b||(y.group=ce,ce.r+=1),a||s?s=y:(h&&(d(),f=rt(e,l,b,v,p,_,h)),b&&g(0,1),a=c(y,v),Y(()=>we(e,b,\"start\")),Mt(w=>{if(s&&w>s.start&&(a=c(s,v),s=null,we(e,a.b,\"start\"),h&&(d(),f=rt(e,l,a.b,a.duration,0,_,o.css))),a){if(w>=a.end)g(l=a.b,1-l),we(e,a.b,\"end\"),s||(a.b?d():--a.group.r||re(a.group.c)),a=null;else if(w>=a.start){const z=w-a.start;l=a.a+a.d*_(z/a.duration),g(l,1-l)}}return!!(a||s)}))}return{run(b){Pe(o)?qt().then(()=>{o=o(i),m(b)}):m(b)},end(){d(),a=s=null}}}const Gr=typeof window<\"u\"?window:typeof globalThis<\"u\"?globalThis:global;function Be(e){e&&e.c()}function xe(e,t,n,r){const{fragment:i,after_update:o}=e.$$;i&&i.m(t,n),r||Y(()=>{const l=e.$$.on_mount.map(tn).filter(Pe);e.$$.on_destroy?e.$$.on_destroy.push(...l):re(l),e.$$.on_mount=[]}),o.forEach(Y)}function $e(e,t){const n=e.$$;n.fragment!==null&&(Xr(n.after_update),re(n.on_destroy),n.fragment&&n.fragment.d(t),n.on_destroy=n.fragment=null,n.ctx=[])}function Yr(e,t){e.$$.dirty[0]===-1&&(Ee.push(e),Fr(),e.$$.dirty.fill(0)),e.$$.dirty[t/31|0]|=1<<t%31}function Me(e,t,n,r,i,o,l,a=[-1]){const s=Ve;Te(e);const f=e.$$={fragment:null,ctx:[],props:o,update:K,not_equal:i,bound:nn(),on_mount:[],on_destroy:[],on_disconnect:[],before_update:[],after_update:[],context:new Map(t.context||(s?s.$$.context:[])),callbacks:nn(),dirty:a,skip_bound:!1,root:t.target||s.$$.root};l&&l(f.root);let d=!1;if(f.ctx=n?n(e,t.props||{},(c,m,...b)=>{const p=b.length?b[0]:m;return f.ctx&&i(f.ctx[c],f.ctx[c]=p)&&(!f.skip_bound&&f.bound[c]&&f.bound[c](p),d&&Yr(e,c)),m}):[],f.update(),d=!0,re(f.before_update),f.fragment=r?r(f.ctx):!1,t.target){if(t.hydrate){const c=Br(t.target);f.fragment&&f.fragment.l(c),c.forEach(I)}else f.fragment&&f.fragment.c();t.intro&&R(e.$$.fragment),xe(e,t.target,t.anchor,t.customElement),hn()}Te(s)}class Ne{$destroy(){$e(this,1),this.$destroy=K}$on(t,n){if(!Pe(n))return K;const r=this.$$.callbacks[t]||(this.$$.callbacks[t]=[]);return r.push(n),()=>{const i=r.indexOf(n);i!==-1&&r.splice(i,1)}}$set(t){this.$$set&&!Er(t)&&(this.$$.skip_bound=!0,this.$$set(t),this.$$.skip_bound=!1)}}function ot(e,t){return e==null||t==null?NaN:e<t?-1:e>t?1:e>=t?0:NaN}function Jr(e,t){return e==null||t==null?NaN:t<e?-1:t>e?1:t>=e?0:NaN}function dn(e){let t,n,r;e.length!==2?(t=ot,n=(a,s)=>ot(e(a),s),r=(a,s)=>e(a)-s):(t=e===ot||e===Jr?e:Zr,n=e,r=e);function i(a,s,f=0,d=a.length){if(f<d){if(t(s,s)!==0)return d;do{const c=f+d>>>1;n(a[c],s)<0?f=c+1:d=c}while(f<d)}return f}function o(a,s,f=0,d=a.length){if(f<d){if(t(s,s)!==0)return d;do{const c=f+d>>>1;n(a[c],s)<=0?f=c+1:d=c}while(f<d)}return f}function l(a,s,f=0,d=a.length){const c=i(a,s,f,d-1);return c>f&&r(a[c-1],s)>-r(a[c],s)?c-1:c}return{left:i,center:l,right:o}}function Zr(){return 0}function Kr(e){return e===null?NaN:+e}const Qr=dn(ot).right;dn(Kr).center;const ei=Qr;function gn(e,t){let n,r;if(t===void 0)for(const i of e)i!=null&&(n===void 0?i>=i&&(n=r=i):(n>i&&(n=i),r<i&&(r=i)));else{let i=-1;for(let o of e)(o=t(o,++i,e))!=null&&(n===void 0?o>=o&&(n=r=o):(n>o&&(n=o),r<o&&(r=o)))}return[n,r]}class mn extends Map{constructor(t,n=ri){if(super(),Object.defineProperties(this,{_intern:{value:new Map},_key:{value:n}}),t!=null)for(const[r,i]of t)this.set(r,i)}get(t){return super.get(_n(this,t))}has(t){return super.has(_n(this,t))}set(t,n){return super.set(ti(this,t),n)}delete(t){return super.delete(ni(this,t))}}function _n({_intern:e,_key:t},n){const r=t(n);return e.has(r)?e.get(r):n}function ti({_intern:e,_key:t},n){const r=t(n);return e.has(r)?e.get(r):(e.set(r,n),n)}function ni({_intern:e,_key:t},n){const r=t(n);return e.has(r)&&(n=e.get(r),e.delete(r)),n}function ri(e){return e!==null&&typeof e==\"object\"?e.valueOf():e}const ii=Math.sqrt(50),li=Math.sqrt(10),oi=Math.sqrt(2);function at(e,t,n){const r=(t-e)/Math.max(0,n),i=Math.floor(Math.log10(r)),o=r/Math.pow(10,i),l=o>=ii?10:o>=li?5:o>=oi?2:1;let a,s,f;return i<0?(f=Math.pow(10,-i)/l,a=Math.round(e*f),s=Math.round(t*f),a/f<e&&++a,s/f>t&&--s,f=-f):(f=Math.pow(10,i)*l,a=Math.round(e/f),s=Math.round(t/f),a*f<e&&++a,s*f>t&&--s),s<a&&.5<=n&&n<2?at(e,t,n*2):[a,s,f]}function ai(e,t,n){if(t=+t,e=+e,n=+n,!(n>0))return[];if(e===t)return[e];const r=t<e,[i,o,l]=r?at(t,e,n):at(e,t,n);if(!(o>=i))return[];const a=o-i+1,s=new Array(a);if(r)if(l<0)for(let f=0;f<a;++f)s[f]=(o-f)/-l;else for(let f=0;f<a;++f)s[f]=(o-f)*l;else if(l<0)for(let f=0;f<a;++f)s[f]=(i+f)/-l;else for(let f=0;f<a;++f)s[f]=(i+f)*l;return s}function Pt(e,t,n){return t=+t,e=+e,n=+n,at(e,t,n)[2]}function si(e,t,n){t=+t,e=+e,n=+n;const r=t<e,i=r?Pt(t,e,n):Pt(e,t,n);return(r?-1:1)*(i<0?1/-i:i)}function ze(e,t){let n;if(t===void 0)for(const r of e)r!=null&&(n<r||n===void 0&&r>=r)&&(n=r);else{let r=-1;for(let i of e)(i=t(i,++r,e))!=null&&(n<i||n===void 0&&i>=i)&&(n=i)}return n}function st(e,t){let n;if(t===void 0)for(const r of e)r!=null&&(n>r||n===void 0&&r>=r)&&(n=r);else{let r=-1;for(let i of e)(i=t(i,++r,e))!=null&&(n>i||n===void 0&&i>=i)&&(n=i)}return n}function pn(e,t){switch(arguments.length){case 0:break;case 1:this.range(e);break;default:this.range(t).domain(e);break}return this}const bn=Symbol(\"implicit\");function St(){var e=new mn,t=[],n=[],r=bn;function i(o){let l=e.get(o);if(l===void 0){if(r!==bn)return r;e.set(o,l=t.push(o)-1)}return n[l%n.length]}return i.domain=function(o){if(!arguments.length)return t.slice();t=[],e=new mn;for(const l of o)e.has(l)||e.set(l,t.push(l)-1);return i},i.range=function(o){return arguments.length?(n=Array.from(o),i):n.slice()},i.unknown=function(o){return arguments.length?(r=o,i):r},i.copy=function(){return St(t,n).unknown(r)},pn.apply(i,arguments),i}function Et(e,t,n){e.prototype=t.prototype=n,n.constructor=e}function yn(e,t){var n=Object.create(e.prototype);for(var r in t)n[r]=t[r];return n}function Ue(){}var Xe=.7,ft=1/Xe,Ce=\"\\s*([+-]?\\d+)\\s*\",Ge=\"\\s*([+-]?(?:\\d*\\.)?\\d+(?:[eE][+-]?\\d+)?)\\s*\",he=\"\\s*([+-]?(?:\\d*\\.)?\\d+(?:[eE][+-]?\\d+)?)%\\s*\",fi=/^#([0-9a-f]{3,8})$/,ui=new RegExp(`^rgb\\(${Ce},${Ce},${Ce}\\)$`),ci=new RegExp(`^rgb\\(${he},${he},${he}\\)$`),hi=new RegExp(`^rgba\\(${Ce},${Ce},${Ce},${Ge}\\)$`),di=new RegExp(`^rgba\\(${he},${he},${he},${Ge}\\)$`),gi=new RegExp(`^hsl\\(${Ge},${he},${he}\\)$`),mi=new RegExp(`^hsla\\(${Ge},${he},${he},${Ge}\\)$`),wn={aliceblue:15792383,antiquewhite:16444375,aqua:65535,aquamarine:8388564,azure:15794175,beige:16119260,bisque:16770244,black:0,blanchedalmond:16772045,blue:255,blueviolet:9055202,brown:10824234,burlywood:14596231,cadetblue:6266528,chartreuse:8388352,chocolate:13789470,coral:16744272,cornflowerblue:6591981,cornsilk:16775388,crimson:14423100,cyan:65535,darkblue:139,darkcyan:35723,darkgoldenrod:12092939,darkgray:11119017,darkgreen:25600,darkgrey:11119017,darkkhaki:12433259,darkmagenta:9109643,darkolivegreen:5597999,darkorange:16747520,darkorchid:10040012,darkred:9109504,darksalmon:15308410,darkseagreen:9419919,darkslateblue:4734347,darkslategray:3100495,darkslategrey:3100495,darkturquoise:52945,darkviolet:9699539,deeppink:16716947,deepskyblue:49151,dimgray:6908265,dimgrey:6908265,dodgerblue:2003199,firebrick:11674146,floralwhite:16775920,forestgreen:2263842,fuchsia:16711935,gainsboro:14474460,ghostwhite:16316671,gold:16766720,goldenrod:14329120,gray:8421504,green:32768,greenyellow:11403055,grey:8421504,honeydew:15794160,hotpink:16738740,indianred:13458524,indigo:4915330,ivory:16777200,khaki:15787660,lavender:15132410,lavenderblush:16773365,lawngreen:8190976,lemonchiffon:16775885,lightblue:11393254,lightcoral:15761536,lightcyan:14745599,lightgoldenrodyellow:16448210,lightgray:13882323,lightgreen:9498256,lightgrey:13882323,lightpink:16758465,lightsalmon:16752762,lightseagreen:2142890,lightskyblue:8900346,lightslategray:7833753,lightslategrey:7833753,lightsteelblue:11584734,lightyellow:16777184,lime:65280,limegreen:3329330,linen:16445670,magenta:16711935,maroon:8388608,mediumaquamarine:6737322,mediumblue:205,mediumorchid:12211667,mediumpurple:9662683,mediumseagreen:3978097,mediumslateblue:8087790,mediumspringgreen:64154,mediumturquoise:4772300,mediumvioletred:13047173,midnightblue:1644912,mintcream:16121850,mistyrose:16770273,moccasin:16770229,navajowhite:16768685,navy:128,oldlace:16643558,olive:8421376,olivedrab:7048739,orange:16753920,orangered:16729344,orchid:14315734,palegoldenrod:15657130,palegreen:10025880,paleturquoise:11529966,palevioletred:14381203,papayawhip:16773077,peachpuff:16767673,peru:13468991,pink:16761035,plum:14524637,powderblue:11591910,purple:8388736,rebeccapurple:6697881,red:16711680,rosybrown:12357519,royalblue:4286945,saddlebrown:9127187,salmon:16416882,sandybrown:16032864,seagreen:3050327,seashell:16774638,sienna:10506797,silver:12632256,skyblue:8900331,slateblue:6970061,slategray:7372944,slategrey:7372944,snow:16775930,springgreen:65407,steelblue:4620980,tan:13808780,teal:32896,thistle:14204888,tomato:16737095,turquoise:4251856,violet:15631086,wheat:16113331,white:16777215,whitesmoke:16119285,yellow:16776960,yellowgreen:10145074};Et(Ue,Ye,{copy(e){return Object.assign(new this.constructor,this,e)},displayable(){return this.rgb().displayable()},hex:vn,formatHex:vn,formatHex8:_i,formatHsl:pi,formatRgb:kn,toString:kn});function vn(){return this.rgb().formatHex()}function _i(){return this.rgb().formatHex8()}function pi(){return zn(this).formatHsl()}function kn(){return this.rgb().formatRgb()}function Ye(e){var t,n;return e=(e+\"\").trim().toLowerCase(),(t=fi.exec(e))?(n=t[1].length,t=parseInt(t[1],16),n===6?xn(t):n===3?new te(t>>8&15|t>>4&240,t>>4&15|t&240,(t&15)<<4|t&15,1):n===8?ut(t>>24&255,t>>16&255,t>>8&255,(t&255)/255):n===4?ut(t>>12&15|t>>8&240,t>>8&15|t>>4&240,t>>4&15|t&240,((t&15)<<4|t&15)/255):null):(t=ui.exec(e))?new te(t[1],t[2],t[3],1):(t=ci.exec(e))?new te(t[1]*255/100,t[2]*255/100,t[3]*255/100,1):(t=hi.exec(e))?ut(t[1],t[2],t[3],t[4]):(t=di.exec(e))?ut(t[1]*255/100,t[2]*255/100,t[3]*255/100,t[4]):(t=gi.exec(e))?Nn(t[1],t[2]/100,t[3]/100,1):(t=mi.exec(e))?Nn(t[1],t[2]/100,t[3]/100,t[4]):wn.hasOwnProperty(e)?xn(wn[e]):e===\"transparent\"?new te(NaN,NaN,NaN,0):null}function xn(e){return new te(e>>16&255,e>>8&255,e&255,1)}function ut(e,t,n,r){return r<=0&&(e=t=n=NaN),new te(e,t,n,r)}function bi(e){return e instanceof Ue||(e=Ye(e)),e?(e=e.rgb(),new te(e.r,e.g,e.b,e.opacity)):new te}function It(e,t,n,r){return arguments.length===1?bi(e):new te(e,t,n,r==null?1:r)}function te(e,t,n,r){this.r=+e,this.g=+t,this.b=+n,this.opacity=+r}Et(te,It,yn(Ue,{brighter(e){return e=e==null?ft:Math.pow(ft,e),new te(this.r*e,this.g*e,this.b*e,this.opacity)},darker(e){return e=e==null?Xe:Math.pow(Xe,e),new te(this.r*e,this.g*e,this.b*e,this.opacity)},rgb(){return this},clamp(){return new te(je(this.r),je(this.g),je(this.b),ct(this.opacity))},displayable(){return-.5<=this.r&&this.r<255.5&&-.5<=this.g&&this.g<255.5&&-.5<=this.b&&this.b<255.5&&0<=this.opacity&&this.opacity<=1},hex:$n,formatHex:$n,formatHex8:yi,formatRgb:Mn,toString:Mn}));function $n(){return`#${qe(this.r)}${qe(this.g)}${qe(this.b)}`}function yi(){return`#${qe(this.r)}${qe(this.g)}${qe(this.b)}${qe((isNaN(this.opacity)?1:this.opacity)*255)}`}function Mn(){const e=ct(this.opacity);return`${e===1?\"rgb(\":\"rgba(\"}${je(this.r)}, ${je(this.g)}, ${je(this.b)}${e===1?\")\":`, ${e})`}`}function ct(e){return isNaN(e)?1:Math.max(0,Math.min(1,e))}function je(e){return Math.max(0,Math.min(255,Math.round(e)||0))}function qe(e){return e=je(e),(e<16?\"0\":\"\")+e.toString(16)}function Nn(e,t,n,r){return r<=0?e=t=n=NaN:n<=0||n>=1?e=t=NaN:t<=0&&(e=NaN),new se(e,t,n,r)}function zn(e){if(e instanceof se)return new se(e.h,e.s,e.l,e.opacity);if(e instanceof Ue||(e=Ye(e)),!e)return new se;if(e instanceof se)return e;e=e.rgb();var t=e.r/255,n=e.g/255,r=e.b/255,i=Math.min(t,n,r),o=Math.max(t,n,r),l=NaN,a=o-i,s=(o+i)/2;return a?(t===o?l=(n-r)/a+(n<r)*6:n===o?l=(r-t)/a+2:l=(t-n)/a+4,a/=s<.5?o+i:2-o-i,l*=60):a=s>0&&s<1?0:l,new se(l,a,s,e.opacity)}function wi(e,t,n,r){return arguments.length===1?zn(e):new se(e,t,n,r==null?1:r)}function se(e,t,n,r){this.h=+e,this.s=+t,this.l=+n,this.opacity=+r}Et(se,wi,yn(Ue,{brighter(e){return e=e==null?ft:Math.pow(ft,e),new se(this.h,this.s,this.l*e,this.opacity)},darker(e){return e=e==null?Xe:Math.pow(Xe,e),new se(this.h,this.s,this.l*e,this.opacity)},rgb(){var e=this.h%360+(this.h<0)*360,t=isNaN(e)||isNaN(this.s)?0:this.s,n=this.l,r=n+(n<.5?n:1-n)*t,i=2*n-r;return new te(Lt(e>=240?e-240:e+120,i,r),Lt(e,i,r),Lt(e<120?e+240:e-120,i,r),this.opacity)},clamp(){return new se(jn(this.h),ht(this.s),ht(this.l),ct(this.opacity))},displayable(){return(0<=this.s&&this.s<=1||isNaN(this.s))&&0<=this.l&&this.l<=1&&0<=this.opacity&&this.opacity<=1},formatHsl(){const e=ct(this.opacity);return`${e===1?\"hsl(\":\"hsla(\"}${jn(this.h)}, ${ht(this.s)*100}%, ${ht(this.l)*100}%${e===1?\")\":`, ${e})`}`}}));function jn(e){return e=(e||0)%360,e<0?e+360:e}function ht(e){return Math.max(0,Math.min(1,e||0))}function Lt(e,t,n){return(e<60?t+(n-t)*e/60:e<180?n:e<240?t+(n-t)*(240-e)/60:t)*255}const Rt=e=>()=>e;function vi(e,t){return function(n){return e+n*t}}function ki(e,t,n){return e=Math.pow(e,n),t=Math.pow(t,n)-e,n=1/n,function(r){return Math.pow(e+r*t,n)}}function xi(e){return(e=+e)==1?qn:function(t,n){return n-t?ki(t,n,e):Rt(isNaN(t)?n:t)}}function qn(e,t){var n=t-e;return n?vi(e,n):Rt(isNaN(e)?t:e)}const An=function e(t){var n=xi(t);function r(i,o){var l=n((i=It(i)).r,(o=It(o)).r),a=n(i.g,o.g),s=n(i.b,o.b),f=qn(i.opacity,o.opacity);return function(d){return i.r=l(d),i.g=a(d),i.b=s(d),i.opacity=f(d),i+\"\"}}return r.gamma=e,r}(1);function $i(e,t){t||(t=[]);var n=e?Math.min(t.length,e.length):0,r=t.slice(),i;return function(o){for(i=0;i<n;++i)r[i]=e[i]*(1-o)+t[i]*o;return r}}function Mi(e){return ArrayBuffer.isView(e)&&!(e instanceof DataView)}function Ni(e,t){var n=t?t.length:0,r=e?Math.min(n,e.length):0,i=new Array(r),o=new Array(n),l;for(l=0;l<r;++l)i[l]=Ht(e[l],t[l]);for(;l<n;++l)o[l]=t[l];return function(a){for(l=0;l<r;++l)o[l]=i[l](a);return o}}function zi(e,t){var n=new Date;return e=+e,t=+t,function(r){return n.setTime(e*(1-r)+t*r),n}}function dt(e,t){return e=+e,t=+t,function(n){return e*(1-n)+t*n}}function ji(e,t){var n={},r={},i;(e===null||typeof e!=\"object\")&&(e={}),(t===null||typeof t!=\"object\")&&(t={});for(i in t)i in e?n[i]=Ht(e[i],t[i]):r[i]=t[i];return function(o){for(i in n)r[i]=n[i](o);return r}}var Bt=/[-+]?(?:\\d+\\.?\\d*|\\.?\\d+)(?:[eE][-+]?\\d+)?/g,Ct=new RegExp(Bt.source,\"g\");function qi(e){return function(){return e}}function Ai(e){return function(t){return e(t)+\"\"}}function Pi(e,t){var n=Bt.lastIndex=Ct.lastIndex=0,r,i,o,l=-1,a=[],s=[];for(e=e+\"\",t=t+\"\";(r=Bt.exec(e))&&(i=Ct.exec(t));)(o=i.index)>n&&(o=t.slice(n,o),a[l]?a[l]+=o:a[++l]=o),(r=r[0])===(i=i[0])?a[l]?a[l]+=i:a[++l]=i:(a[++l]=null,s.push({i:l,x:dt(r,i)})),n=Ct.lastIndex;return n<t.length&&(o=t.slice(n),a[l]?a[l]+=o:a[++l]=o),a.length<2?s[0]?Ai(s[0].x):qi(t):(t=s.length,function(f){for(var d=0,c;d<t;++d)a[(c=s[d]).i]=c.x(f);return a.join(\"\")})}function Ht(e,t){var n=typeof t,r;return t==null||n===\"boolean\"?Rt(t):(n===\"number\"?dt:n===\"string\"?(r=Ye(t))?(t=r,An):Pi:t instanceof Ye?An:t instanceof Date?zi:Mi(t)?$i:Array.isArray(t)?Ni:typeof t.valueOf!=\"function\"&&typeof t.toString!=\"function\"||isNaN(t)?ji:dt)(e,t)}function Si(e,t){return e=+e,t=+t,function(n){return Math.round(e*(1-n)+t*n)}}function Ei(e){return function(){return e}}function Ii(e){return+e}var Pn=[0,1];function He(e){return e}function Dt(e,t){return(t-=e=+e)?function(n){return(n-e)/t}:Ei(isNaN(t)?NaN:.5)}function Li(e,t){var n;return e>t&&(n=e,e=t,t=n),function(r){return Math.max(e,Math.min(t,r))}}function Ri(e,t,n){var r=e[0],i=e[1],o=t[0],l=t[1];return i<r?(r=Dt(i,r),o=n(l,o)):(r=Dt(r,i),o=n(o,l)),function(a){return o(r(a))}}function Bi(e,t,n){var r=Math.min(e.length,t.length)-1,i=new Array(r),o=new Array(r),l=-1;for(e[r]<e[0]&&(e=e.slice().reverse(),t=t.slice().reverse());++l<r;)i[l]=Dt(e[l],e[l+1]),o[l]=n(t[l],t[l+1]);return function(a){var s=ei(e,a,1,r)-1;return o[s](i[s](a))}}function Ci(e,t){return t.domain(e.domain()).range(e.range()).interpolate(e.interpolate()).clamp(e.clamp()).unknown(e.unknown())}function Hi(){var e=Pn,t=Pn,n=Ht,r,i,o,l=He,a,s,f;function d(){var m=Math.min(e.length,t.length);return l!==He&&(l=Li(e[0],e[m-1])),a=m>2?Bi:Ri,s=f=null,c}function c(m){return m==null||isNaN(m=+m)?o:(s||(s=a(e.map(r),t,n)))(r(l(m)))}return c.invert=function(m){return l(i((f||(f=a(t,e.map(r),dt)))(m)))},c.domain=function(m){return arguments.length?(e=Array.from(m,Ii),d()):e.slice()},c.range=function(m){return arguments.length?(t=Array.from(m),d()):t.slice()},c.rangeRound=function(m){return t=Array.from(m),n=Si,d()},c.clamp=function(m){return arguments.length?(l=m?!0:He,d()):l!==He},c.interpolate=function(m){return arguments.length?(n=m,d()):n},c.unknown=function(m){return arguments.length?(o=m,c):o},function(m,b){return r=m,i=b,d()}}function Di(){return Hi()(He,He)}function Wi(e){return Math.abs(e=Math.round(e))>=1e21?e.toLocaleString(\"en\").replace(/,/g,\"\"):e.toString(10)}function gt(e,t){if((n=(e=t?e.toExponential(t-1):e.toExponential()).indexOf(\"e\"))<0)return null;var n,r=e.slice(0,n);return[r.length>1?r[0]+r.slice(2):r,+e.slice(n+1)]}function De(e){return e=gt(Math.abs(e)),e?e[1]:NaN}function Oi(e,t){return function(n,r){for(var i=n.length,o=[],l=0,a=e[0],s=0;i>0&&a>0&&(s+a+1>r&&(a=Math.max(1,r-s)),o.push(n.substring(i-=a,i+a)),!((s+=a+1)>r));)a=e[l=(l+1)%e.length];return o.reverse().join(t)}}function Vi(e){return function(t){return t.replace(/[0-9]/g,function(n){return e[+n]})}}var Ti=/^(?:(.)?([<>=^]))?([+\\-( ])?([$#])?(0)?(\\d+)?(,)?(\\.\\d+)?(~)?([a-z%])?$/i;function mt(e){if(!(t=Ti.exec(e)))throw new Error(\"invalid format: \"+e);var t;return new Wt({fill:t[1],align:t[2],sign:t[3],symbol:t[4],zero:t[5],width:t[6],comma:t[7],precision:t[8]&&t[8].slice(1),trim:t[9],type:t[10]})}mt.prototype=Wt.prototype;function Wt(e){this.fill=e.fill===void 0?\" \":e.fill+\"\",this.align=e.align===void 0?\">\":e.align+\"\",this.sign=e.sign===void 0?\"-\":e.sign+\"\",this.symbol=e.symbol===void 0?\"\":e.symbol+\"\",this.zero=!!e.zero,this.width=e.width===void 0?void 0:+e.width,this.comma=!!e.comma,this.precision=e.precision===void 0?void 0:+e.precision,this.trim=!!e.trim,this.type=e.type===void 0?\"\":e.type+\"\"}Wt.prototype.toString=function(){return this.fill+this.align+this.sign+this.symbol+(this.zero?\"0\":\"\")+(this.width===void 0?\"\":Math.max(1,this.width|0))+(this.comma?\",\":\"\")+(this.precision===void 0?\"\":\".\"+Math.max(0,this.precision|0))+(this.trim?\"~\":\"\")+this.type};function Fi(e){e:for(var t=e.length,n=1,r=-1,i;n<t;++n)switch(e[n]){case\".\":r=i=n;break;case\"0\":r===0&&(r=n),i=n;break;default:if(!+e[n])break e;r>0&&(r=0);break}return r>0?e.slice(0,r)+e.slice(i+1):e}var Sn;function Ui(e,t){var n=gt(e,t);if(!n)return e+\"\";var r=n[0],i=n[1],o=i-(Sn=Math.max(-8,Math.min(8,Math.floor(i/3)))*3)+1,l=r.length;return o===l?r:o>l?r+new Array(o-l+1).join(\"0\"):o>0?r.slice(0,o)+\".\"+r.slice(o):\"0.\"+new Array(1-o).join(\"0\")+gt(e,Math.max(0,t+o-1))[0]}function En(e,t){var n=gt(e,t);if(!n)return e+\"\";var r=n[0],i=n[1];return i<0?\"0.\"+new Array(-i).join(\"0\")+r:r.length>i+1?r.slice(0,i+1)+\".\"+r.slice(i+1):r+new Array(i-r.length+2).join(\"0\")}const In={\"%\":(e,t)=>(e*100).toFixed(t),b:e=>Math.round(e).toString(2),c:e=>e+\"\",d:Wi,e:(e,t)=>e.toExponential(t),f:(e,t)=>e.toFixed(t),g:(e,t)=>e.toPrecision(t),o:e=>Math.round(e).toString(8),p:(e,t)=>En(e*100,t),r:En,s:Ui,X:e=>Math.round(e).toString(16).toUpperCase(),x:e=>Math.round(e).toString(16)};function Ln(e){return e}var Rn=Array.prototype.map,Bn=[\"y\",\"z\",\"a\",\"f\",\"p\",\"n\",\"µ\",\"m\",\"\",\"k\",\"M\",\"G\",\"T\",\"P\",\"E\",\"Z\",\"Y\"];function Xi(e){var t=e.grouping===void 0||e.thousands===void 0?Ln:Oi(Rn.call(e.grouping,Number),e.thousands+\"\"),n=e.currency===void 0?\"\":e.currency[0]+\"\",r=e.currency===void 0?\"\":e.currency[1]+\"\",i=e.decimal===void 0?\".\":e.decimal+\"\",o=e.numerals===void 0?Ln:Vi(Rn.call(e.numerals,String)),l=e.percent===void 0?\"%\":e.percent+\"\",a=e.minus===void 0?\"−\":e.minus+\"\",s=e.nan===void 0?\"NaN\":e.nan+\"\";function f(c){c=mt(c);var m=c.fill,b=c.align,p=c.sign,v=c.symbol,_=c.zero,g=c.width,h=c.comma,y=c.precision,w=c.trim,z=c.type;z===\"n\"?(h=!0,z=\"g\"):In[z]||(y===void 0&&(y=12),w=!0,z=\"g\"),(_||m===\"0\"&&b===\"=\")&&(_=!0,m=\"0\",b=\"=\");var T=v===\"$\"?n:v===\"#\"&&/[boxX]/.test(z)?\"0\"+z.toLowerCase():\"\",J=v===\"$\"?r:/[%p]/.test(z)?l:\"\",H=In[z],U=/[defgprs%]/.test(z);y=y===void 0?6:/[gprs]/.test(z)?Math.max(1,Math.min(21,y)):Math.max(0,Math.min(20,y));function B(q){var S=T,C=J,E,P,D;if(z===\"c\")C=H(q)+C,q=\"\";else{q=+q;var N=q<0||1/q<0;if(q=isNaN(q)?s:H(Math.abs(q),y),w&&(q=Fi(q)),N&&+q==0&&p!==\"+\"&&(N=!1),S=(N?p===\"(\"?p:a:p===\"-\"||p===\"(\"?\"\":p)+S,C=(z===\"s\"?Bn[8+Sn/3]:\"\")+C+(N&&p===\"(\"?\")\":\"\"),U){for(E=-1,P=q.length;++E<P;)if(D=q.charCodeAt(E),48>D||D>57){C=(D===46?i+q.slice(E+1):q.slice(E))+C,q=q.slice(0,E);break}}}h&&!_&&(q=t(q,1/0));var M=S.length+q.length+C.length,k=M<g?new Array(g-M+1).join(m):\"\";switch(h&&_&&(q=t(k+q,k.length?g-C.length:1/0),k=\"\"),b){case\"<\":q=S+q+C+k;break;case\"=\":q=S+k+q+C;break;case\"^\":q=k.slice(0,M=k.length>>1)+S+q+C+k.slice(M);break;default:q=k+S+q+C;break}return o(q)}return B.toString=function(){return c+\"\"},B}function d(c,m){var b=f((c=mt(c),c.type=\"f\",c)),p=Math.max(-8,Math.min(8,Math.floor(De(m)/3)))*3,v=Math.pow(10,-p),_=Bn[8+p/3];return function(g){return b(v*g)+_}}return{format:f,formatPrefix:d}}var _t,pt,Cn;Gi({thousands:\",\",grouping:[3],currency:[\"$\",\"\"]});function Gi(e){return _t=Xi(e),pt=_t.format,Cn=_t.formatPrefix,_t}function Yi(e){return Math.max(0,-De(Math.abs(e)))}function Ji(e,t){return Math.max(0,Math.max(-8,Math.min(8,Math.floor(De(t)/3)))*3-De(Math.abs(e)))}function Zi(e,t){return e=Math.abs(e),t=Math.abs(t)-e,Math.max(0,De(t)-De(e))+1}function Ki(e,t,n,r){var i=si(e,t,n),o;switch(r=mt(r==null?\",f\":r),r.type){case\"s\":{var l=Math.max(Math.abs(e),Math.abs(t));return r.precision==null&&!isNaN(o=Ji(i,l))&&(r.precision=o),Cn(r,l)}case\"\":case\"e\":case\"g\":case\"p\":case\"r\":{r.precision==null&&!isNaN(o=Zi(i,Math.max(Math.abs(e),Math.abs(t))))&&(r.precision=o-(r.type===\"e\"));break}case\"f\":case\"%\":{r.precision==null&&!isNaN(o=Yi(i))&&(r.precision=o-(r.type===\"%\")*2);break}}return pt(r)}function Qi(e){var t=e.domain;return e.ticks=function(n){var r=t();return ai(r[0],r[r.length-1],n==null?10:n)},e.tickFormat=function(n,r){var i=t();return Ki(i[0],i[i.length-1],n==null?10:n,r)},e.nice=function(n){n==null&&(n=10);var r=t(),i=0,o=r.length-1,l=r[i],a=r[o],s,f,d=10;for(a<l&&(f=l,l=a,a=f,f=i,i=o,o=f);d-- >0;){if(f=Pt(l,a,n),f===s)return r[i]=l,r[o]=a,t(r);if(f>0)l=Math.floor(l/f)*f,a=Math.ceil(a/f)*f;else if(f<0)l=Math.ceil(l*f)/f,a=Math.floor(a*f)/f;else break;s=f}return e},e}function fe(){var e=Di();return e.copy=function(){return Ci(e,fe())},pn.apply(e,arguments),Qi(e)}const We=[];function el(e,t){return{subscribe:ne(e,t).subscribe}}function ne(e,t=K){let n;const r=new Set;function i(a){if(ge(e,a)&&(e=a,n)){const s=!We.length;for(const f of r)f[1](),We.push(f,e);if(s){for(let f=0;f<We.length;f+=2)We[f][0](We[f+1]);We.length=0}}}function o(a){i(a(e))}function l(a,s=K){const f=[a,s];return r.add(f),r.size===1&&(n=t(i)||K),a(e),()=>{r.delete(f),r.size===0&&n&&(n(),n=null)}}return{set:i,update:o,subscribe:l}}function Ot(e,t,n){const r=!Array.isArray(e),i=r?[e]:e,o=t.length<2;return el(n,l=>{let a=!1;const s=[];let f=0,d=K;const c=()=>{if(f)return;d();const b=t(r?s[0]:s,l);o?l(b):d=Pe(b)?b:K},m=i.map((b,p)=>rn(b,v=>{s[p]=v,f&=~(1<<p),a&&c()},()=>{f|=1<<p}));return a=!0,c(),function(){re(m),d(),a=!1}})}function tl(e){return e<.5?4*e*e*e:.5*Math.pow(2*e-2,3)+1}function nl(e){const t=e-1;return t*t*t+1}function Hn(e){return e===0||e===1?e:e<.5?.5*Math.pow(2,20*e-10):-.5*Math.pow(2,10-e*20)+1}const rl=ne([2,1,1]);Ot(rl,e=>e.length);const il=ne([1,2,1,1]);Ot(il,e=>e.length);const Dn=ne(!0),bt=ne(.25),Vt=ne(),Tt=ne([1]),me=ne([2,2,1,1]),Ft=Ot(me,e=>e.length),yt=ne([{x:0,loss:0,y:0}]),Ae=ne([{data:-.38845597192856474,grad:0},{data:-.7351119989217048,grad:0},{data:-.5571893834895465,grad:0},{data:-.8310789942374086,grad:0},{data:-.839566415437043,grad:0},{data:-.19699325424587988,grad:0},{data:.9259721085236738,grad:0}]),wt=ne([]),Ut=ne([]),vt=ne([]),_e=ne(!1);function Je(e,{delay:t=0,duration:n=400,easing:r=Ke}={}){const i=+getComputedStyle(e).opacity;return{delay:t,duration:n,easing:r,css:o=>`opacity: ${o*i}`}}function Ze(e,{delay:t=0,duration:n=400,easing:r=nl,x:i=0,y:o=0,opacity:l=0}={}){const a=getComputedStyle(e),s=+a.opacity,f=a.transform===\"none\"?\"\":a.transform,d=s*(1-l),[c,m]=ln(i),[b,p]=ln(o);return{delay:t,duration:n,easing:r,css:(v,_)=>`\n",
       "\t\t\ttransform: ${f} translate(${(1-v)*c}${m}, ${(1-v)*b}${p});\n",
       "\t\t\topacity: ${s-d*_}`}}function de(e,{delay:t=0,speed:n,duration:r,easing:i=tl}={}){let o=e.getTotalLength();const l=getComputedStyle(e);return l.strokeLinecap!==\"butt\"&&(o+=parseInt(l.strokeWidth)),r===void 0?n===void 0?r=800:r=o/n:typeof r==\"function\"&&(r=r(o)),{delay:t,duration:r,easing:i,css:(a,s)=>`\n",
       "\t\t\tstroke-dasharray: ${o};\n",
       "\t\t\tstroke-dashoffset: ${s*o};\n",
       "\t\t`}}function ll(e){const t=[],n=[];return e.forEach(r=>{t.push([r.x1,r.x2]),n.push(r.y)}),[t,n]}function Xt(e){let t=0;for(let n=0;n<e.length-1;n++)t+=e[n]*e[n+1];return t}const Tl=\"\",{document:Gt}=Gr;function Wn(e,t,n){const r=e.slice();return r[29]=t[n],r}function On(e,t,n){const r=e.slice();return r[32]=t[n],r[34]=n,r}function Vn(e,t,n){const r=e.slice();return r[29]=t[n],r}function Tn(e,t,n){const r=e.slice();return r[32]=t[n],r[34]=n,r}function Fn(e,t,n){const r=e.slice();return r[29]=t[n],r}function Un(e,t,n){const r=e.slice();return r[34]=t[n],r[41]=n,r}function Xn(e,t,n){const r=e.slice();return r[29]=t[n],r[43]=n,r}function Gn(e,t,n){const r=e.slice();r[44]=t[n],r[46]=n;const i=sl(r[41],r[46],r[43],r[3]);return r[32]=i,r}function Yn(e,t,n){const r=e.slice();return r[47]=t[n],r}function Jn(e,t,n){const r=e.slice();return r[47]=t[n],r}function Zn(e){let t,n,r,i,o,l=Array(e[4]).fill(null),a=[];for(let _=0;_<l.length;_+=1)a[_]=ir(Un(e,l,_));const s=_=>V(a[_],1,1,()=>{a[_]=null});let f=Array(e[4]).fill(null),d=[];for(let _=0;_<f.length;_+=1)d[_]=ar(Tn(e,f,_));let c=Array(e[4]).fill(null),m=[];for(let _=0;_<c.length;_+=1)m[_]=ur(On(e,c,_));let b=e[17](e[3][e[4]-1],e[2]),p=[];for(let _=0;_<b.length;_+=1)p[_]=cr(Wn(e,b,_));const v=_=>V(p[_],1,1,()=>{p[_]=null});return{c(){for(let _=0;_<a.length;_+=1)a[_].c();t=Q();for(let _=0;_<d.length;_+=1)d[_].c();n=Q();for(let _=0;_<m.length;_+=1)m[_].c();r=Q();for(let _=0;_<p.length;_+=1)p[_].c();i=Q()},m(_,g){for(let h=0;h<a.length;h+=1)a[h]&&a[h].m(_,g);L(_,t,g);for(let h=0;h<d.length;h+=1)d[h]&&d[h].m(_,g);L(_,n,g);for(let h=0;h<m.length;h+=1)m[h]&&m[h].m(_,g);L(_,r,g);for(let h=0;h<p.length;h+=1)p[h]&&p[h].m(_,g);L(_,i,g),o=!0},p(_,g){if(g[0]&253180){l=Array(_[4]).fill(null);let h;for(h=0;h<l.length;h+=1){const y=Un(_,l,h);a[h]?(a[h].p(y,g),R(a[h],1)):(a[h]=ir(y),a[h].c(),R(a[h],1),a[h].m(t.parentNode,t))}for(oe(),h=l.length;h<a.length;h+=1)s(h);ae()}if(g[0]&1704668){f=Array(_[4]).fill(null);let h;for(h=0;h<f.length;h+=1){const y=Tn(_,f,h);d[h]?d[h].p(y,g):(d[h]=ar(y),d[h].c(),d[h].m(n.parentNode,n))}for(;h<d.length;h+=1)d[h].d(1);d.length=f.length}if(g[0]&7995612){c=Array(_[4]).fill(null);let h;for(h=0;h<c.length;h+=1){const y=On(_,c,h);m[h]?m[h].p(y,g):(m[h]=ur(y),m[h].c(),m[h].m(r.parentNode,r))}for(;h<m.length;h+=1)m[h].d(1);m.length=c.length}if(g[0]&1704668){b=_[17](_[3][_[4]-1],_[2]);let h;for(h=0;h<b.length;h+=1){const y=Wn(_,b,h);p[h]?(p[h].p(y,g),R(p[h],1)):(p[h]=cr(y),p[h].c(),R(p[h],1),p[h].m(i.parentNode,i))}for(oe(),h=b.length;h<p.length;h+=1)v(h);ae()}},i(_){if(!o){for(let g=0;g<l.length;g+=1)R(a[g]);for(let g=0;g<b.length;g+=1)R(p[g]);o=!0}},o(_){a=a.filter(Boolean);for(let g=0;g<a.length;g+=1)V(a[g]);p=p.filter(Boolean);for(let g=0;g<p.length;g+=1)V(p[g]);o=!1},d(_){Z(a,_),_&&I(t),Z(d,_),_&&I(n),Z(m,_),_&&I(r),Z(p,_),_&&I(i)}}}function ol(e){let t,n,r=e[17](e[3][e[41]-1],e[2]),i=[];for(let l=0;l<r.length;l+=1)i[l]=nr(Gn(e,r,l));const o=l=>V(i[l],1,1,()=>{i[l]=null});return{c(){for(let l=0;l<i.length;l+=1)i[l].c();t=Q()},m(l,a){for(let s=0;s<i.length;s+=1)i[s]&&i[s].m(l,a);L(l,t,a),n=!0},p(l,a){if(a[0]&253180){r=l[17](l[3][l[41]-1],l[2]);let s;for(s=0;s<r.length;s+=1){const f=Gn(l,r,s);i[s]?(i[s].p(f,a),R(i[s],1)):(i[s]=nr(f),i[s].c(),R(i[s],1),i[s].m(t.parentNode,t))}for(oe(),s=r.length;s<i.length;s+=1)o(s);ae()}},i(l){if(!n){for(let a=0;a<r.length;a+=1)R(i[a]);n=!0}},o(l){i=i.filter(Boolean);for(let a=0;a<i.length;a+=1)V(i[a]);n=!1},d(l){Z(i,l),l&&I(t)}}}function Kn(e){let t,n,r=e[16](e[5][e[32]].data)+\"\",i,o,l,a,s;return{c(){t=j(\"text\"),n=j(\"textPath\"),i=G(r),u(n,\"href\",o=`#nn-edge-int-${e[41]}-${e[29]}-${e[44]}`),u(n,\"class\",\"weight-text-int svelte-1icwblj\"),u(n,\"startOffset\",\"50%\"),u(n,\"text-anchor\",\"middle\"),u(n,\"dominant-baseline\",\"middle\")},m(f,d){L(f,t,d),x(t,n),x(n,i),s=!0},p(f,d){(!s||d[0]&40)&&r!==(r=f[16](f[5][f[32]].data)+\"\")&&ye(i,r),(!s||d[0]&12&&o!==(o=`#nn-edge-int-${f[41]}-${f[29]}-${f[44]}`))&&u(n,\"href\",o)},i(f){s||(f&&Y(()=>{!s||(a&&a.end(1),l=ve(t,Ze,{x:50,duration:500}),l.start())}),s=!0)},o(f){l&&l.invalidate(),f&&(a=ke(t,Je,{duration:0})),s=!1},d(f){f&&I(t),f&&a&&a.end()}}}function Qn(e){let t,n=e[12]&&Kn(e);return{c(){n&&n.c(),t=Q()},m(r,i){n&&n.m(r,i),L(r,t,i)},p(r,i){r[12]?n?(n.p(r,i),i[0]&4096&&R(n,1)):(n=Kn(r),n.c(),R(n,1),n.m(t.parentNode,t)):n&&(oe(),V(n,1,1,()=>{n=null}),ae())},d(r){n&&n.d(r),r&&I(t)}}}function er(e){let t,n,r,i,o,l,a,s,f,d,c,m,b,p,v,_,g;return{c(){t=j(\"g\"),n=j(\"circle\"),r=j(\"set\"),o=j(\"set\"),s=j(\"text\"),f=j(\"set\"),c=j(\"set\"),b=j(\"animateMotion\"),u(r,\"attributeName\",\"opacity\"),u(r,\"to\",\"1\"),u(r,\"begin\",i=`animatePath${e[41]}${e[47]}.begin`),u(o,\"attributeName\",\"opacity\"),u(o,\"to\",\"0\"),u(o,\"begin\",l=`animatePath${e[41]}${e[47]}.end`),u(n,\"opacity\",\"0\"),u(n,\"id\",a=`circle${e[41]}${e[47]}`),u(n,\"class\",\"moving-circle svelte-1icwblj\"),u(f,\"attributeName\",\"opacity\"),u(f,\"to\",\"1\"),u(f,\"begin\",d=`animatePath${e[41]}${e[47]}.begin`),u(c,\"attributeName\",\"opacity\"),u(c,\"to\",\"0\"),u(c,\"begin\",m=`animatePath${e[41]}${e[47]}.end`),u(s,\"opacity\",\"0\"),u(s,\"class\",\"moving-text svelte-1icwblj\"),u(s,\"alignment-baseline\",\"middle\"),u(b,\"id\",p=`animatePath${e[41]}${e[47]}`),u(b,\"dur\",v=e[15]/2),u(b,\"begin\",_=e[41]===1?`${0+.1*e[47]}`:`animatePath${e[41]-1}${e[47]}.end`),u(b,\"restart\",\"whenNotActive\"),u(b,\"path\",g=`\n",
       "                            M ${e[7](e[41]-1)} ${e[6](e[44])}\n",
       "                            L ${e[7](e[41])} ${e[6](e[29])}\n",
       "                          `),u(b,\"class\",\"svelte-1icwblj\"),u(t,\"transform\",\"translate(0, 0)\")},m(h,y){L(h,t,y),x(t,n),x(n,r),x(n,o),x(t,s),x(s,f),x(s,c),x(t,b)},p(h,y){y[0]&16384&&i!==(i=`animatePath${h[41]}${h[47]}.begin`)&&u(r,\"begin\",i),y[0]&16384&&l!==(l=`animatePath${h[41]}${h[47]}.end`)&&u(o,\"begin\",l),y[0]&16384&&a!==(a=`circle${h[41]}${h[47]}`)&&u(n,\"id\",a),y[0]&16384&&d!==(d=`animatePath${h[41]}${h[47]}.begin`)&&u(f,\"begin\",d),y[0]&16384&&m!==(m=`animatePath${h[41]}${h[47]}.end`)&&u(c,\"begin\",m),y[0]&16384&&p!==(p=`animatePath${h[41]}${h[47]}`)&&u(b,\"id\",p),y[0]&32768&&v!==(v=h[15]/2)&&u(b,\"dur\",v),y[0]&16384&&_!==(_=h[41]===1?`${0+.1*h[47]}`:`animatePath${h[41]-1}${h[47]}.end`)&&u(b,\"begin\",_),y[0]&204&&g!==(g=`\n",
       "                            M ${h[7](h[41]-1)} ${h[6](h[44])}\n",
       "                            L ${h[7](h[41])} ${h[6](h[29])}\n",
       "                          `)&&u(b,\"path\",g)},d(h){h&&I(t)}}}function tr(e){let t,n,r,i,o,l,a,s,f,d=e[16](e[5][e[32]].grad)+\"\",c,m,b,p,v,_,g,h,y;return{c(){t=j(\"g\"),n=j(\"circle\"),r=j(\"set\"),o=j(\"set\"),f=j(\"text\"),c=G(d),m=j(\"set\"),p=j(\"set\"),_=j(\"animateMotion\"),u(r,\"attributeName\",\"opacity\"),u(r,\"to\",\"1\"),u(r,\"begin\",i=`animatePathBack${e[41]}${e[47]}.begin`),u(o,\"attributeName\",\"opacity\"),u(o,\"to\",\"0\"),u(o,\"begin\",l=`animatePathBack${e[41]}${e[47]}.end`),u(n,\"r\",a=e[10](e[5][e[32]].grad)),u(n,\"opacity\",\"0\"),u(n,\"id\",s=`circle${e[41]}${e[47]}`),u(n,\"class\",\"moving-circle-back svelte-1icwblj\"),u(m,\"attributeName\",\"opacity\"),u(m,\"to\",\"1\"),u(m,\"begin\",b=`animatePathBack${e[41]}${e[47]}.begin`),u(p,\"attributeName\",\"opacity\"),u(p,\"to\",\"0\"),u(p,\"begin\",v=`animatePathBack${e[41]}${e[47]}.end`),u(f,\"opacity\",\"0\"),u(f,\"class\",\"moving-text svelte-1icwblj\"),u(f,\"alignment-baseline\",\"middle\"),u(_,\"id\",g=`animatePathBack${e[41]}${e[47]}`),u(_,\"begin\",h=e[41]===e[4]-1?`animatePath${e[4]-1}${e[47]}.end`:`animatePathBack${e[41]+1}${e[47]}.end`),u(_,\"dur\",e[15]),u(_,\"restart\",\"whenNotActive\"),u(_,\"path\",y=`\n",
       "                              M ${e[7](e[41])} ${e[6](e[29])}\n",
       "                              L ${e[7](e[41]-1)} ${e[6](e[44])}\n",
       "                            `),u(_,\"class\",\"svelte-1icwblj\")},m(w,z){L(w,t,z),x(t,n),x(n,r),x(n,o),x(t,f),x(f,c),x(f,m),x(f,p),x(t,_)},p(w,z){z[0]&16384&&i!==(i=`animatePathBack${w[41]}${w[47]}.begin`)&&u(r,\"begin\",i),z[0]&16384&&l!==(l=`animatePathBack${w[41]}${w[47]}.end`)&&u(o,\"begin\",l),z[0]&1064&&a!==(a=w[10](w[5][w[32]].grad))&&u(n,\"r\",a),z[0]&16384&&s!==(s=`circle${w[41]}${w[47]}`)&&u(n,\"id\",s),z[0]&40&&d!==(d=w[16](w[5][w[32]].grad)+\"\")&&ye(c,d),z[0]&16384&&b!==(b=`animatePathBack${w[41]}${w[47]}.begin`)&&u(m,\"begin\",b),z[0]&16384&&v!==(v=`animatePathBack${w[41]}${w[47]}.end`)&&u(p,\"begin\",v),z[0]&16384&&g!==(g=`animatePathBack${w[41]}${w[47]}`)&&u(_,\"id\",g),z[0]&16400&&h!==(h=w[41]===w[4]-1?`animatePath${w[4]-1}${w[47]}.end`:`animatePathBack${w[41]+1}${w[47]}.end`)&&u(_,\"begin\",h),z[0]&32768&&u(_,\"dur\",w[15]),z[0]&204&&y!==(y=`\n",
       "                              M ${w[7](w[41])} ${w[6](w[29])}\n",
       "                              L ${w[7](w[41]-1)} ${w[6](w[44])}\n",
       "                            `)&&u(_,\"path\",y)},d(w){w&&I(t)}}}function nr(e){let t,n,r,i,o,l,a=`${e[4]}-${e[3]}`,s,f,d,c,m=Qn(e),b=e[14],p=[];for(let g=0;g<b.length;g+=1)p[g]=er(Jn(e,b,g));let v=e[14],_=[];for(let g=0;g<v.length;g+=1)_[g]=tr(Yn(e,v,g));return{c(){t=j(\"path\"),m.c(),s=Q();for(let g=0;g<p.length;g+=1)p[g].c();f=Q();for(let g=0;g<_.length;g+=1)_[g].c();d=Q(),u(t,\"d\",n=`\n",
       "                          M ${e[7](e[41]-1)} ${e[6](e[44])}\n",
       "                          L ${e[7](e[41])} ${e[6](e[29])}\n",
       "                        `),u(t,\"stroke-width\",r=e[12]?e[11](e[5][e[32]].data):.5),u(t,\"class\",\"nn-edge-int svelte-1icwblj\"),u(t,\"id\",i=`nn-edge-int-${e[41]}-${e[29]}-${e[44]}`),be(t,\"animate-dash\",e[12])},m(g,h){L(g,t,h),m.m(g,h),L(g,s,h);for(let y=0;y<p.length;y+=1)p[y]&&p[y].m(g,h);L(g,f,h);for(let y=0;y<_.length;y+=1)_[y]&&_[y].m(g,h);L(g,d,h),c=!0},p(g,h){if((!c||h[0]&204&&n!==(n=`\n",
       "                          M ${g[7](g[41]-1)} ${g[6](g[44])}\n",
       "                          L ${g[7](g[41])} ${g[6](g[29])}\n",
       "                        `))&&u(t,\"d\",n),(!c||h[0]&6184&&r!==(r=g[12]?g[11](g[5][g[32]].data):.5))&&u(t,\"stroke-width\",r),(!c||h[0]&12&&i!==(i=`nn-edge-int-${g[41]}-${g[29]}-${g[44]}`))&&u(t,\"id\",i),(!c||h[0]&4096)&&be(t,\"animate-dash\",g[12]),h[0]&24&&ge(a,a=`${g[4]}-${g[3]}`)?(m.d(1),m=Qn(g),m.c(),m.m(s.parentNode,s)):m.p(g,h),h[0]&180428){b=g[14];let y;for(y=0;y<b.length;y+=1){const w=Jn(g,b,y);p[y]?p[y].p(w,h):(p[y]=er(w),p[y].c(),p[y].m(f.parentNode,f))}for(;y<p.length;y+=1)p[y].d(1);p.length=b.length}if(h[0]&247036){v=g[14];let y;for(y=0;y<v.length;y+=1){const w=Yn(g,v,y);_[y]?_[y].p(w,h):(_[y]=tr(w),_[y].c(),_[y].m(d.parentNode,d))}for(;y<_.length;y+=1)_[y].d(1);_.length=v.length}},i(g){c||(g&&Y(()=>{!c||(l&&l.end(1),o=ve(t,de,{duration:500}),o.start())}),c=!0)},o(g){o&&o.invalidate(),g&&(l=ke(t,de,{duration:400})),c=!1},d(g){g&&I(t),g&&l&&l.end(),g&&I(s),m.d(g),Z(p,g),g&&I(f),Z(_,g),g&&I(d)}}}function rr(e){let t,n,r=e[41]>0&&ol(e);return{c(){r&&r.c(),t=Q()},m(i,o){r&&r.m(i,o),L(i,t,o),n=!0},p(i,o){i[41]>0&&r.p(i,o)},i(i){n||(R(r),n=!0)},o(i){V(r),n=!1},d(i){r&&r.d(i),i&&I(t)}}}function ir(e){let t,n,r=e[17](e[3][e[41]],e[2]),i=[];for(let l=0;l<r.length;l+=1)i[l]=rr(Xn(e,r,l));const o=l=>V(i[l],1,1,()=>{i[l]=null});return{c(){for(let l=0;l<i.length;l+=1)i[l].c();t=Q()},m(l,a){for(let s=0;s<i.length;s+=1)i[s]&&i[s].m(l,a);L(l,t,a),n=!0},p(l,a){if(a[0]&253180){r=l[17](l[3][l[41]],l[2]);let s;for(s=0;s<r.length;s+=1){const f=Xn(l,r,s);i[s]?(i[s].p(f,a),R(i[s],1)):(i[s]=rr(f),i[s].c(),R(i[s],1),i[s].m(t.parentNode,t))}for(oe(),s=r.length;s<i.length;s+=1)o(s);ae()}},i(l){if(!n){for(let a=0;a<r.length;a+=1)R(i[a]);n=!0}},o(l){i=i.filter(Boolean);for(let a=0;a<i.length;a+=1)V(i[a]);n=!1},d(l){Z(i,l),l&&I(t)}}}function lr(e){let t,n,r,i,o,l=e[9][e[34]]+\"\",a,s,f,d;return{c(){t=j(\"rect\"),o=j(\"text\"),a=G(l),u(t,\"class\",n=\"nn-node \"+(e[34]==0?\"input\":e[34]==e[4]-1?\"output\":\"hidden-node\")+\" svelte-1icwblj\"),u(t,\"width\",e[19]),u(t,\"height\",e[20]),u(o,\"class\",\"nn-text svelte-1icwblj\"),u(o,\"text-anchor\",\"middle\"),u(o,\"alignment-baseline\",\"middle\"),u(o,\"dx\",e[19]/2),u(o,\"dy\",e[20]/2)},m(c,m){L(c,t,m),L(c,o,m),x(o,a),d=!0},p(c,m){(!d||m[0]&16&&n!==(n=\"nn-node \"+(c[34]==0?\"input\":c[34]==c[4]-1?\"output\":\"hidden-node\")+\" svelte-1icwblj\"))&&u(t,\"class\",n),(!d||m[0]&512)&&l!==(l=c[9][c[34]]+\"\")&&ye(a,l)},i(c){d||(c&&Y(()=>{!d||(i&&i.end(1),r=ve(t,Ze,{x:-50,duration:500}),r.start())}),c&&Y(()=>{!d||(f&&f.end(1),s=ve(o,Ze,{x:-50,duration:500}),s.start())}),d=!0)},o(c){r&&r.invalidate(),c&&(i=ke(t,Je,{duration:300})),s&&s.invalidate(),c&&(f=ke(o,Je,{duration:300})),d=!1},d(c){c&&I(t),c&&i&&i.end(),c&&I(o),c&&f&&f.end()}}}function or(e){let t,n,r=e[34]!==e[4]-1&&lr(e);return{c(){t=j(\"g\"),r&&r.c(),u(t,\"class\",\"nn-g svelte-1icwblj\"),u(t,\"transform\",n=`translate(${e[7](e[34])-e[19]/2} ${e[6](e[29])-e[20]/2})`)},m(i,o){L(i,t,o),r&&r.m(t,null)},p(i,o){i[34]!==i[4]-1?r?(r.p(i,o),o[0]&16&&R(r,1)):(r=lr(i),r.c(),R(r,1),r.m(t,null)):r&&(oe(),V(r,1,1,()=>{r=null}),ae()),o[0]&204&&n!==(n=`translate(${i[7](i[34])-i[19]/2} ${i[6](i[29])-i[20]/2})`)&&u(t,\"transform\",n)},d(i){i&&I(t),r&&r.d()}}}function ar(e){let t,n=e[17](e[3][e[34]],e[2]),r=[];for(let i=0;i<n.length;i+=1)r[i]=or(Fn(e,n,i));return{c(){for(let i=0;i<r.length;i+=1)r[i].c();t=Q()},m(i,o){for(let l=0;l<r.length;l+=1)r[l]&&r[l].m(i,o);L(i,t,o)},p(i,o){if(o[0]&1704668){n=i[17](i[3][i[34]],i[2]);let l;for(l=0;l<n.length;l+=1){const a=Fn(i,n,l);r[l]?r[l].p(a,o):(r[l]=or(a),r[l].c(),r[l].m(t.parentNode,t))}for(;l<r.length;l+=1)r[l].d(1);r.length=n.length}},d(i){Z(r,i),i&&I(t)}}}function sr(e){let t,n,r,i,o,l,a,s,f,d;function c(){return e[23](e[34])}function m(){return e[24](e[34])}return{c(){t=j(\"g\"),n=j(\"foreignObject\"),r=Gt.createElementNS(\"http://www.w3.org/1999/xhtml\",\"div\"),i=Gt.createElementNS(\"http://www.w3.org/1999/xhtml\",\"button\"),o=G(\"+\"),l=Gt.createElementNS(\"http://www.w3.org/1999/xhtml\",\"button\"),a=G(\"-\"),u(i,\"class\",\"button-plus svelte-1icwblj\"),u(l,\"class\",\"button-minus svelte-1icwblj\"),u(r,\"xmlns\",\"http://www.w3.org/1999/xhtml\"),u(r,\"class\",\"button-container svelte-1icwblj\"),u(n,\"x\",0),u(n,\"y\",e[20]),u(n,\"width\",e[19]),u(n,\"height\",\"40\"),u(t,\"class\",\"nn-button-g\"),u(t,\"transform\",s=`translate(${e[7](e[34])-e[19]/2} ${e[6](e[2])-e[20]/2})`)},m(b,p){L(b,t,p),x(t,n),x(n,r),x(r,i),x(i,o),x(r,l),x(l,a),f||(d=[ie(i,\"click\",c),ie(l,\"click\",m)],f=!0)},p(b,p){e=b,p[0]&196&&s!==(s=`translate(${e[7](e[34])-e[19]/2} ${e[6](e[2])-e[20]/2})`)&&u(t,\"transform\",s)},d(b){b&&I(t),f=!1,re(d)}}}function fr(e){let t,n=e[34]!==0&&e[34]!=e[4]-1&&sr(e);return{c(){n&&n.c(),t=Q()},m(r,i){n&&n.m(r,i),L(r,t,i)},p(r,i){r[34]!==0&&r[34]!=r[4]-1?n?n.p(r,i):(n=sr(r),n.c(),n.m(t.parentNode,t)):n&&(n.d(1),n=null)},d(r){n&&n.d(r),r&&I(t)}}}function ur(e){let t,n=e[17](e[3][e[34]],e[2]),r=[];for(let i=0;i<n.length;i+=1)r[i]=fr(Vn(e,n,i));return{c(){for(let i=0;i<r.length;i+=1)r[i].c();t=Q()},m(i,o){for(let l=0;l<r.length;l+=1)r[l]&&r[l].m(i,o);L(i,t,o)},p(i,o){if(o[0]&7864540){n=i[17](i[3][i[34]],i[2]);let l;for(l=0;l<n.length;l+=1){const a=Vn(i,n,l);r[l]?r[l].p(a,o):(r[l]=fr(a),r[l].c(),r[l].m(t.parentNode,t))}for(;l<r.length;l+=1)r[l].d(1);r.length=n.length}},d(i){Z(r,i),i&&I(t)}}}function cr(e){let t,n,r,i,o,l=e[9][e[4]-1]+\"\",a,s,f,d,c;return{c(){t=j(\"g\"),n=j(\"rect\"),o=j(\"text\"),a=G(l),u(n,\"class\",\"nn-node output svelte-1icwblj\"),u(n,\"width\",e[19]),u(n,\"height\",e[20]),u(o,\"class\",\"nn-text svelte-1icwblj\"),u(o,\"text-anchor\",\"middle\"),u(o,\"alignment-baseline\",\"middle\"),u(o,\"dx\",e[19]/2),u(o,\"dy\",e[20]/2),u(t,\"class\",\"nn-g svelte-1icwblj\"),u(t,\"transform\",d=`translate(${e[7](e[4]-1)-e[19]/2} ${e[6](e[29])-e[20]/2})`)},m(m,b){L(m,t,b),x(t,n),x(t,o),x(o,a),c=!0},p(m,b){(!c||b[0]&528)&&l!==(l=m[9][m[4]-1]+\"\")&&ye(a,l),(!c||b[0]&220&&d!==(d=`translate(${m[7](m[4]-1)-m[19]/2} ${m[6](m[29])-m[20]/2})`))&&u(t,\"transform\",d)},i(m){c||(m&&Y(()=>{!c||(i&&i.end(1),r=ve(n,Ze,{x:-50,duration:500}),r.start())}),m&&Y(()=>{!c||(f&&f.end(1),s=ve(o,Ze,{x:-50,duration:500}),s.start())}),c=!0)},o(m){r&&r.invalidate(),m&&(i=ke(n,Je,{duration:300})),s&&s.invalidate(),m&&(f=ke(o,Je,{duration:300})),c=!1},d(m){m&&I(t),m&&i&&i.end(),m&&f&&f.end()}}}function al(e){let t,n,r,i,o,l=e[8]&&Zn(e);return{c(){t=O(\"div\"),n=j(\"svg\"),l&&l.c(),u(n,\"width\",e[1]),u(n,\"height\",r=e[0]+e[18].top+e[18].bottom),u(n,\"class\",\"svelte-1icwblj\"),u(t,\"id\",\"network-chart-interactive\"),u(t,\"class\",\"svelte-1icwblj\"),Y(()=>e[26].call(t))},m(a,s){L(a,t,s),x(t,n),l&&l.m(n,null),e[25](t),i=et(t,e[26].bind(t)),o=!0},p(a,s){a[8]?l?(l.p(a,s),s[0]&256&&R(l,1)):(l=Zn(a),l.c(),R(l,1),l.m(n,null)):l&&(oe(),V(l,1,1,()=>{l=null}),ae()),(!o||s[0]&2)&&u(n,\"width\",a[1]),(!o||s[0]&1&&r!==(r=a[0]+a[18].top+a[18].bottom))&&u(n,\"height\",r)},i(a){o||(R(l),o=!0)},o(a){V(l),o=!1},d(a){a&&I(t),l&&l.d(),e[25](null),i()}}}function sl(e,t,n,r){let i=0;for(let o=0;o<e-1;o++)i+=r[o]*r[o+1];return i+=t*r[e]+n,i}function fl(e,t,n){let r,i,o,l,a,s,f,d,c,m,b,p,v,_;W(e,_e,P=>n(12,d=P)),W(e,me,P=>n(3,c=P)),W(e,Ft,P=>n(4,m=P)),W(e,Ae,P=>n(5,b=P)),W(e,Vt,P=>n(13,p=P)),W(e,Tt,P=>n(14,v=P)),W(e,bt,P=>n(15,_=P));function g(){const P=Xt(c),D=Array.from({length:P},(N,M)=>{const k=c[M%(c.length-1)];return{data:Math.random()*Math.sqrt(2/k)/4,grad:0}});F(Ae,b=[...D],b)}const h=pt(\"0.3f\");function y(P,D){const N=(D-1-P+1)/2,M=[];for(let k=0;k<P;k++)M.push(N+k);return M}const w={top:3,bottom:3,left:0,right:0};un(()=>{n(8,a=!0)});let z,T,J=12*1.33*4.5,H=12*3;function U(P){if(c[P]<3){let D=[...c];D[P]+=1,F(me,c=[...D],c),F(_e,d=!1,d),g()}}function B(P){if(c[P]===1){if(m>3){const D=m-2;let N=[...c];N.splice(D,1),F(me,c=[...N],c)}F(_e,d=!1,d),g()}if(c[P]>1){let D=[...c];D[P]-=1,F(me,c=[...D],c),F(_e,d=!1,d),g()}}const q=P=>U(P),S=P=>B(P);function C(P){Nt[P?\"unshift\":\"push\"](()=>{p=P,Vt.set(p)})}function E(){T=this.offsetWidth,z=this.offsetHeight,n(1,T),n(0,z)}return e.$$.update=()=>{e.$$.dirty[0]&32&&n(10,i=fe().domain(gn(b,P=>P.grad)).range([15,40])),e.$$.dirty[0]&32&&console.log(\"wwwww\",gn(b,P=>P.grad)),e.$$.dirty[0]&16&&n(9,o=[\"input\",...Array(m-2).fill(\"reLu\"),\"sigmoid\"]),e.$$.dirty[0]&8&&n(2,l=ze(c)-1),e.$$.dirty[0]&4&&console.log(\"max\",l),e.$$.dirty[0]&18&&n(7,s=fe().domain([-1,m]).range([w.left,T-w.right])),e.$$.dirty[0]&5&&n(6,f=fe().domain([-1,l]).range([z-w.bottom,w.top]))},n(11,r=fe().domain([-1,0,1]).range([15,.2,15])),n(8,a=!0),[z,T,l,c,m,b,f,s,a,o,i,r,d,p,v,_,h,y,w,J,H,U,B,q,S,C,E]}class ul extends Ne{constructor(t){super(),Me(this,t,fl,al,ge,{},null,[-1,-1])}}const Fl=\"\";function hr(e,t,n){const r=e.slice();return r[13]=t[n],r}function dr(e,t,n){const r=e.slice();return r[13]=t[n],r[17]=n,r}function gr(e,t,n){const r=e.slice();return r[18]=t[n],r}function mr(e,t,n){const r=e.slice();return r[18]=t[n],r}function _r(e){let t,n,r=e[18]+\"\",i,o;return{c(){t=j(\"g\"),n=j(\"text\"),i=G(r),u(n,\"class\",\"axis-text svelte-1jtnw0o\"),u(n,\"y\",\"10\"),u(n,\"text-anchor\",\"middle\"),u(t,\"transform\",o=`translate(${e[3](e[18])} ${e[4]-e[10].bottom})`)},m(l,a){L(l,t,a),x(t,n),x(n,i)},p(l,a){a&8&&r!==(r=l[18]+\"\")&&ye(i,r),a&24&&o!==(o=`translate(${l[3](l[18])} ${l[4]-l[10].bottom})`)&&u(t,\"transform\",o)},d(l){l&&I(t)}}}function pr(e){let t,n=e[18]%1==0&&_r(e);return{c(){n&&n.c(),t=Q()},m(r,i){n&&n.m(r,i),L(r,t,i)},p(r,i){r[18]%1==0?n?n.p(r,i):(n=_r(r),n.c(),n.m(t.parentNode,t)):n&&(n.d(1),n=null)},d(r){n&&n.d(r),r&&I(t)}}}function br(e){let t,n,r,i,o=e[18]+\"\",l,a;return{c(){t=j(\"g\"),n=j(\"line\"),i=j(\"text\"),l=G(o),u(n,\"class\",\"axis-tick svelte-1jtnw0o\"),u(n,\"x1\",0),u(n,\"x2\",r=e[5]-e[10].right-e[10].left),u(n,\"y1\",\"0\"),u(n,\"y2\",\"0\"),u(n,\"stroke\",\"var(--squidink)\"),u(n,\"stroke-dasharray\",\"4\"),u(i,\"class\",\"axis-text svelte-1jtnw0o\"),u(i,\"x\",\"-2\"),u(i,\"y\",\"0\"),u(i,\"text-anchor\",\"end\"),u(i,\"dominant-baseline\",\"middle\"),u(t,\"transform\",a=`translate(${e[10].left} ${e[2](e[18])+0})`)},m(s,f){L(s,t,f),x(t,n),x(t,i),x(i,l)},p(s,f){f&32&&r!==(r=s[5]-s[10].right-s[10].left)&&u(n,\"x2\",r),f&4&&o!==(o=s[18]+\"\")&&ye(l,o),f&4&&a!==(a=`translate(${s[10].left} ${s[2](s[18])+0})`)&&u(t,\"transform\",a)},d(s){s&&I(t)}}}function yr(e){let t,n,r,i;return{c(){t=j(\"path\"),u(t,\"d\",n=`M${e[3](e[6][e[9]-1+e[17]].x)},${e[2](e[6][e[9]-1+e[17]].y)} L${e[3](e[13].x)},${e[2](e[13].y)}`),u(t,\"class\",\"svelte-1jtnw0o\")},m(o,l){L(o,t,l),i=!0},p(o,l){e=o,(!i||l&76&&n!==(n=`M${e[3](e[6][e[9]-1+e[17]].x)},${e[2](e[6][e[9]-1+e[17]].y)} L${e[3](e[13].x)},${e[2](e[13].y)}`))&&u(t,\"d\",n)},i(o){i||(Y(()=>{!i||(r||(r=Re(t,de,{duration:e[8]*1e3*2,delay:0},!0)),r.run(1))}),i=!0)},o(o){r||(r=Re(t,de,{duration:e[8]*1e3*2,delay:0},!1)),r.run(0),i=!1},d(o){o&&I(t),o&&r&&r.end()}}}function wr(e){let t,n,r,i,o;return{c(){t=j(\"circle\"),u(t,\"cx\",n=e[3](e[13].x)),u(t,\"cy\",r=e[2](e[13].y)),u(t,\"class\",\"svelte-1jtnw0o\")},m(l,a){L(l,t,a),o=!0},p(l,a){e=l,(!o||a&72&&n!==(n=e[3](e[13].x)))&&u(t,\"cx\",n),(!o||a&68&&r!==(r=e[2](e[13].y)))&&u(t,\"cy\",r)},i(l){o||(Y(()=>{!o||(i||(i=Re(t,de,{duration:200,delay:e[8]*1e3*2-100},!0)),i.run(1))}),o=!0)},o(l){i||(i=Re(t,de,{duration:200,delay:e[8]*1e3*2-100},!1)),i.run(0),o=!1},d(l){l&&I(t),l&&i&&i.end()}}}function cl(e){let t,n,r,i,o,l,a,s,f,d,c,m,b,p,v,_,g,h,y,w,z,T,J,H,U=e[3].ticks(),B=[];for(let k=0;k<U.length;k+=1)B[k]=pr(mr(e,U,k));let q=e[2].ticks(),S=[];for(let k=0;k<q.length;k+=1)S[k]=br(gr(e,q,k));let C=e[6].slice(e[9]),E=[];for(let k=0;k<C.length;k+=1)E[k]=yr(dr(e,C,k));const P=k=>V(E[k],1,1,()=>{E[k]=null});let D=e[6],N=[];for(let k=0;k<D.length;k+=1)N[k]=wr(hr(e,D,k));const M=k=>V(N[k],1,1,()=>{N[k]=null});return{c(){t=O(\"div\"),n=j(\"svg\"),r=j(\"line\"),a=j(\"line\");for(let k=0;k<B.length;k+=1)B[k].c();f=Q();for(let k=0;k<S.length;k+=1)S[k].c();d=j(\"path\");for(let k=0;k<E.length;k+=1)E[k].c();m=Q();for(let k=0;k<N.length;k+=1)N[k].c();b=j(\"text\"),p=G(\"Model Accuracy\"),_=j(\"text\"),g=G(\"Accuracy (%)\"),y=j(\"text\"),w=G(\"Epoch #\"),u(r,\"class\",\"axis-line svelte-1jtnw0o\"),u(r,\"x1\",e[10].left),u(r,\"x2\",i=e[5]-e[10].right),u(r,\"y1\",o=e[4]-e[10].bottom),u(r,\"y2\",l=e[4]-e[10].bottom),u(a,\"class\",\"axis-line svelte-1jtnw0o\"),u(a,\"x1\",e[10].left),u(a,\"x2\",e[10].left),u(a,\"y1\",e[10].top),u(a,\"y2\",s=e[4]-e[10].bottom),u(d,\"d\",e[7]),u(d,\"stroke-linecap\",\"round\"),u(d,\"stroke-linejoin\",\"round\"),u(d,\"class\",\"svelte-1jtnw0o\"),u(b,\"class\",\"chart-title svelte-1jtnw0o\"),u(b,\"y\",e[10].top/2),u(b,\"x\",v=(e[5]+e[10].left)/2),u(b,\"text-anchor\",\"middle\"),u(_,\"class\",\"axis-label svelte-1jtnw0o\"),u(_,\"y\",e[10].left/2),u(_,\"x\",h=-(e[4]/2)),u(_,\"text-anchor\",\"middle\"),u(_,\"transform\",\"rotate(-90)\"),u(y,\"class\",\"axis-label svelte-1jtnw0o\"),u(y,\"y\",z=e[4]+e[10].bottom+11),u(y,\"x\",T=(e[5]+e[10].left)/2),u(y,\"text-anchor\",\"middle\"),u(n,\"width\",e[1]),u(n,\"height\",e[0]),u(t,\"id\",\"stackedrect-holder\"),u(t,\"class\",\"svelte-1jtnw0o\"),Y(()=>e[11].call(t))},m(k,A){L(k,t,A),x(t,n),x(n,r),x(n,a);for(let $=0;$<B.length;$+=1)B[$]&&B[$].m(n,null);x(n,f);for(let $=0;$<S.length;$+=1)S[$]&&S[$].m(n,null);x(n,d);for(let $=0;$<E.length;$+=1)E[$]&&E[$].m(n,null);x(n,m);for(let $=0;$<N.length;$+=1)N[$]&&N[$].m(n,null);x(n,b),x(b,p),x(n,_),x(_,g),x(n,y),x(y,w),J=et(t,e[11].bind(t)),H=!0},p(k,[A]){if(e=k,(!H||A&32&&i!==(i=e[5]-e[10].right))&&u(r,\"x2\",i),(!H||A&16&&o!==(o=e[4]-e[10].bottom))&&u(r,\"y1\",o),(!H||A&16&&l!==(l=e[4]-e[10].bottom))&&u(r,\"y2\",l),(!H||A&16&&s!==(s=e[4]-e[10].bottom))&&u(a,\"y2\",s),A&1048){U=e[3].ticks();let $;for($=0;$<U.length;$+=1){const ee=mr(e,U,$);B[$]?B[$].p(ee,A):(B[$]=pr(ee),B[$].c(),B[$].m(n,f))}for(;$<B.length;$+=1)B[$].d(1);B.length=U.length}if(A&1060){q=e[2].ticks();let $;for($=0;$<q.length;$+=1){const ee=gr(e,q,$);S[$]?S[$].p(ee,A):(S[$]=br(ee),S[$].c(),S[$].m(n,d))}for(;$<S.length;$+=1)S[$].d(1);S.length=q.length}if((!H||A&128)&&u(d,\"d\",e[7]),A&844){C=e[6].slice(e[9]);let $;for($=0;$<C.length;$+=1){const ee=dr(e,C,$);E[$]?(E[$].p(ee,A),R(E[$],1)):(E[$]=yr(ee),E[$].c(),R(E[$],1),E[$].m(n,m))}for(oe(),$=C.length;$<E.length;$+=1)P($);ae()}if(A&332){D=e[6];let $;for($=0;$<D.length;$+=1){const ee=hr(e,D,$);N[$]?(N[$].p(ee,A),R(N[$],1)):(N[$]=wr(ee),N[$].c(),R(N[$],1),N[$].m(n,b))}for(oe(),$=D.length;$<N.length;$+=1)M($);ae()}(!H||A&32&&v!==(v=(e[5]+e[10].left)/2))&&u(b,\"x\",v),(!H||A&16&&h!==(h=-(e[4]/2)))&&u(_,\"x\",h),(!H||A&16&&z!==(z=e[4]+e[10].bottom+11))&&u(y,\"y\",z),(!H||A&32&&T!==(T=(e[5]+e[10].left)/2))&&u(y,\"x\",T),(!H||A&2)&&u(n,\"width\",e[1]),(!H||A&1)&&u(n,\"height\",e[0])},i(k){if(!H){Y(()=>{!H||(c||(c=Re(d,de,{duration:e[6].length*300,delay:300,easing:Hn},!0)),c.run(1))});for(let A=0;A<C.length;A+=1)R(E[A]);for(let A=0;A<D.length;A+=1)R(N[A]);H=!0}},o(k){c||(c=Re(d,de,{duration:e[6].length*300,delay:300,easing:Hn},!1)),c.run(0),E=E.filter(Boolean);for(let A=0;A<E.length;A+=1)V(E[A]);N=N.filter(Boolean);for(let A=0;A<N.length;A+=1)V(N[A]);H=!1},d(k){k&&I(t),Z(B,k),Z(S,k),k&&c&&c.end(),Z(E,k),Z(N,k),J()}}}function hl(e,t,n){let r,i,o,l,a,s,f;W(e,yt,v=>n(6,s=v)),W(e,bt,v=>n(8,f=v));const d=s.length;let c=300,m=300,b={top:25,bottom:5,left:55,right:0};function p(){m=this.offsetWidth,c=this.offsetHeight,n(1,m),n(0,c)}return e.$$.update=()=>{e.$$.dirty&2&&n(5,r=m-b.left-b.right),e.$$.dirty&1&&n(4,i=c-b.top-b.bottom),e.$$.dirty&96&&n(3,o=fe().rangeRound([b.left,r-b.right]).domain([0,ze(s,v=>v.x)*1.5<5?5:ze(s,v=>v.x)*1.1])),e.$$.dirty&16&&n(2,l=fe().rangeRound([i-b.bottom,b.top]).domain([0,100])),e.$$.dirty&76&&n(7,a=`M${o(s[0].x)},${l(s[0].y)}\n",
       "      ${s.slice(1,d).map(v=>`L${o(v.x)},${l(v.y)}`).join(\" \")}`)},[c,m,l,o,i,r,s,a,f,d,b,p]}class dl extends Ne{constructor(t){super(),Me(this,t,hl,cl,ge,{})}}var Oe=Math.PI/3,gl=[0,Oe,2*Oe,3*Oe,4*Oe,5*Oe];function ml(e){return e[0]}function _l(e){return e[1]}function pl(){var e=0,t=0,n=1,r=1,i=ml,o=_l,l,a,s;function f(c){var m={},b=[],p,v=c.length;for(p=0;p<v;++p)if(!(isNaN(g=+i.call(null,_=c[p],p,c))||isNaN(h=+o.call(null,_,p,c)))){var _,g,h,y=Math.round(h=h/s),w=Math.round(g=g/a-(y&1)/2),z=h-y;if(Math.abs(z)*3>1){var T=g-w,J=w+(g<w?-1:1)/2,H=y+(h<y?-1:1),U=g-J,B=h-H;T*T+z*z>U*U+B*B&&(w=J+(y&1?1:-1)/2,y=H)}var q=w+\"-\"+y,S=m[q];S?S.push(_):(b.push(S=m[q]=[_]),S.x=(w+(y&1)/2)*a,S.y=y*s)}return b}function d(c){var m=0,b=0;return gl.map(function(p){var v=Math.sin(p)*c,_=-Math.cos(p)*c,g=v-m,h=_-b;return m=v,b=_,[g,h]})}return f.hexagon=function(c){return\"m\"+d(c==null?l:+c).join(\"l\")+\"z\"},f.centers=function(){for(var c=[],m=Math.round(t/s),b=Math.round(e/a),p=m*s;p<r+l;p+=s,++m)for(var v=b*a+(m&1)*a/2;v<n+a/2;v+=a)c.push([v,p]);return c},f.mesh=function(){var c=d(l).slice(0,4).join(\"l\");return f.centers().map(function(m){return\"M\"+m+\"m\"+c}).join(\"\")},f.x=function(c){return arguments.length?(i=c,f):i},f.y=function(c){return arguments.length?(o=c,f):o},f.radius=function(c){return arguments.length?(l=+c,a=l*2*Math.sin(Oe),s=l*1.5,f):l},f.size=function(c){return arguments.length?(e=t=0,n=+c[0],r=+c[1],f):[n-e,r-t]},f.extent=function(c){return arguments.length?(e=+c[0][0],t=+c[0][1],n=+c[1][0],r=+c[1][1],f):[[e,t],[n,r]]},f.radius(1)}const Yt=[{x1:-.4888960549,x2:-.0383988251,y:1},{x1:.0993915896,x2:-.9974667855,y:-1},{x1:-.3263052583,x2:.3161565274,y:1},{x1:.0605679463,x2:.5880424401,y:1},{x1:.6376729364,x2:-.6177244631,y:-1},{x1:-.2110403683,x2:-.4880675897,y:1},{x1:.4395336313,x2:.3400497506,y:1},{x1:-.2929866376,x2:-1.0197641553,y:-1},{x1:-.9546674583,x2:.1485268453,y:-1},{x1:.8635752642,x2:-.3788974988,y:-1},{x1:-1.0060463856,x2:-.1804166539,y:-1},{x1:.3742079385,x2:-.2613491662,y:1},{x1:1.0349199471,x2:-.0085814418,y:-1},{x1:.0469090305,x2:1.0551654626,y:-1},{x1:.5392766062,x2:.1328005046,y:1},{x1:-.4566720084,x2:-.0889215159,y:1},{x1:-.2506221751,x2:.9661218168,y:-1},{x1:-.6781325005,x2:-.7619421042,y:-1},{x1:.8903012332,x2:.3355753959,y:-1},{x1:.7368320771,x2:.6599305981,y:-1},{x1:.1718466603,x2:-.4727942515,y:1},{x1:.4922675758,x2:.9290516618,y:-1},{x1:-.0519020759,x2:-.4837237733,y:1},{x1:-.2168857743,x2:.44506881,y:1},{x1:.0784138344,x2:-.4341654442,y:1},{x1:-.8625045201,x2:-.5649155516,y:-1},{x1:-.0262154717,x2:.5540787167,y:1},{x1:.391138546,x2:.2029077188,y:1},{x1:-.5720674615,x2:.224484116,y:1},{x1:-.6493227784,x2:.8372276367,y:-1},{x1:.219256212,x2:.4496573239,y:1},{x1:.4008104592,x2:-.1850503862,y:1},{x1:-.8532079989,x2:.5744908512,y:-1},{x1:.5354523979,x2:-.8661288143,y:-1},{x1:-.3681396991,x2:-.3727995934,y:1}],vr=[{x1:-.9588484435,x2:.1866415383,y:-1},{x1:1.1484861898,x2:.1457825164,y:-1},{x1:.895181957,x2:.1709142495,y:-1},{x1:1.7209114162,x2:-.2299073105,y:1},{x1:-.2817024416,x2:.9181510348,y:-1},{x1:.8585663464,x2:-.3964924632,y:1},{x1:.2841866125,x2:1.1138623333,y:-1},{x1:.8368207086,x2:.6260202672,y:-1},{x1:.4065955817,x2:.9007876719,y:-1},{x1:-.7179753897,x2:.6688534647,y:-1},{x1:-.9187088804,x2:-.0338011069,y:-1},{x1:-.0223400581,x2:.0082875334,y:1},{x1:1.8664977599,x2:.2755227583,y:1},{x1:.6082728168,x2:-.4058432405,y:1},{x1:.1586574852,x2:1.0247580857,y:-1},{x1:2.1118809243,x2:.5591653811,y:1},{x1:-.4181864324,x2:.7186957073,y:-1},{x1:1.3681542689,x2:-.5355384657,y:1},{x1:-.1120340502,x2:.5910191452,y:1},{x1:.2647558135,x2:-.1298301425,y:1},{x1:-.9698375991,x2:.2060267269,y:-1},{x1:-.0851228336,x2:1.0893921581,y:-1},{x1:-.4644558844,x2:.907934297,y:-1},{x1:1.3113947314,x2:-.5626511926,y:1},{x1:.7601777903,x2:-.2629583258,y:1},{x1:.6769267137,x2:.641734379,y:-1},{x1:-.9277527953,x2:.5549049662,y:-1},{x1:.9278527923,x2:.5300665893,y:-1},{x1:.6379562815,x2:.8585427542,y:-1},{x1:2.0080610949,x2:.4654663025,y:1},{x1:-.5024033677,x2:.744512763,y:-1},{x1:.0298536268,x2:.1754948903,y:1},{x1:.2822282378,x2:-.0289211736,y:1},{x1:1.7702842857,x2:-.1039271502,y:1},{x1:.8659980681,x2:.4661251404,y:-1},{x1:1.1150080581,x2:-.4666773577,y:1},{x1:-.1196424354,x2:.3161955849,y:1},{x1:.4431827101,x2:-.379006533,y:1},{x1:1.3623460975,x2:-.2928558407,y:1},{x1:1.8211280205,x2:-.0267924475,y:1}],Jt=[{x1:-3.1027299417,x2:-10.323806429,y:1},{x1:-2.905592117,x2:-8.7673782842,y:1},{x1:3.8954873535,x2:-5.2824853303,y:-1},{x1:-1.5608525413,x2:-4.6091172141,y:1},{x1:4.9537989047,x2:-4.3944328125,y:-1},{x1:7.2885319411,x2:-2.7514194602,y:-1},{x1:-1.2887219415,x2:-7.7921589198,y:1},{x1:5.4976271866,x2:-2.7722584246,y:-1},{x1:5.6265811791,x2:-3.7232943772,y:-1},{x1:.7342248908,x2:-8.4536847434,y:1},{x1:-2.2992341221,x2:-6.5583628712,y:1},{x1:-4.5414465961,x2:-8.0654877621,y:1},{x1:-4.0372478997,x2:-7.0534954513,y:1},{x1:-1.3129507496,x2:-11.9435538096,y:1},{x1:3.5970542192,x2:-4.1689795785,y:-1},{x1:4.0955381486,x2:-5.5174231719,y:-1},{x1:6.2064048843,x2:-4.8720203425,y:-1},{x1:-2.4948799277,x2:-7.4853816734,y:1},{x1:7.0445898118,x2:-4.1716139362,y:-1},{x1:-1.4104429275,x2:-10.3586895393,y:1},{x1:7.1500942531,x2:-5.1488229327,y:-1},{x1:-4.0816797839,x2:-7.8590976387,y:1},{x1:-2.205393977,x2:-6.6578881361,y:1},{x1:-3.5221751385,x2:-9.5633544649,y:1},{x1:-1.0418132445,x2:-8.921573724,y:1},{x1:4.4752114654,x2:-3.0256956029,y:-1},{x1:-2.5904041317,x2:-7.8048830728,y:1},{x1:5.5366210163,x2:-1.7339904989,y:-1},{x1:-.9355119023,x2:-8.7269860597,y:1},{x1:3.5083537264,x2:-4.050602698,y:-1},{x1:5.5173315103,x2:-2.9714706921,y:-1},{x1:-3.0847366132,x2:-6.2486853186,y:1},{x1:3.4541763222,x2:-.1653709137,y:-1},{x1:7.214585983,x2:-2.9196194725,y:-1},{x1:7.8584060346,x2:-2.4860766787,y:-1},{x1:5.9438364977,x2:-2.5990202534,y:-1},{x1:3.9757875175,x2:-2.8368036606,y:-1},{x1:4.6964737697,x2:-4.1623059811,y:-1},{x1:-.530544551,x2:-8.4618211732,y:1},{x1:-3.3154556174,x2:-8.7094947342,y:1}],Ul=\"\";function kr(e,t,n){const r=e.slice();return r[15]=t[n],r}function xr(e,t,n){const r=e.slice();return r[18]=t[n],r[20]=n,r}function $r(e){let t,n,r,i,o,l,a;return{c(){t=j(\"path\"),u(t,\"class\",\"hex-cell svelte-p6xasy\"),u(t,\"d\",n=`M${e[18].x},${e[18].y}${e[5].hexagon()}`),u(t,\"fill\",r=e[10](e[8][e[20]])),u(t,\"stroke\",i=e[10](e[8][e[20]]))},m(s,f){L(s,t,f),a=!0},p(s,f){(!a||f&32&&n!==(n=`M${s[18].x},${s[18].y}${s[5].hexagon()}`))&&u(t,\"d\",n),(!a||f&256&&r!==(r=s[10](s[8][s[20]])))&&u(t,\"fill\",r),(!a||f&256&&i!==(i=s[10](s[8][s[20]])))&&u(t,\"stroke\",i)},i(s){a||(Y(()=>{!a||(l&&l.end(1),o=ve(t,de,{duration:500}),o.start())}),a=!0)},o(s){o&&o.invalidate(),l=ke(t,de,{duration:0}),a=!1},d(s){s&&I(t),s&&l&&l.end()}}}function Mr(e){let t,n,r,i;return{c(){t=j(\"circle\"),u(t,\"cx\",n=e[4](e[15].x1)),u(t,\"cy\",r=e[3](e[15].x2)),u(t,\"r\",\"5\"),u(t,\"fill\",i=e[10](e[15].y)),u(t,\"class\",\"svelte-p6xasy\")},m(o,l){L(o,t,l)},p(o,l){l&17&&n!==(n=o[4](o[15].x1))&&u(t,\"cx\",n),l&9&&r!==(r=o[3](o[15].x2))&&u(t,\"cy\",r),l&1&&i!==(i=o[10](o[15].y))&&u(t,\"fill\",i)},d(o){o&&I(t)}}}function bl(e){let t,n,r,i,o,l,a,s,f,d,c,m,b=e[5](e[5].centers()),p=[];for(let h=0;h<b.length;h+=1)p[h]=$r(xr(e,b,h));const v=h=>V(p[h],1,1,()=>{p[h]=null});let _=e[0],g=[];for(let h=0;h<_.length;h+=1)g[h]=Mr(kr(e,_,h));return{c(){t=O(\"div\"),n=j(\"svg\"),r=j(\"clipPath\"),i=j(\"rect\"),a=j(\"g\");for(let h=0;h<p.length;h+=1)p[h].c();for(let h=0;h<g.length;h+=1)g[h].c();s=j(\"text\"),f=G(\"Classification Task\"),u(i,\"width\",o=e[7]-e[9].left-e[9].right),u(i,\"height\",l=e[6]-e[9].top-e[9].bottom),u(r,\"id\",\"clip-nn\"),u(a,\"clip-path\",\"url(#clip-nn)\"),u(a,\"transform\",`translate(${e[9].left} ${e[9].top})`),u(s,\"class\",\"chart-title svelte-p6xasy\"),u(s,\"y\",e[9].top/2+5),u(s,\"x\",d=(e[7]+e[9].left)/2),u(s,\"text-anchor\",\"middle\"),u(n,\"width\",e[2]),u(n,\"height\",e[1]),u(t,\"id\",\"nn-prediction-container\"),u(t,\"class\",\"svelte-p6xasy\"),Y(()=>e[12].call(t))},m(h,y){L(h,t,y),x(t,n),x(n,r),x(r,i),x(n,a);for(let w=0;w<p.length;w+=1)p[w]&&p[w].m(a,null);for(let w=0;w<g.length;w+=1)g[w]&&g[w].m(n,null);x(n,s),x(s,f),c=et(t,e[12].bind(t)),m=!0},p(h,[y]){if((!m||y&128&&o!==(o=h[7]-h[9].left-h[9].right))&&u(i,\"width\",o),(!m||y&64&&l!==(l=h[6]-h[9].top-h[9].bottom))&&u(i,\"height\",l),y&1312){b=h[5](h[5].centers());let w;for(w=0;w<b.length;w+=1){const z=xr(h,b,w);p[w]?(p[w].p(z,y),R(p[w],1)):(p[w]=$r(z),p[w].c(),R(p[w],1),p[w].m(a,null))}for(oe(),w=b.length;w<p.length;w+=1)v(w);ae()}if(y&1049){_=h[0];let w;for(w=0;w<_.length;w+=1){const z=kr(h,_,w);g[w]?g[w].p(z,y):(g[w]=Mr(z),g[w].c(),g[w].m(n,s))}for(;w<g.length;w+=1)g[w].d(1);g.length=_.length}(!m||y&128&&d!==(d=(h[7]+h[9].left)/2))&&u(s,\"x\",d),(!m||y&4)&&u(n,\"width\",h[2]),(!m||y&2)&&u(n,\"height\",h[1])},i(h){if(!m){for(let y=0;y<b.length;y+=1)R(p[y]);m=!0}},o(h){p=p.filter(Boolean);for(let y=0;y<p.length;y+=1)V(p[y]);m=!1},d(h){h&&I(t),Z(p,h),Z(g,h),c()}}}const yl=5;function wl(e,t,n){let r,i,o,l,a,s,f,d;W(e,Ut,g=>n(13,f=g)),W(e,wt,g=>n(8,d=g));let{data:c=Yt}=t,m=300,b=300,p={top:25,bottom:5,left:20,right:0};pt(\".0%\");const v=St().domain([-1,1]).range([\"#f46ebb\",\"#2074d5\"]);function _(){b=this.offsetWidth,m=this.offsetHeight,n(2,b),n(1,m)}return e.$$set=g=>{\"data\"in g&&n(0,c=g.data)},e.$$.update=()=>{e.$$.dirty&4&&n(7,r=b-p.left-p.right),e.$$.dirty&2&&n(6,i=m-p.top-p.bottom),e.$$.dirty&129&&n(4,o=fe().domain([1.1*st(c.map(g=>g.x1)),ze(c.map(g=>g.x1))*1.1]).range([p.left,r-p.right])),e.$$.dirty&65&&n(3,l=fe().domain([1.1*st(c.map(g=>g.x2)),ze(c.map(g=>g.x2))*1.1]).range([i-p.bottom,p.top])),e.$$.dirty&192&&n(5,a=pl().radius(yl).extent([[0,0],[r-p.left-p.right,i-p.top-p.bottom]])),e.$$.dirty&56&&n(11,s=a(a.centers()).map(g=>[o.invert(g.x+p.left),l.invert(g.y+p.top)])),e.$$.dirty&2048&&F(Ut,f=[...s],f)},[c,m,b,l,o,a,i,r,d,p,v,s,_]}class vl extends Ne{constructor(t){super(),Me(this,t,wl,bl,ge,{data:0})}}const Xl=\"\";function Nr(e,t,n){const r=e.slice();return r[10]=t[n],r}function zr(e){let t,n,r,i;return{c(){t=j(\"circle\"),u(t,\"cx\",n=e[5](e[10].x1)),u(t,\"cy\",r=e[4](e[10].x2)),u(t,\"r\",\"2.2\"),u(t,\"fill\",i=e[7](e[10].y)),u(t,\"class\",\"svelte-1l0422m\")},m(o,l){L(o,t,l)},p(o,l){l&33&&n!==(n=o[5](o[10].x1))&&u(t,\"cx\",n),l&17&&r!==(r=o[4](o[10].x2))&&u(t,\"cy\",r),l&1&&i!==(i=o[7](o[10].y))&&u(t,\"fill\",i)},d(o){o&&I(t)}}}function kl(e){let t,n,r,i,o,l,a=e[0],s=[];for(let f=0;f<a.length;f+=1)s[f]=zr(Nr(e,a,f));return{c(){t=O(\"div\"),n=j(\"svg\");for(let f=0;f<s.length;f+=1)s[f].c();r=j(\"text\"),i=G(\"Classification Task\"),u(r,\"class\",\"chart-title svelte-1l0422m\"),u(r,\"y\",e[6].top/2),u(r,\"x\",o=(e[3]+e[6].left)/2),u(r,\"text-anchor\",\"middle\"),u(n,\"width\",e[2]),u(n,\"height\",e[1]),u(t,\"id\",\"dataset-icon-container\"),u(t,\"class\",\"svelte-1l0422m\"),Y(()=>e[9].call(t))},m(f,d){L(f,t,d),x(t,n);for(let c=0;c<s.length;c+=1)s[c]&&s[c].m(n,null);x(n,r),x(r,i),l=et(t,e[9].bind(t))},p(f,[d]){if(d&177){a=f[0];let c;for(c=0;c<a.length;c+=1){const m=Nr(f,a,c);s[c]?s[c].p(m,d):(s[c]=zr(m),s[c].c(),s[c].m(n,r))}for(;c<s.length;c+=1)s[c].d(1);s.length=a.length}d&8&&o!==(o=(f[3]+f[6].left)/2)&&u(r,\"x\",o),d&4&&u(n,\"width\",f[2]),d&2&&u(n,\"height\",f[1])},i:K,o:K,d(f){f&&I(t),Z(s,f),l()}}}function xl(e,t,n){let r,i,o,l,{data:a}=t,s=300,f=300,d={top:0,bottom:0,left:0,right:0};const c=St().domain([-1,1]).range([\"#f46ebb\",\"#2074d5\"]);function m(){f=this.offsetWidth,s=this.offsetHeight,n(2,f),n(1,s)}return e.$$set=b=>{\"data\"in b&&n(0,a=b.data)},e.$$.update=()=>{e.$$.dirty&4&&n(3,r=f-d.left-d.right),e.$$.dirty&2&&n(8,i=s-d.top-d.bottom),e.$$.dirty&9&&n(5,o=fe().domain([1.1*st(a.map(b=>b.x1)),ze(a.map(b=>b.x1))*1.1]).range([d.left,r-d.right])),e.$$.dirty&257&&n(4,l=fe().domain([1.1*st(a.map(b=>b.x2)),ze(a.map(b=>b.x2))*1.1]).range([i-d.bottom,d.top]))},[a,s,f,r,l,o,d,c,i,m]}class $l extends Ne{constructor(t){super(),Me(this,t,xl,kl,ge,{data:0})}}const Gl=\"\";function jr(e,t,n){const r=e.slice();return r[5]=t[n],r[7]=n,r}function qr(e){let t,n,r,i,o,l;n=new $l({props:{data:e[5]}});function a(){return e[2](e[5],e[7])}function s(){return e[3](e[5],e[7])}return{c(){t=O(\"div\"),Be(n.$$.fragment),r=ue(),u(t,\"class\",\"dataset-icon svelte-2nl0ai\"),be(t,\"selected\",e[0]==e[7])},m(f,d){L(f,t,d),xe(n,t,null),x(t,r),i=!0,o||(l=[ie(t,\"click\",a),ie(t,\"keydown\",s)],o=!0)},p(f,d){e=f,(!i||d&1)&&be(t,\"selected\",e[0]==e[7])},i(f){i||(R(n.$$.fragment,f),i=!0)},o(f){V(n.$$.fragment,f),i=!1},d(f){f&&I(t),$e(n),o=!1,re(l)}}}function Ml(e){let t,n,r=[Yt,vr,Jt],i=[];for(let l=0;l<3;l+=1)i[l]=qr(jr(e,r,l));const o=l=>V(i[l],1,1,()=>{i[l]=null});return{c(){t=O(\"div\");for(let l=0;l<3;l+=1)i[l].c();u(t,\"class\",\"dataset-icons svelte-2nl0ai\")},m(l,a){L(l,t,a);for(let s=0;s<3;s+=1)i[s]&&i[s].m(t,null);n=!0},p(l,[a]){if(a&3){r=[Yt,vr,Jt];let s;for(s=0;s<3;s+=1){const f=jr(l,r,s);i[s]?(i[s].p(f,a),R(i[s],1)):(i[s]=qr(f),i[s].c(),R(i[s],1),i[s].m(t,null))}for(oe(),s=3;s<3;s+=1)o(s);ae()}},i(l){if(!n){for(let a=0;a<3;a+=1)R(i[a]);n=!0}},o(l){i=i.filter(Boolean);for(let a=0;a<3;a+=1)V(i[a]);n=!1},d(l){l&&I(t),Z(i,l)}}}function Nl(e,t,n){let r;W(e,vt,s=>n(4,r=s));function i(s,f){n(0,o=f),F(vt,r=s,r)}let o=2;return[o,i,(s,f)=>i(s,f),(s,f)=>i(s,f)]}class zl extends Ne{constructor(t){super(),Me(this,t,Nl,Ml,ge,{})}}const Yl=\"\";function jl(e){let t,n,r,i=e[0]-2+\"\",o,l,a,s,f,d,c,m;return{c(){t=O(\"div\"),n=O(\"p\"),r=G(\"# Hidden Layers: \"),o=G(i),l=ue(),a=O(\"div\"),s=O(\"button\"),s.textContent=\"+\",f=ue(),d=O(\"button\"),d.textContent=\"-\",u(n,\"id\",\"interactive-p\"),u(n,\"class\",\"svelte-vyu3r0\"),u(s,\"id\",\"interactive-button\"),u(s,\"class\",\"svelte-vyu3r0\"),u(d,\"id\",\"interactive-button\"),u(d,\"class\",\"svelte-vyu3r0\"),u(a,\"class\",\"button-container svelte-vyu3r0\"),u(t,\"id\",\"layer-controls\"),u(t,\"class\",\"svelte-vyu3r0\")},m(b,p){L(b,t,p),x(t,n),x(n,r),x(n,o),x(t,l),x(t,a),x(a,s),x(a,f),x(a,d),c||(m=[ie(s,\"click\",e[1]),ie(d,\"click\",e[2])],c=!0)},p(b,[p]){p&1&&i!==(i=b[0]-2+\"\")&&ye(o,i)},i:K,o:K,d(b){b&&I(t),c=!1,re(m)}}}function ql(e,t,n){let r,i,o,l;W(e,_e,d=>n(3,r=d)),W(e,me,d=>n(4,i=d)),W(e,Ft,d=>n(0,o=d)),W(e,Ae,d=>n(5,l=d));function a(){const d=Xt(i),c=Array.from({length:d},(m,b)=>{const p=i[b%(i.length-1)];return{data:Math.random()*Math.sqrt(2/p)/4,grad:0}});F(Ae,l=[...c],l)}function s(){if(o<6){let d=[...i];d.splice(-1,0,1),F(me,i=[...d],i),a(),F(_e,r=!1,r)}}function f(){if(o>3){const d=o-2;let c=[...i];c.splice(d,1),F(me,i=[...c],i),a(),F(_e,r=!1,r)}}return[o,s,f]}class Al extends Ne{constructor(t){super(),Me(this,t,ql,jl,ge,{})}}const Pl=e=>typeof e==\"number\",kt=e=>Pl(e)?new le(e):e;function Zt(e,t){return Array.from(Array(t-e).keys()).map(n=>e+n)}class le{constructor(t,n=[],r=\"w\",i=\"\"){this.data=t,this.children=n,this.op=i,this.param=r,this._backward=function(){return null},this.grad=0}add(t){const n=this,r=kt(t),i=new le(this.data+r.data,[this,r],\"+\");return i._backward=function(){n.grad+=i.grad,r.grad+=i.grad},i}mul(t){const n=kt(t),r=this,i=new le(this.data*n.data,[this,n],\"*\");return i._backward=function(){r.grad+=n.data*i.grad,n.grad+=r.data*i.grad},i}pow(t){const n=t,r=this,i=new le(Math.pow(this.data,n),[this],\"**\"+n.toString());return i._backward=function(){r.grad+=n*Math.pow(r.data,n-1)*i.grad},i}relu(){const t=this,n=new le(this.data<0?0:this.data,[this],\"ReLU\");return n._backward=function(){t.grad+=(n.data>0?1:0)*n.grad},n}backward(){const t=[],n=new Set,r=function(i){if(!n.has(i)){n.add(i);for(const o of i.children)r(o);t.push(i)}};r(this),this.grad=1,t.slice().reverse().forEach(function(i){i._backward()})}toString(){return`Value(data=${this.data}, grad=${this.grad}, op=${this.op})`}}class Kt{parameters(){return[]}call_value_(t){return[new le(0)]}call_number_(t){const n=Array.from(Zt(0,t.length),r=>kt(t[r]));return this.call_value_(n)}call(t){return typeof t[0]==\"number\"?this.call_number_(t):this.call_value_(t)}zero_grad(){this.parameters().forEach(function(t){t.grad=0})}}class Sl extends Kt{constructor(t,n=!0){super(),this.w=Array.from(Zt(0,t),r=>new le(Math.random()*2-1)),this.b=new le(0),this.b.param=\"b\",this.nonlin=n}call_value_(t){if(t.length!=this.w.length)throw new Error(\"Different sizes\");const n=this.w.map(function(r,i){return r.mul(t[i])}).reduce((r,i)=>r.add(i),new le(0)).add(this.b);return this.nonlin?[n.relu()]:[n]}parameters(){return this.w.concat([this.b])}toString(){return\"${this.nonlin? 'ReLU': 'Linear'}Neuron(${this.w.length})\"}}class El extends Kt{constructor(t,n,r=!0){super(),this.neurons=Array.from(Zt(0,n),i=>new Sl(t,r))}call_value_(t){return Array.from(this.neurons,r=>r.call(t)[0])}parameters(){const t=[];for(const n of this.neurons)for(const r of n.parameters())t.push(r);return t}toString(){return\"Layer of\"}}class Ar extends Kt{constructor(t,n){super();const r=[t].concat(n);this.layers=Array.from(n.keys(),i=>new El(r[i],r[i+1],i!=n.length-1))}call_value_(t){let n=this.layers[0].call(t);for(let r=1;r<this.layers.length;r++)n=this.layers[r].call(n);return n}parameters(){const t=[];for(const n of this.layers)for(const r of n.parameters())t.push(r);return t}save(){return this}}const Jl=\"\";function Il(e){let t,n,r,i,o,l,a,s,f,d,c,m,b,p,v,_,g,h,y,w,z,T,J,H,U,B,q,S,C,E,P,D;return l=new Al({}),s=new ul({}),J=new zl({}),B=new vl({props:{data:e[0],nnModel:e[2]}}),C=new dl({}),{c(){t=O(\"div\"),n=O(\"section\"),r=O(\"div\"),i=O(\"div\"),o=O(\"div\"),Be(l.$$.fragment),a=ue(),Be(s.$$.fragment),f=ue(),d=O(\"div\"),c=O(\"div\"),m=O(\"button\"),b=G(\"Run Epoch\"),p=ue(),v=O(\"button\"),_=G(\"Retrain\"),g=ue(),h=O(\"div\"),y=G(`Animation Duration:\n",
       "                `),w=O(\"input\"),z=ue(),T=O(\"div\"),Be(J.$$.fragment),H=ue(),U=O(\"div\"),Be(B.$$.fragment),q=ue(),S=O(\"div\"),Be(C.$$.fragment),m.disabled=e[1],u(m,\"class\",\"svelte-wdmqkz\"),be(m,\"active\",e[4]),v.disabled=e[1],u(v,\"class\",\"svelte-wdmqkz\"),be(v,\"active\",e[4]),w.disabled=e[1],u(w,\"class\",\"input-duration svelte-wdmqkz\"),u(w,\"type\",\"range\"),u(w,\"min\",\"0.05\"),u(w,\"max\",\"2\"),u(w,\"step\",\"0.05\"),u(h,\"id\",\"animation-duration-input\"),u(h,\"class\",\"svelte-wdmqkz\"),u(c,\"id\",\"play-button\"),u(c,\"class\",\"svelte-wdmqkz\"),u(d,\"id\",\"animation-controls\"),u(d,\"class\",\"svelte-wdmqkz\"),u(o,\"id\",\"left\"),u(o,\"class\",\"svelte-wdmqkz\"),u(i,\"class\",\"network-plot svelte-wdmqkz\"),u(U,\"id\",\"scatter-plot\"),u(U,\"class\",\"svelte-wdmqkz\"),u(S,\"id\",\"error-plot\"),u(S,\"class\",\"svelte-wdmqkz\"),u(T,\"id\",\"eval-container\"),u(T,\"class\",\"svelte-wdmqkz\"),u(r,\"id\",\"lol-container\"),u(r,\"class\",\"svelte-wdmqkz\"),u(n,\"class\",\"svelte-wdmqkz\"),u(t,\"id\",\"all\")},m(N,M){L(N,t,M),x(t,n),x(n,r),x(r,i),x(i,o),xe(l,o,null),x(o,a),xe(s,o,null),x(o,f),x(o,d),x(d,c),x(c,m),x(m,b),x(c,p),x(c,v),x(v,_),x(c,g),x(c,h),x(h,y),x(h,w),fn(w,e[3]),x(r,z),x(r,T),xe(J,T,null),x(T,H),x(T,U),xe(B,U,null),x(T,q),x(T,S),xe(C,S,null),E=!0,P||(D=[ie(m,\"click\",e[11]),ie(v,\"click\",e[12]),ie(w,\"change\",e[13]),ie(w,\"input\",e[13])],P=!0)},p(N,[M]){(!E||M&2)&&(m.disabled=N[1]),(!E||M&16)&&be(m,\"active\",N[4]),(!E||M&2)&&(v.disabled=N[1]),(!E||M&16)&&be(v,\"active\",N[4]),(!E||M&2)&&(w.disabled=N[1]),M&8&&fn(w,N[3]);const k={};M&1&&(k.data=N[0]),M&4&&(k.nnModel=N[2]),B.$set(k)},i(N){E||(R(l.$$.fragment,N),R(s.$$.fragment,N),R(J.$$.fragment,N),R(B.$$.fragment,N),R(C.$$.fragment,N),E=!0)},o(N){V(l.$$.fragment,N),V(s.$$.fragment,N),V(J.$$.fragment,N),V(B.$$.fragment,N),V(C.$$.fragment,N),E=!1},d(N){N&&I(t),$e(l),$e(s),$e(J),$e(B),$e(C),P=!1,re(D)}}}let Ll=1;var Rl=1e-4;function Pr(e,t){return Array.from(Array(t-e).keys()).map(n=>e+n)}function Bl(e,t,n){let r,i,o,l,a,s,f,d,c,m,b,p,v,_,g,h,y,w,z;W(e,me,M=>n(10,d=M)),W(e,vt,M=>n(0,c=M)),W(e,yt,M=>n(18,m=M)),W(e,wt,M=>n(19,b=M)),W(e,Ut,M=>n(20,p=M)),W(e,Tt,M=>n(21,v=M)),W(e,Ae,M=>n(22,_=M)),W(e,_e,M=>n(23,g=M)),W(e,Ft,M=>n(24,h=M)),W(e,bt,M=>n(3,y=M)),W(e,Vt,M=>n(25,w=M)),W(e,Dn,M=>n(4,z=M));function T(){const M=Xt(d),k=Array.from({length:M},(A,$)=>{const ee=d[$%(d.length-1)];return{data:Math.random()*Math.sqrt(2/ee)/4,grad:0}});F(Ae,_=[...k],_)}F(vt,c=Jt,c);let J=!1;function H(){F(Dn,z=!z,z);let M=[];v.forEach(k=>{const A=`animateMotion#animatePath1${k}`,$=w.querySelectorAll(A);M.push({selection:$,p:k})}),M.forEach(k=>{setTimeout(()=>{k.selection.forEach(A=>{A.beginElement()})},k.p*100)})}function U(){n(1,J=!0),setTimeout(()=>{n(1,J=!1)},y*1e3*(h+1))}function B(){q(),E(),H(),U(),F(_e,g=!0,g)}function q(){const A=o.parameters().filter($=>$.param===\"w\").map($=>({data:$.data,grad:$.grad}));console.log(`new model weights:\n",
       "`,A),F(Ae,_=[...A],_)}var S=0;function C(){S=0,n(2,o=new Ar(r,i));const M={x:S,loss:0,y:0},k=p.map(function(A){return o.call(A),-1});F(wt,b=[...k],b),F(yt,m=[M],m),T()}function E(){let M=f.map(function(X){return o.call(X)}),k=Pr(0,M.length).map(function(X){return M[X][0].mul(-s[X]).add(1).relu()}),A=k.reduce(function(X,pe){return X.add(pe)},new le(0)).mul(1/k.length),$=o.parameters().map(function(X){return X.mul(X)}).reduce(function(X,pe){return X.add(pe)},new le(0)).mul(Rl),ee=A.add($),Qt=Pr(0,M.length).map(function(X){return M[X][0].data>0==s[X]>0?1:0}),Hl=Qt.reduce(function(X,pe){return X+pe},0)/Qt.length;o.zero_grad(),ee.backward();let Dl=1-.9*S/100;for(let X=0,pe=o.parameters();X<pe.length;X++){let Sr=pe[X];Sr.data-=Dl*Sr.grad}const Wl={x:S+1,loss:ee.data,y:Hl*100},Ol=p.map(function(X){return o.call(X)[0].data>0?1:-1});F(wt,b=[...Ol],b),F(yt,m=[...m,Wl],m),S++}un(()=>{q()});const P=()=>{B()},D=()=>{C()};function N(){y=Rr(this.value),bt.set(y)}return e.$$.update=()=>{e.$$.dirty&1024&&(i=d.slice(1)),e.$$.dirty&1152&&n(2,o=new Ar(r,d.slice(1))),e.$$.dirty&1&&n(9,l=ll(c)),e.$$.dirty&512&&n(8,[a,s]=l,a),e.$$.dirty&256&&(f=a.map(function(M){return M.map(function(k){return kt(k)})})),e.$$.dirty&1025&&C()},F(Tt,v=[...Array(Ll).keys()],v),n(7,r=2),[c,J,o,y,z,B,C,r,a,l,d,P,D,N]}class Cl extends Ne{constructor(t){super(),Me(this,t,Bl,Il,ge,{})}}return Cl}();\n",
       "</script>\n",
       "        \n",
       "        <div id=\"NeuralNetwork-25871a19\"></div>\n",
       "        <script>\n",
       "        (() => {\n",
       "            var data = 0;\n",
       "            window.NeuralNetwork_data = data;\n",
       "            var NeuralNetwork_inst = new NeuralNetwork({\n",
       "                \"target\": document.getElementById(\"NeuralNetwork-25871a19\"),\n",
       "                \"props\": data\n",
       "            });\n",
       "        })();\n",
       "        </script>\n",
       "        \n",
       "        "
      ],
      "text/plain": [
       "<MLUDTI_M1_Lab3_neural_network.NeuralNetwork at 0x7f8d199ecb20>"
      ]
     },
     "execution_count": 19,
     "metadata": {},
     "output_type": "execute_result"
    }
   ],
   "source": [
    "NeuralNetwork()"
   ]
  },
  {
   "cell_type": "markdown",
   "metadata": {},
   "source": [
    "Now you need to build a PyTorch neural network and use it to fit to the training data. As part of the training, you need to use the validation data to check performance at the end of each training iteration.\n",
    "\n",
    "<div style=\"border: 4px solid coral; text-align: center; margin: auto;\">\n",
    "    <h3><i>Try it yourself!</i></h3>\n",
    "    <br>\n",
    "    <p style=\"text-align:center;margin:auto;\"><img src=\"images/activity.png\" alt=\"Activity\" width=\"100\" /> </p>\n",
    "    <p style=\"text-align: center; margin: auto;\">To define the hyperparameters of the algorithm, run the following cell. Note how the data is loaded into PyTorch tensors. Observe how the DataLoader is defined. The DataLoader is used to load the data in batches during training.</p>\n",
    "    <br>\n",
    "</div>"
   ]
  },
  {
   "cell_type": "code",
   "execution_count": 20,
   "metadata": {
    "tags": []
   },
   "outputs": [
    {
     "data": {
      "text/plain": [
       "device(type='cuda', index=0)"
      ]
     },
     "execution_count": 20,
     "metadata": {},
     "output_type": "execute_result"
    }
   ],
   "source": [
    "# Define the hyperparamaters\n",
    "batch_size = 16\n",
    "num_epochs = 15\n",
    "learning_rate = 0.001\n",
    "device = torch.device(\"cuda:0\" if torch.cuda.is_available() else \"cpu\")\n",
    "\n",
    "# Convert the data into PyTorch tensors\n",
    "\n",
    "X_train = torch.tensor(X_train, dtype=torch.float32).to(device)\n",
    "X_val = torch.tensor(X_val, dtype=torch.float32).to(device)\n",
    "X_test = torch.tensor(X_test, dtype=torch.float32).to(device)\n",
    "\n",
    "y_train = torch.tensor(y_train, dtype=torch.long).to(device)\n",
    "y_val = torch.tensor(y_val, dtype=torch.long).to(device)\n",
    "y_test = torch.tensor(y_test, dtype=torch.long).to(device)\n",
    "\n",
    "# Use PyTorch DataLoaders to load the data in batches\n",
    "train_dataset = torch.utils.data.TensorDataset(X_train, y_train)\n",
    "train_loader = torch.utils.data.DataLoader(train_dataset,\n",
    "                                           batch_size=batch_size,\n",
    "                                           drop_last=True)\n",
    "\n",
    "val_dataset = torch.utils.data.TensorDataset(X_val, y_val)\n",
    "val_loader = torch.utils.data.DataLoader(val_dataset,\n",
    "                                         batch_size=batch_size,\n",
    "                                         drop_last=True)\n",
    "device"
   ]
  },
  {
   "cell_type": "markdown",
   "metadata": {},
   "source": [
    "<div style=\"border: 4px solid coral; text-align: center; margin: auto;\"> \n",
    "    <h3><i>Try it yourself!</i></h3>\n",
    "    <p style=\"text-align:center; margin:auto;\"><img src=\"images/challenge.png\" alt=\"Challenge\" width=\"100\" /> </p>\n",
    "    <p style=\" text-align: center; margin: auto;\">Create a multilayer perceptron by using the <code>Sequential</code> module with the following attributes: </p> <br>\n",
    "<p style=\" text-align: center; margin: auto;\">1. Use two hidden layers, both of size 64.</p>\n",
    "<p style=\" text-align: center; margin: auto;\">2. Attach a dropout layer to each hidden layer.</p>\n",
    "<p style=\" text-align: center; margin: auto;\">3. Use a ReLU activation for each hidden layer.</p>\n",
    "<p style=\" text-align: center; margin: auto;\">4. Create one output layer.</p>\n",
    "    <br>\n",
    "</div>"
   ]
  },
  {
   "cell_type": "code",
   "execution_count": 25,
   "metadata": {
    "tags": []
   },
   "outputs": [
    {
     "data": {
      "text/plain": [
       "Sequential(\n",
       "  (0): Linear(in_features=171, out_features=64, bias=True)\n",
       "  (1): ReLU()\n",
       "  (2): Dropout(p=0.4, inplace=False)\n",
       "  (3): Linear(in_features=64, out_features=64, bias=True)\n",
       "  (4): ReLU()\n",
       "  (5): Dropout(p=0.3, inplace=False)\n",
       "  (6): Linear(in_features=64, out_features=2, bias=True)\n",
       ")"
      ]
     },
     "execution_count": 25,
     "metadata": {},
     "output_type": "execute_result"
    }
   ],
   "source": [
    "# Create a multilayer perceptron by using the Sequential module. Add the following in sequence:\n",
    "# Two hidden layers of size 64\n",
    "# Dropout layers attached to the hidden layers\n",
    "# ReLU activation functions\n",
    "# One output layer\n",
    "\n",
    "############### CODE HERE ###############\n",
    "\n",
    "input_size = X_train.shape[1]\n",
    "#num_classes = 2\n",
    "output_size = 2\n",
    "\n",
    "# Calculate the size of the flattened layer\n",
    "# The formula depends on the input size and the parameters of the Conv2D layer\n",
    "# Assuming a stride of 1 and no padding, the output size of each dimension after the Conv2D layer is (input_size - kernel_size + 1)\n",
    "#conv_output_size = (input_size - 3 + 1) ** 2 * 32  # 32 is the number of output channels\n",
    "\n",
    "\"\"\"\n",
    "net = nn.Sequential(\n",
    "    nn.Conv2d(in_channels=1, out_channels=32, kernel_size=3),\n",
    "    nn.ReLU(),\n",
    "    nn.Flatten(),\n",
    "    nn.Linear(conv_output_size, 128),\n",
    "    nn.ReLU(),\n",
    "    nn.Linear(128, num_classes),\n",
    "    nn.Softmax()\n",
    ")\n",
    "\"\"\"\n",
    "net = nn.Sequential(\n",
    "    # First hidden layer\n",
    "    nn.Linear(in_features=input_size, out_features=64),  # Replace `input_size` with your input size\n",
    "    nn.ReLU(),\n",
    "    #nn.Dropout(0.5),\n",
    "    nn.Dropout(p = 0.4),    # 40 percent\n",
    "    # Second hidden layer\n",
    "    nn.Linear(64, 64),\n",
    "    nn.ReLU(),\n",
    "    #nn.Dropout(0.5),\n",
    "    nn.Dropout(p = 0.3),    # 30 percent\n",
    "    # Output layer\n",
    "    nn.Linear(64, output_size)  # Replace `output_size` with the number of your output classes\n",
    ").to(device)\n",
    "\n",
    "\n",
    "############## END OF CODE ##############\n",
    "\n",
    "\n",
    "def xavier_init_weights(m):\n",
    "    if type(m) == nn.Linear:\n",
    "        torch.nn.init.xavier_uniform_(m.weight)\n",
    "\n",
    "\n",
    "net.apply(xavier_init_weights)"
   ]
  },
  {
   "cell_type": "code",
   "execution_count": 26,
   "metadata": {
    "tags": []
   },
   "outputs": [],
   "source": [
    "# Define the loss function and the optimizer\n",
    "# Choose cross-entropy loss for this classification problem\n",
    "loss = nn.CrossEntropyLoss()\n",
    "\n",
    "# Optimize with stochastic gradient descent. You can experiment with other optimizers.\n",
    "optimizer = torch.optim.SGD(net.parameters(), lr=learning_rate)"
   ]
  },
  {
   "cell_type": "markdown",
   "metadata": {},
   "source": [
    "<div style=\"border: 4px solid coral; text-align: center; margin: auto;\">\n",
    "    <h3><i>Try it yourself!</i></h3>\n",
    "    <br>\n",
    "    <p style=\"text-align:center;margin:auto;\"><img src=\"images/activity.png\" alt=\"Activity\" width=\"100\" /> </p>\n",
    "    <p style=\" text-align: center; margin: auto;\">To train the network, run the following cell. Watch how the training and validation loss change for each epoch.</p>\n",
    "    <br>\n",
    "</div>"
   ]
  },
  {
   "cell_type": "code",
   "execution_count": 27,
   "metadata": {
    "tags": []
   },
   "outputs": [
    {
     "name": "stdout",
     "output_type": "stream",
     "text": [
      "Epoch 0. Train_loss 0.642918 Validation_loss 0.565680 Seconds 16.062835\n",
      "Epoch 1. Train_loss 0.552202 Validation_loss 0.474820 Seconds 4.509893\n",
      "Epoch 2. Train_loss 0.497483 Validation_loss 0.443819 Seconds 4.649142\n",
      "Epoch 3. Train_loss 0.473968 Validation_loss 0.434936 Seconds 4.620003\n",
      "Epoch 4. Train_loss 0.462879 Validation_loss 0.430313 Seconds 4.589993\n",
      "Epoch 5. Train_loss 0.454005 Validation_loss 0.427804 Seconds 4.592375\n",
      "Epoch 6. Train_loss 0.449191 Validation_loss 0.425981 Seconds 4.610003\n",
      "Epoch 7. Train_loss 0.446426 Validation_loss 0.424917 Seconds 4.586667\n",
      "Epoch 8. Train_loss 0.442533 Validation_loss 0.423767 Seconds 4.633833\n",
      "Epoch 9. Train_loss 0.440957 Validation_loss 0.423062 Seconds 4.863455\n",
      "Epoch 10. Train_loss 0.438682 Validation_loss 0.422318 Seconds 4.771560\n",
      "Epoch 11. Train_loss 0.434879 Validation_loss 0.421614 Seconds 4.571795\n",
      "Epoch 12. Train_loss 0.434225 Validation_loss 0.420950 Seconds 4.610446\n",
      "Epoch 13. Train_loss 0.432753 Validation_loss 0.420441 Seconds 4.551708\n",
      "Epoch 14. Train_loss 0.431406 Validation_loss 0.419900 Seconds 4.554403\n"
     ]
    }
   ],
   "source": [
    "import time\n",
    "\n",
    "######################\n",
    "# Network training and validation\n",
    "\n",
    "# Start the outer epoch loop (epoch = full pass through the dataset)\n",
    "for epoch in range(num_epochs):\n",
    "    start = time.time()\n",
    "\n",
    "    training_loss, validation_loss = 0.0, 0.0\n",
    "\n",
    "    # Training loop (with autograd and trainer steps)\n",
    "    # This loop trains the neural network\n",
    "    # Weights are updated here\n",
    "    net.train()  # Activate training mode (dropouts and so on)\n",
    "    for data, target in train_loader:\n",
    "        # Zero the parameter gradients\n",
    "        optimizer.zero_grad()\n",
    "        data = data.to(device)\n",
    "        target = target.to(device)\n",
    "        # Forward + backward + optimize\n",
    "        output = net(data)\n",
    "        L = loss(output, target)\n",
    "        L.backward()\n",
    "        optimizer.step()\n",
    "        # Add batch loss\n",
    "        training_loss += L.item()\n",
    "\n",
    "    net.eval()  # Activate eval mode (don't use dropouts and so on)\n",
    "    for data, target in val_loader:\n",
    "        data = data.to(device)\n",
    "        target = target.to(device)\n",
    "        output = net(data)\n",
    "        L = loss(output, target)\n",
    "        # Add batch loss\n",
    "        validation_loss += L.item()\n",
    "\n",
    "    # Take the average losses\n",
    "    training_loss = training_loss / len(train_loader)\n",
    "    val_loss = validation_loss / len(val_loader)\n",
    "\n",
    "    end = time.time()\n",
    "    print(\n",
    "        \"Epoch %s. Train_loss %f Validation_loss %f Seconds %f\"\n",
    "        % (epoch, training_loss, val_loss, end - start)\n",
    "    )"
   ]
  },
  {
   "cell_type": "markdown",
   "metadata": {
    "tags": []
   },
   "source": [
    "---\n",
    "## Testing the neural network\n",
    "\n",
    "Now you can evaluate the performance of the trained network on the test set."
   ]
  },
  {
   "cell_type": "code",
   "execution_count": 28,
   "metadata": {
    "tags": []
   },
   "outputs": [
    {
     "name": "stdout",
     "output_type": "stream",
     "text": [
      "              precision    recall  f1-score   support\n",
      "\n",
      "           0       0.87      0.71      0.78      6267\n",
      "           1       0.80      0.91      0.86      8053\n",
      "\n",
      "    accuracy                           0.83     14320\n",
      "   macro avg       0.83      0.81      0.82     14320\n",
      "weighted avg       0.83      0.83      0.82     14320\n",
      "\n"
     ]
    }
   ],
   "source": [
    "from sklearn.metrics import classification_report\n",
    "\n",
    "# Activate eval mode (don't use dropouts and so on)\n",
    "net.eval()\n",
    "\n",
    "# Get test predictions\n",
    "predictions = net(X_test)\n",
    "\n",
    "# Print performance of the test data\n",
    "print(\n",
    "    classification_report(\n",
    "        y_test.cpu().numpy(), predictions.argmax(axis=1).cpu().detach().numpy()\n",
    "    )\n",
    ")"
   ]
  },
  {
   "cell_type": "markdown",
   "metadata": {},
   "source": [
    "---\n",
    "## Improvement ideas\n",
    "\n",
    "You can improve this neural network by tuning network parameters such as the following:\n",
    "  - Architecture\n",
    "  - Number of layers\n",
    "  - Number of hidden neurons\n",
    "  - Choice of activation function\n",
    "  - Weight initialization\n",
    "  - Dropout\n",
    "  - Choice of optimizer function\n",
    "  - Learning rate\n",
    "  - Batch size\n",
    "  - Number of epochs\n",
    "  \n",
    "As you make changes, closely monitor the loss function and the accuracy on both training and validation to identify what changes improve your model."
   ]
  },
  {
   "cell_type": "markdown",
   "metadata": {},
   "source": [
    "----\n",
    "## Conclusion\n",
    "\n",
    "In this notebook, you built a basic neural network to process text data.\n",
    "\n",
    "--- \n",
    "## Next Lab: Introducing CNNs\n",
    "In the next lab in this module you will learn how to build a convolutional neural network to process hand written numbers."
   ]
  }
 ],
 "metadata": {
  "instance_type": "ml.t3.medium",
  "kernelspec": {
   "display_name": "Python 3 (ipykernel)",
   "language": "python",
   "name": "python3"
  },
  "language_info": {
   "codemirror_mode": {
    "name": "ipython",
    "version": 3
   },
   "file_extension": ".py",
   "mimetype": "text/x-python",
   "name": "python",
   "nbconvert_exporter": "python",
   "pygments_lexer": "ipython3",
   "version": "3.8.18"
  },
  "toc": {
   "base_numbering": 1,
   "nav_menu": {},
   "number_sections": true,
   "sideBar": true,
   "skip_h1_title": false,
   "title_cell": "Table of Contents",
   "title_sidebar": "Contents",
   "toc_cell": false,
   "toc_position": {},
   "toc_section_display": true,
   "toc_window_display": false
  }
 },
 "nbformat": 4,
 "nbformat_minor": 4
}
